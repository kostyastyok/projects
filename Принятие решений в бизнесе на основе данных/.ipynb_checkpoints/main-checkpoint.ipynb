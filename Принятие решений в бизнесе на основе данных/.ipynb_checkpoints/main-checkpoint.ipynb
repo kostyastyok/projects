{
 "cells": [
  {
   "cell_type": "markdown",
   "metadata": {},
   "source": [
    "# Принятие решений в бизнесе на основе данных"
   ]
  },
  {
   "cell_type": "markdown",
   "metadata": {},
   "source": [
    "**Описание проекта**"
   ]
  },
  {
   "cell_type": "markdown",
   "metadata": {},
   "source": [
    "Приоритизируйте гипотезы, запустите A/B-тест и проанализируйте результаты."
   ]
  },
  {
   "cell_type": "markdown",
   "metadata": {},
   "source": [
    "Данные для первой части\n",
    "\n",
    "Файл /datasets/hypothesis.csv.\n",
    "\n",
    "- Hypothesis — краткое описание гипотезы;\n",
    "- Reach — охват пользователей по 10-балльной шкале;\n",
    "- Impact — влияние на пользователей по 10-балльной шкале;\n",
    "- Confidence — уверенность в гипотезе по 10-балльной шкале;\n",
    "- Efforts — затраты ресурсов на проверку гипотезы по 10-балльной шкале. Чем больше значение Efforts, тем дороже проверка гипотезы."
   ]
  },
  {
   "cell_type": "markdown",
   "metadata": {},
   "source": [
    "## Часть. Приоритизация гипотез."
   ]
  },
  {
   "cell_type": "markdown",
   "metadata": {},
   "source": [
    "Импортируем библиотеки и подгружаем данные:"
   ]
  },
  {
   "cell_type": "code",
   "execution_count": 1,
   "metadata": {},
   "outputs": [],
   "source": [
    "import pandas as pd\n",
    "import datetime as dt\n",
    "import numpy as np\n",
    "import matplotlib.pyplot as plt\n",
    "import scipy.stats as stats\n",
    "import seaborn as sns"
   ]
  },
  {
   "cell_type": "code",
   "execution_count": 2,
   "metadata": {},
   "outputs": [],
   "source": [
    "hypothesis = pd.read_csv('/datasets/hypothesis.csv')"
   ]
  },
  {
   "cell_type": "code",
   "execution_count": 3,
   "metadata": {},
   "outputs": [],
   "source": [
    "pd.set_option('display.max_colwidth', -1)"
   ]
  },
  {
   "cell_type": "code",
   "execution_count": 4,
   "metadata": {},
   "outputs": [
    {
     "data": {
      "text/html": [
       "<div>\n",
       "<style scoped>\n",
       "    .dataframe tbody tr th:only-of-type {\n",
       "        vertical-align: middle;\n",
       "    }\n",
       "\n",
       "    .dataframe tbody tr th {\n",
       "        vertical-align: top;\n",
       "    }\n",
       "\n",
       "    .dataframe thead th {\n",
       "        text-align: right;\n",
       "    }\n",
       "</style>\n",
       "<table border=\"1\" class=\"dataframe\">\n",
       "  <thead>\n",
       "    <tr style=\"text-align: right;\">\n",
       "      <th></th>\n",
       "      <th>Hypothesis</th>\n",
       "      <th>Reach</th>\n",
       "      <th>Impact</th>\n",
       "      <th>Confidence</th>\n",
       "      <th>Efforts</th>\n",
       "    </tr>\n",
       "  </thead>\n",
       "  <tbody>\n",
       "    <tr>\n",
       "      <td>0</td>\n",
       "      <td>Добавить два новых канала привлечения трафика, что позволит привлекать на 30% больше пользователей</td>\n",
       "      <td>3</td>\n",
       "      <td>10</td>\n",
       "      <td>8</td>\n",
       "      <td>6</td>\n",
       "    </tr>\n",
       "    <tr>\n",
       "      <td>1</td>\n",
       "      <td>Запустить собственную службу доставки, что сократит срок доставки заказов</td>\n",
       "      <td>2</td>\n",
       "      <td>5</td>\n",
       "      <td>4</td>\n",
       "      <td>10</td>\n",
       "    </tr>\n",
       "    <tr>\n",
       "      <td>2</td>\n",
       "      <td>Добавить блоки рекомендаций товаров на сайт интернет магазина, чтобы повысить конверсию и средний чек заказа</td>\n",
       "      <td>8</td>\n",
       "      <td>3</td>\n",
       "      <td>7</td>\n",
       "      <td>3</td>\n",
       "    </tr>\n",
       "    <tr>\n",
       "      <td>3</td>\n",
       "      <td>Изменить структура категорий, что увеличит конверсию, т.к. пользователи быстрее найдут нужный товар</td>\n",
       "      <td>8</td>\n",
       "      <td>3</td>\n",
       "      <td>3</td>\n",
       "      <td>8</td>\n",
       "    </tr>\n",
       "    <tr>\n",
       "      <td>4</td>\n",
       "      <td>Изменить цвет фона главной страницы, чтобы увеличить вовлеченность пользователей</td>\n",
       "      <td>3</td>\n",
       "      <td>1</td>\n",
       "      <td>1</td>\n",
       "      <td>1</td>\n",
       "    </tr>\n",
       "    <tr>\n",
       "      <td>5</td>\n",
       "      <td>Добавить страницу отзывов клиентов о магазине, что позволит увеличить количество заказов</td>\n",
       "      <td>3</td>\n",
       "      <td>2</td>\n",
       "      <td>2</td>\n",
       "      <td>3</td>\n",
       "    </tr>\n",
       "    <tr>\n",
       "      <td>6</td>\n",
       "      <td>Показать на главной странице баннеры с актуальными акциями и распродажами, чтобы увеличить конверсию</td>\n",
       "      <td>5</td>\n",
       "      <td>3</td>\n",
       "      <td>8</td>\n",
       "      <td>3</td>\n",
       "    </tr>\n",
       "    <tr>\n",
       "      <td>7</td>\n",
       "      <td>Добавить форму подписки на все основные страницы, чтобы собрать базу клиентов для email-рассылок</td>\n",
       "      <td>10</td>\n",
       "      <td>7</td>\n",
       "      <td>8</td>\n",
       "      <td>5</td>\n",
       "    </tr>\n",
       "    <tr>\n",
       "      <td>8</td>\n",
       "      <td>Запустить акцию, дающую скидку на товар в день рождения</td>\n",
       "      <td>1</td>\n",
       "      <td>9</td>\n",
       "      <td>9</td>\n",
       "      <td>5</td>\n",
       "    </tr>\n",
       "  </tbody>\n",
       "</table>\n",
       "</div>"
      ],
      "text/plain": [
       "                                                                                                     Hypothesis  \\\n",
       "0  Добавить два новых канала привлечения трафика, что позволит привлекать на 30% больше пользователей             \n",
       "1  Запустить собственную службу доставки, что сократит срок доставки заказов                                      \n",
       "2  Добавить блоки рекомендаций товаров на сайт интернет магазина, чтобы повысить конверсию и средний чек заказа   \n",
       "3  Изменить структура категорий, что увеличит конверсию, т.к. пользователи быстрее найдут нужный товар            \n",
       "4  Изменить цвет фона главной страницы, чтобы увеличить вовлеченность пользователей                               \n",
       "5  Добавить страницу отзывов клиентов о магазине, что позволит увеличить количество заказов                       \n",
       "6  Показать на главной странице баннеры с актуальными акциями и распродажами, чтобы увеличить конверсию           \n",
       "7  Добавить форму подписки на все основные страницы, чтобы собрать базу клиентов для email-рассылок               \n",
       "8  Запустить акцию, дающую скидку на товар в день рождения                                                        \n",
       "\n",
       "   Reach  Impact  Confidence  Efforts  \n",
       "0  3      10      8           6        \n",
       "1  2      5       4           10       \n",
       "2  8      3       7           3        \n",
       "3  8      3       3           8        \n",
       "4  3      1       1           1        \n",
       "5  3      2       2           3        \n",
       "6  5      3       8           3        \n",
       "7  10     7       8           5        \n",
       "8  1      9       9           5        "
      ]
     },
     "execution_count": 4,
     "metadata": {},
     "output_type": "execute_result"
    }
   ],
   "source": [
    "hypothesis"
   ]
  },
  {
   "cell_type": "markdown",
   "metadata": {},
   "source": [
    "Приводим имена столбцов к нижнему регистру:"
   ]
  },
  {
   "cell_type": "code",
   "execution_count": 5,
   "metadata": {},
   "outputs": [],
   "source": [
    "hypothesis.columns = [x.lower() for x in hypothesis.columns]"
   ]
  },
  {
   "cell_type": "code",
   "execution_count": 6,
   "metadata": {},
   "outputs": [
    {
     "name": "stdout",
     "output_type": "stream",
     "text": [
      "<class 'pandas.core.frame.DataFrame'>\n",
      "RangeIndex: 9 entries, 0 to 8\n",
      "Data columns (total 5 columns):\n",
      "hypothesis    9 non-null object\n",
      "reach         9 non-null int64\n",
      "impact        9 non-null int64\n",
      "confidence    9 non-null int64\n",
      "efforts       9 non-null int64\n",
      "dtypes: int64(4), object(1)\n",
      "memory usage: 488.0+ bytes\n"
     ]
    }
   ],
   "source": [
    "hypothesis.info()"
   ]
  },
  {
   "cell_type": "code",
   "execution_count": 7,
   "metadata": {},
   "outputs": [
    {
     "data": {
      "text/plain": [
       "'for i in hypothesis.columns:\\n    display(hypothesis[i].describe())'"
      ]
     },
     "execution_count": 7,
     "metadata": {},
     "output_type": "execute_result"
    }
   ],
   "source": [
    "'''for i in hypothesis.columns:\n",
    "    display(hypothesis[i].describe())'''"
   ]
  },
  {
   "cell_type": "markdown",
   "metadata": {},
   "source": [
    "### Применим фреймворк ICE для приоритизации гипотез. Отсортируем их по убыванию приоритета."
   ]
  },
  {
   "cell_type": "markdown",
   "metadata": {},
   "source": [
    "- Impact — насколько сильно изменение повлияет на пользователей, их опыт и удовлетворение от продукта;\n",
    "- Confidence — насколько вы уверены, что это изменение повлияет на пользователей именно так;\n",
    "- Efforts — сколько стоит протестировать эту гипотезу."
   ]
  },
  {
   "cell_type": "code",
   "execution_count": 8,
   "metadata": {},
   "outputs": [],
   "source": [
    "hypothesis['ICE'] = ((hypothesis['impact'] * hypothesis['confidence'])/hypothesis['efforts']).round(2)"
   ]
  },
  {
   "cell_type": "code",
   "execution_count": 9,
   "metadata": {},
   "outputs": [
    {
     "data": {
      "text/html": [
       "<div>\n",
       "<style scoped>\n",
       "    .dataframe tbody tr th:only-of-type {\n",
       "        vertical-align: middle;\n",
       "    }\n",
       "\n",
       "    .dataframe tbody tr th {\n",
       "        vertical-align: top;\n",
       "    }\n",
       "\n",
       "    .dataframe thead th {\n",
       "        text-align: right;\n",
       "    }\n",
       "</style>\n",
       "<table border=\"1\" class=\"dataframe\">\n",
       "  <thead>\n",
       "    <tr style=\"text-align: right;\">\n",
       "      <th></th>\n",
       "      <th>hypothesis</th>\n",
       "      <th>ICE</th>\n",
       "    </tr>\n",
       "  </thead>\n",
       "  <tbody>\n",
       "    <tr>\n",
       "      <td>8</td>\n",
       "      <td>Запустить акцию, дающую скидку на товар в день рождения</td>\n",
       "      <td>16.20</td>\n",
       "    </tr>\n",
       "    <tr>\n",
       "      <td>0</td>\n",
       "      <td>Добавить два новых канала привлечения трафика, что позволит привлекать на 30% больше пользователей</td>\n",
       "      <td>13.33</td>\n",
       "    </tr>\n",
       "    <tr>\n",
       "      <td>7</td>\n",
       "      <td>Добавить форму подписки на все основные страницы, чтобы собрать базу клиентов для email-рассылок</td>\n",
       "      <td>11.20</td>\n",
       "    </tr>\n",
       "    <tr>\n",
       "      <td>6</td>\n",
       "      <td>Показать на главной странице баннеры с актуальными акциями и распродажами, чтобы увеличить конверсию</td>\n",
       "      <td>8.00</td>\n",
       "    </tr>\n",
       "    <tr>\n",
       "      <td>2</td>\n",
       "      <td>Добавить блоки рекомендаций товаров на сайт интернет магазина, чтобы повысить конверсию и средний чек заказа</td>\n",
       "      <td>7.00</td>\n",
       "    </tr>\n",
       "    <tr>\n",
       "      <td>1</td>\n",
       "      <td>Запустить собственную службу доставки, что сократит срок доставки заказов</td>\n",
       "      <td>2.00</td>\n",
       "    </tr>\n",
       "    <tr>\n",
       "      <td>5</td>\n",
       "      <td>Добавить страницу отзывов клиентов о магазине, что позволит увеличить количество заказов</td>\n",
       "      <td>1.33</td>\n",
       "    </tr>\n",
       "    <tr>\n",
       "      <td>3</td>\n",
       "      <td>Изменить структура категорий, что увеличит конверсию, т.к. пользователи быстрее найдут нужный товар</td>\n",
       "      <td>1.12</td>\n",
       "    </tr>\n",
       "    <tr>\n",
       "      <td>4</td>\n",
       "      <td>Изменить цвет фона главной страницы, чтобы увеличить вовлеченность пользователей</td>\n",
       "      <td>1.00</td>\n",
       "    </tr>\n",
       "  </tbody>\n",
       "</table>\n",
       "</div>"
      ],
      "text/plain": [
       "                                                                                                     hypothesis  \\\n",
       "8  Запустить акцию, дающую скидку на товар в день рождения                                                        \n",
       "0  Добавить два новых канала привлечения трафика, что позволит привлекать на 30% больше пользователей             \n",
       "7  Добавить форму подписки на все основные страницы, чтобы собрать базу клиентов для email-рассылок               \n",
       "6  Показать на главной странице баннеры с актуальными акциями и распродажами, чтобы увеличить конверсию           \n",
       "2  Добавить блоки рекомендаций товаров на сайт интернет магазина, чтобы повысить конверсию и средний чек заказа   \n",
       "1  Запустить собственную службу доставки, что сократит срок доставки заказов                                      \n",
       "5  Добавить страницу отзывов клиентов о магазине, что позволит увеличить количество заказов                       \n",
       "3  Изменить структура категорий, что увеличит конверсию, т.к. пользователи быстрее найдут нужный товар            \n",
       "4  Изменить цвет фона главной страницы, чтобы увеличить вовлеченность пользователей                               \n",
       "\n",
       "     ICE  \n",
       "8  16.20  \n",
       "0  13.33  \n",
       "7  11.20  \n",
       "6  8.00   \n",
       "2  7.00   \n",
       "1  2.00   \n",
       "5  1.33   \n",
       "3  1.12   \n",
       "4  1.00   "
      ]
     },
     "execution_count": 9,
     "metadata": {},
     "output_type": "execute_result"
    }
   ],
   "source": [
    "hypothesis[['hypothesis', 'ICE']].sort_values(by = 'ICE', ascending = False)"
   ]
  },
  {
   "cell_type": "markdown",
   "metadata": {},
   "source": [
    "При даннм фреймворке(ICE) имеем следующую приоритезацию гипотез исходя из значений параметров Impact, Confidence, Efforts"
   ]
  },
  {
   "cell_type": "markdown",
   "metadata": {},
   "source": [
    "### Применим фреймворк RICE для приоритизации гипотез. Отсортируем их по убыванию приоритета."
   ]
  },
  {
   "cell_type": "markdown",
   "metadata": {},
   "source": [
    "- Reach — скольких пользователей затронет изменение, которое вы хотите внести;\n",
    "- Impact — насколько сильно изменение повлияет на пользователей, их опыт и удовлетворение от продукта;\n",
    "- Confidence — насколько вы уверены, что это изменение повлияет на пользователей именно так;\n",
    "- Efforts — сколько стоит протестировать эту гипотезу."
   ]
  },
  {
   "cell_type": "code",
   "execution_count": 10,
   "metadata": {},
   "outputs": [],
   "source": [
    "hypothesis['RICE'] = (hypothesis['reach'] * hypothesis['impact']\n",
    "                * hypothesis['confidence'])/hypothesis['efforts']"
   ]
  },
  {
   "cell_type": "code",
   "execution_count": 11,
   "metadata": {
    "scrolled": false
   },
   "outputs": [],
   "source": [
    "#hypothesis[['hypothesis','ICE', 'RICE']].sort_values(by = 'RICE', ascending = False)"
   ]
  },
  {
   "cell_type": "code",
   "execution_count": 12,
   "metadata": {},
   "outputs": [
    {
     "data": {
      "text/html": [
       "<style  type=\"text/css\" >\n",
       "    #T_b6b4d26a_0622_11ec_95f6_02420a393e32row0_col1 {\n",
       "            background-color:  #4caa4c;\n",
       "            color:  #000000;\n",
       "        }    #T_b6b4d26a_0622_11ec_95f6_02420a393e32row0_col2 {\n",
       "            background-color:  #008000;\n",
       "            color:  #f1f1f1;\n",
       "        }    #T_b6b4d26a_0622_11ec_95f6_02420a393e32row1_col1 {\n",
       "            background-color:  #8bcd8b;\n",
       "            color:  #000000;\n",
       "        }    #T_b6b4d26a_0622_11ec_95f6_02420a393e32row1_col2 {\n",
       "            background-color:  #76c176;\n",
       "            color:  #000000;\n",
       "        }    #T_b6b4d26a_0622_11ec_95f6_02420a393e32row2_col1 {\n",
       "            background-color:  #2b982b;\n",
       "            color:  #000000;\n",
       "        }    #T_b6b4d26a_0622_11ec_95f6_02420a393e32row2_col2 {\n",
       "            background-color:  #98d498;\n",
       "            color:  #000000;\n",
       "        }    #T_b6b4d26a_0622_11ec_95f6_02420a393e32row3_col1 {\n",
       "            background-color:  #7cc57c;\n",
       "            color:  #000000;\n",
       "        }    #T_b6b4d26a_0622_11ec_95f6_02420a393e32row3_col2 {\n",
       "            background-color:  #98d498;\n",
       "            color:  #000000;\n",
       "        }    #T_b6b4d26a_0622_11ec_95f6_02420a393e32row4_col1 {\n",
       "            background-color:  #008000;\n",
       "            color:  #f1f1f1;\n",
       "        }    #T_b6b4d26a_0622_11ec_95f6_02420a393e32row4_col2 {\n",
       "            background-color:  #caf0ca;\n",
       "            color:  #000000;\n",
       "        }    #T_b6b4d26a_0622_11ec_95f6_02420a393e32row5_col1 {\n",
       "            background-color:  #e4fee4;\n",
       "            color:  #000000;\n",
       "        }    #T_b6b4d26a_0622_11ec_95f6_02420a393e32row5_col2 {\n",
       "            background-color:  #d9f8d9;\n",
       "            color:  #000000;\n",
       "        }    #T_b6b4d26a_0622_11ec_95f6_02420a393e32row6_col1 {\n",
       "            background-color:  #d7f7d7;\n",
       "            color:  #000000;\n",
       "        }    #T_b6b4d26a_0622_11ec_95f6_02420a393e32row6_col2 {\n",
       "            background-color:  #e4fee4;\n",
       "            color:  #000000;\n",
       "        }    #T_b6b4d26a_0622_11ec_95f6_02420a393e32row7_col1 {\n",
       "            background-color:  #e1fde1;\n",
       "            color:  #000000;\n",
       "        }    #T_b6b4d26a_0622_11ec_95f6_02420a393e32row7_col2 {\n",
       "            background-color:  #e4fee4;\n",
       "            color:  #000000;\n",
       "        }    #T_b6b4d26a_0622_11ec_95f6_02420a393e32row8_col1 {\n",
       "            background-color:  #e5ffe5;\n",
       "            color:  #000000;\n",
       "        }    #T_b6b4d26a_0622_11ec_95f6_02420a393e32row8_col2 {\n",
       "            background-color:  #e5ffe5;\n",
       "            color:  #000000;\n",
       "        }</style><table id=\"T_b6b4d26a_0622_11ec_95f6_02420a393e32\" ><thead>    <tr>        <th class=\"blank level0\" ></th>        <th class=\"col_heading level0 col0\" >hypothesis</th>        <th class=\"col_heading level0 col1\" >ICE</th>        <th class=\"col_heading level0 col2\" >RICE</th>    </tr></thead><tbody>\n",
       "                <tr>\n",
       "                        <th id=\"T_b6b4d26a_0622_11ec_95f6_02420a393e32level0_row0\" class=\"row_heading level0 row0\" >7</th>\n",
       "                        <td id=\"T_b6b4d26a_0622_11ec_95f6_02420a393e32row0_col0\" class=\"data row0 col0\" >Добавить форму подписки на все основные страницы, чтобы собрать базу клиентов для email-рассылок</td>\n",
       "                        <td id=\"T_b6b4d26a_0622_11ec_95f6_02420a393e32row0_col1\" class=\"data row0 col1\" >11.2</td>\n",
       "                        <td id=\"T_b6b4d26a_0622_11ec_95f6_02420a393e32row0_col2\" class=\"data row0 col2\" >112</td>\n",
       "            </tr>\n",
       "            <tr>\n",
       "                        <th id=\"T_b6b4d26a_0622_11ec_95f6_02420a393e32level0_row1\" class=\"row_heading level0 row1\" >2</th>\n",
       "                        <td id=\"T_b6b4d26a_0622_11ec_95f6_02420a393e32row1_col0\" class=\"data row1 col0\" >Добавить блоки рекомендаций товаров на сайт интернет магазина, чтобы повысить конверсию и средний чек заказа</td>\n",
       "                        <td id=\"T_b6b4d26a_0622_11ec_95f6_02420a393e32row1_col1\" class=\"data row1 col1\" >7</td>\n",
       "                        <td id=\"T_b6b4d26a_0622_11ec_95f6_02420a393e32row1_col2\" class=\"data row1 col2\" >56</td>\n",
       "            </tr>\n",
       "            <tr>\n",
       "                        <th id=\"T_b6b4d26a_0622_11ec_95f6_02420a393e32level0_row2\" class=\"row_heading level0 row2\" >0</th>\n",
       "                        <td id=\"T_b6b4d26a_0622_11ec_95f6_02420a393e32row2_col0\" class=\"data row2 col0\" >Добавить два новых канала привлечения трафика, что позволит привлекать на 30% больше пользователей</td>\n",
       "                        <td id=\"T_b6b4d26a_0622_11ec_95f6_02420a393e32row2_col1\" class=\"data row2 col1\" >13.33</td>\n",
       "                        <td id=\"T_b6b4d26a_0622_11ec_95f6_02420a393e32row2_col2\" class=\"data row2 col2\" >40</td>\n",
       "            </tr>\n",
       "            <tr>\n",
       "                        <th id=\"T_b6b4d26a_0622_11ec_95f6_02420a393e32level0_row3\" class=\"row_heading level0 row3\" >6</th>\n",
       "                        <td id=\"T_b6b4d26a_0622_11ec_95f6_02420a393e32row3_col0\" class=\"data row3 col0\" >Показать на главной странице баннеры с актуальными акциями и распродажами, чтобы увеличить конверсию</td>\n",
       "                        <td id=\"T_b6b4d26a_0622_11ec_95f6_02420a393e32row3_col1\" class=\"data row3 col1\" >8</td>\n",
       "                        <td id=\"T_b6b4d26a_0622_11ec_95f6_02420a393e32row3_col2\" class=\"data row3 col2\" >40</td>\n",
       "            </tr>\n",
       "            <tr>\n",
       "                        <th id=\"T_b6b4d26a_0622_11ec_95f6_02420a393e32level0_row4\" class=\"row_heading level0 row4\" >8</th>\n",
       "                        <td id=\"T_b6b4d26a_0622_11ec_95f6_02420a393e32row4_col0\" class=\"data row4 col0\" >Запустить акцию, дающую скидку на товар в день рождения</td>\n",
       "                        <td id=\"T_b6b4d26a_0622_11ec_95f6_02420a393e32row4_col1\" class=\"data row4 col1\" >16.2</td>\n",
       "                        <td id=\"T_b6b4d26a_0622_11ec_95f6_02420a393e32row4_col2\" class=\"data row4 col2\" >16.2</td>\n",
       "            </tr>\n",
       "            <tr>\n",
       "                        <th id=\"T_b6b4d26a_0622_11ec_95f6_02420a393e32level0_row5\" class=\"row_heading level0 row5\" >3</th>\n",
       "                        <td id=\"T_b6b4d26a_0622_11ec_95f6_02420a393e32row5_col0\" class=\"data row5 col0\" >Изменить структура категорий, что увеличит конверсию, т.к. пользователи быстрее найдут нужный товар</td>\n",
       "                        <td id=\"T_b6b4d26a_0622_11ec_95f6_02420a393e32row5_col1\" class=\"data row5 col1\" >1.12</td>\n",
       "                        <td id=\"T_b6b4d26a_0622_11ec_95f6_02420a393e32row5_col2\" class=\"data row5 col2\" >9</td>\n",
       "            </tr>\n",
       "            <tr>\n",
       "                        <th id=\"T_b6b4d26a_0622_11ec_95f6_02420a393e32level0_row6\" class=\"row_heading level0 row6\" >1</th>\n",
       "                        <td id=\"T_b6b4d26a_0622_11ec_95f6_02420a393e32row6_col0\" class=\"data row6 col0\" >Запустить собственную службу доставки, что сократит срок доставки заказов</td>\n",
       "                        <td id=\"T_b6b4d26a_0622_11ec_95f6_02420a393e32row6_col1\" class=\"data row6 col1\" >2</td>\n",
       "                        <td id=\"T_b6b4d26a_0622_11ec_95f6_02420a393e32row6_col2\" class=\"data row6 col2\" >4</td>\n",
       "            </tr>\n",
       "            <tr>\n",
       "                        <th id=\"T_b6b4d26a_0622_11ec_95f6_02420a393e32level0_row7\" class=\"row_heading level0 row7\" >5</th>\n",
       "                        <td id=\"T_b6b4d26a_0622_11ec_95f6_02420a393e32row7_col0\" class=\"data row7 col0\" >Добавить страницу отзывов клиентов о магазине, что позволит увеличить количество заказов</td>\n",
       "                        <td id=\"T_b6b4d26a_0622_11ec_95f6_02420a393e32row7_col1\" class=\"data row7 col1\" >1.33</td>\n",
       "                        <td id=\"T_b6b4d26a_0622_11ec_95f6_02420a393e32row7_col2\" class=\"data row7 col2\" >4</td>\n",
       "            </tr>\n",
       "            <tr>\n",
       "                        <th id=\"T_b6b4d26a_0622_11ec_95f6_02420a393e32level0_row8\" class=\"row_heading level0 row8\" >4</th>\n",
       "                        <td id=\"T_b6b4d26a_0622_11ec_95f6_02420a393e32row8_col0\" class=\"data row8 col0\" >Изменить цвет фона главной страницы, чтобы увеличить вовлеченность пользователей</td>\n",
       "                        <td id=\"T_b6b4d26a_0622_11ec_95f6_02420a393e32row8_col1\" class=\"data row8 col1\" >1</td>\n",
       "                        <td id=\"T_b6b4d26a_0622_11ec_95f6_02420a393e32row8_col2\" class=\"data row8 col2\" >3</td>\n",
       "            </tr>\n",
       "    </tbody></table>"
      ],
      "text/plain": [
       "<pandas.io.formats.style.Styler at 0x7fb497474210>"
      ]
     },
     "execution_count": 12,
     "metadata": {},
     "output_type": "execute_result"
    }
   ],
   "source": [
    "df1 = hypothesis[['hypothesis','ICE', 'RICE']].sort_values(by = 'RICE', ascending = False)\n",
    "\n",
    "cm = sns.light_palette(\"green\", as_cmap=True)\n",
    "\n",
    "s = df1.style.background_gradient(cmap=cm)\n",
    "s"
   ]
  },
  {
   "cell_type": "markdown",
   "metadata": {},
   "source": [
    "### Отличия в приоритизации гипотез при применении RICE вместо ICE"
   ]
  },
  {
   "cell_type": "markdown",
   "metadata": {},
   "source": [
    "Фреймворк RICE является модификацией фреймворка ICE, и разница в полученных результатах определяется введением еще одного параметра - Reach, который позволяет оценить охват аудитории пользователей, которых коснутся вводимые изменения. Поэтому гипотеза о скидке в день рождения смещается с первого места, тк это будет касаться лишь части пользователей, в отличии от форм подписки или рекомендаций товаров которые коснуться всех пользователей."
   ]
  },
  {
   "cell_type": "markdown",
   "metadata": {},
   "source": [
    "## Часть. Анализ A/B-теста"
   ]
  },
  {
   "cell_type": "markdown",
   "metadata": {},
   "source": [
    "Данные для второй части\n",
    "\n",
    "Файл /datasets/orders.csv\n",
    "- transactionId — идентификатор заказа;\n",
    "- visitorId — идентификатор пользователя, совершившего заказ;\n",
    "- date — дата, когда был совершён заказ;\n",
    "- revenue — выручка заказа;\n",
    "- group — группа A/B-теста, в которую попал заказ.\n",
    "\n",
    "Файл /datasets/visitors.csv\n",
    "- date — дата;\n",
    "- group — группа A/B-теста;\n",
    "- visitors — количество пользователей в указанную дату в указанной группе A/B-теста"
   ]
  },
  {
   "cell_type": "markdown",
   "metadata": {},
   "source": [
    "Подгружаем данные:"
   ]
  },
  {
   "cell_type": "code",
   "execution_count": 13,
   "metadata": {},
   "outputs": [],
   "source": [
    "orders = pd.read_csv('/datasets/orders.csv')"
   ]
  },
  {
   "cell_type": "code",
   "execution_count": 14,
   "metadata": {},
   "outputs": [],
   "source": [
    "orders['date'] = orders['date'].map(\n",
    "    lambda x: dt.datetime.strptime(x, '%Y-%m-%d')\n",
    ")"
   ]
  },
  {
   "cell_type": "code",
   "execution_count": 15,
   "metadata": {},
   "outputs": [
    {
     "data": {
      "text/html": [
       "<div>\n",
       "<style scoped>\n",
       "    .dataframe tbody tr th:only-of-type {\n",
       "        vertical-align: middle;\n",
       "    }\n",
       "\n",
       "    .dataframe tbody tr th {\n",
       "        vertical-align: top;\n",
       "    }\n",
       "\n",
       "    .dataframe thead th {\n",
       "        text-align: right;\n",
       "    }\n",
       "</style>\n",
       "<table border=\"1\" class=\"dataframe\">\n",
       "  <thead>\n",
       "    <tr style=\"text-align: right;\">\n",
       "      <th></th>\n",
       "      <th>transactionId</th>\n",
       "      <th>visitorId</th>\n",
       "      <th>date</th>\n",
       "      <th>revenue</th>\n",
       "      <th>group</th>\n",
       "    </tr>\n",
       "  </thead>\n",
       "  <tbody>\n",
       "    <tr>\n",
       "      <td>0</td>\n",
       "      <td>3667963787</td>\n",
       "      <td>3312258926</td>\n",
       "      <td>2019-08-15</td>\n",
       "      <td>1650</td>\n",
       "      <td>B</td>\n",
       "    </tr>\n",
       "    <tr>\n",
       "      <td>1</td>\n",
       "      <td>2804400009</td>\n",
       "      <td>3642806036</td>\n",
       "      <td>2019-08-15</td>\n",
       "      <td>730</td>\n",
       "      <td>B</td>\n",
       "    </tr>\n",
       "    <tr>\n",
       "      <td>2</td>\n",
       "      <td>2961555356</td>\n",
       "      <td>4069496402</td>\n",
       "      <td>2019-08-15</td>\n",
       "      <td>400</td>\n",
       "      <td>A</td>\n",
       "    </tr>\n",
       "    <tr>\n",
       "      <td>3</td>\n",
       "      <td>3797467345</td>\n",
       "      <td>1196621759</td>\n",
       "      <td>2019-08-15</td>\n",
       "      <td>9759</td>\n",
       "      <td>B</td>\n",
       "    </tr>\n",
       "    <tr>\n",
       "      <td>4</td>\n",
       "      <td>2282983706</td>\n",
       "      <td>2322279887</td>\n",
       "      <td>2019-08-15</td>\n",
       "      <td>2308</td>\n",
       "      <td>B</td>\n",
       "    </tr>\n",
       "  </tbody>\n",
       "</table>\n",
       "</div>"
      ],
      "text/plain": [
       "   transactionId   visitorId       date  revenue group\n",
       "0  3667963787     3312258926 2019-08-15  1650     B   \n",
       "1  2804400009     3642806036 2019-08-15  730      B   \n",
       "2  2961555356     4069496402 2019-08-15  400      A   \n",
       "3  3797467345     1196621759 2019-08-15  9759     B   \n",
       "4  2282983706     2322279887 2019-08-15  2308     B   "
      ]
     },
     "execution_count": 15,
     "metadata": {},
     "output_type": "execute_result"
    }
   ],
   "source": [
    "orders.head()"
   ]
  },
  {
   "cell_type": "code",
   "execution_count": 16,
   "metadata": {},
   "outputs": [
    {
     "name": "stdout",
     "output_type": "stream",
     "text": [
      "<class 'pandas.core.frame.DataFrame'>\n",
      "RangeIndex: 1197 entries, 0 to 1196\n",
      "Data columns (total 5 columns):\n",
      "transactionId    1197 non-null int64\n",
      "visitorId        1197 non-null int64\n",
      "date             1197 non-null datetime64[ns]\n",
      "revenue          1197 non-null int64\n",
      "group            1197 non-null object\n",
      "dtypes: datetime64[ns](1), int64(3), object(1)\n",
      "memory usage: 46.9+ KB\n"
     ]
    }
   ],
   "source": [
    "orders.info()"
   ]
  },
  {
   "cell_type": "markdown",
   "metadata": {},
   "source": [
    "Пропусков нет, все типы данных соответствуют "
   ]
  },
  {
   "cell_type": "code",
   "execution_count": 17,
   "metadata": {},
   "outputs": [
    {
     "data": {
      "text/plain": [
       "count     1197               \n",
       "unique    31                 \n",
       "top       2019-08-05 00:00:00\n",
       "freq      48                 \n",
       "first     2019-08-01 00:00:00\n",
       "last      2019-08-31 00:00:00\n",
       "Name: date, dtype: object"
      ]
     },
     "execution_count": 17,
     "metadata": {},
     "output_type": "execute_result"
    }
   ],
   "source": [
    "orders['date'].describe()"
   ]
  },
  {
   "cell_type": "markdown",
   "metadata": {},
   "source": [
    "В нашем распоряжении данные за 1 месяц"
   ]
  },
  {
   "cell_type": "code",
   "execution_count": 18,
   "metadata": {},
   "outputs": [
    {
     "data": {
      "text/plain": [
       "False    1197\n",
       "dtype: int64"
      ]
     },
     "execution_count": 18,
     "metadata": {},
     "output_type": "execute_result"
    }
   ],
   "source": [
    "orders.duplicated().value_counts()"
   ]
  },
  {
   "cell_type": "markdown",
   "metadata": {},
   "source": [
    "Дубликатов нет"
   ]
  },
  {
   "cell_type": "markdown",
   "metadata": {},
   "source": [
    "Проверим попадание покупателей в обе группы:"
   ]
  },
  {
   "cell_type": "code",
   "execution_count": 19,
   "metadata": {},
   "outputs": [],
   "source": [
    "fail = orders.groupby('visitorId').agg({'group':'nunique'}).query('group > 1').reset_index()['visitorId']"
   ]
  },
  {
   "cell_type": "code",
   "execution_count": 20,
   "metadata": {},
   "outputs": [
    {
     "data": {
      "text/plain": [
       "58"
      ]
     },
     "execution_count": 20,
     "metadata": {},
     "output_type": "execute_result"
    }
   ],
   "source": [
    "fail.count()"
   ]
  },
  {
   "cell_type": "markdown",
   "metadata": {},
   "source": [
    "58 пользователей попали в обе группы"
   ]
  },
  {
   "cell_type": "code",
   "execution_count": 21,
   "metadata": {},
   "outputs": [],
   "source": [
    "visitors = pd.read_csv('/datasets/visitors.csv')"
   ]
  },
  {
   "cell_type": "code",
   "execution_count": 22,
   "metadata": {},
   "outputs": [],
   "source": [
    "visitors['date'] = visitors['date'].map(\n",
    "    lambda x: dt.datetime.strptime(x, '%Y-%m-%d')\n",
    ")"
   ]
  },
  {
   "cell_type": "code",
   "execution_count": 23,
   "metadata": {},
   "outputs": [
    {
     "data": {
      "text/html": [
       "<div>\n",
       "<style scoped>\n",
       "    .dataframe tbody tr th:only-of-type {\n",
       "        vertical-align: middle;\n",
       "    }\n",
       "\n",
       "    .dataframe tbody tr th {\n",
       "        vertical-align: top;\n",
       "    }\n",
       "\n",
       "    .dataframe thead th {\n",
       "        text-align: right;\n",
       "    }\n",
       "</style>\n",
       "<table border=\"1\" class=\"dataframe\">\n",
       "  <thead>\n",
       "    <tr style=\"text-align: right;\">\n",
       "      <th></th>\n",
       "      <th>date</th>\n",
       "      <th>group</th>\n",
       "      <th>visitors</th>\n",
       "    </tr>\n",
       "  </thead>\n",
       "  <tbody>\n",
       "    <tr>\n",
       "      <td>0</td>\n",
       "      <td>2019-08-01</td>\n",
       "      <td>A</td>\n",
       "      <td>719</td>\n",
       "    </tr>\n",
       "    <tr>\n",
       "      <td>1</td>\n",
       "      <td>2019-08-02</td>\n",
       "      <td>A</td>\n",
       "      <td>619</td>\n",
       "    </tr>\n",
       "    <tr>\n",
       "      <td>2</td>\n",
       "      <td>2019-08-03</td>\n",
       "      <td>A</td>\n",
       "      <td>507</td>\n",
       "    </tr>\n",
       "    <tr>\n",
       "      <td>3</td>\n",
       "      <td>2019-08-04</td>\n",
       "      <td>A</td>\n",
       "      <td>717</td>\n",
       "    </tr>\n",
       "    <tr>\n",
       "      <td>4</td>\n",
       "      <td>2019-08-05</td>\n",
       "      <td>A</td>\n",
       "      <td>756</td>\n",
       "    </tr>\n",
       "  </tbody>\n",
       "</table>\n",
       "</div>"
      ],
      "text/plain": [
       "        date group  visitors\n",
       "0 2019-08-01  A     719     \n",
       "1 2019-08-02  A     619     \n",
       "2 2019-08-03  A     507     \n",
       "3 2019-08-04  A     717     \n",
       "4 2019-08-05  A     756     "
      ]
     },
     "execution_count": 23,
     "metadata": {},
     "output_type": "execute_result"
    }
   ],
   "source": [
    "visitors.head()"
   ]
  },
  {
   "cell_type": "code",
   "execution_count": 24,
   "metadata": {},
   "outputs": [
    {
     "name": "stdout",
     "output_type": "stream",
     "text": [
      "<class 'pandas.core.frame.DataFrame'>\n",
      "RangeIndex: 62 entries, 0 to 61\n",
      "Data columns (total 3 columns):\n",
      "date        62 non-null datetime64[ns]\n",
      "group       62 non-null object\n",
      "visitors    62 non-null int64\n",
      "dtypes: datetime64[ns](1), int64(1), object(1)\n",
      "memory usage: 1.6+ KB\n"
     ]
    }
   ],
   "source": [
    "visitors.info()"
   ]
  },
  {
   "cell_type": "code",
   "execution_count": 25,
   "metadata": {},
   "outputs": [
    {
     "data": {
      "text/plain": [
       "False    62\n",
       "dtype: int64"
      ]
     },
     "execution_count": 25,
     "metadata": {},
     "output_type": "execute_result"
    }
   ],
   "source": [
    "visitors.duplicated().value_counts()"
   ]
  },
  {
   "cell_type": "markdown",
   "metadata": {},
   "source": [
    "Дубликатов нет, с данными по кол-ву пользователей в день все хорошо"
   ]
  },
  {
   "cell_type": "markdown",
   "metadata": {},
   "source": [
    "### График кумулятивной выручки по группам. Выводы и предположения."
   ]
  },
  {
   "cell_type": "code",
   "execution_count": 26,
   "metadata": {},
   "outputs": [],
   "source": [
    "orders.columns = ['orderId', 'userId', 'date', 'revenue', 'group']"
   ]
  },
  {
   "cell_type": "code",
   "execution_count": 27,
   "metadata": {},
   "outputs": [
    {
     "data": {
      "text/html": [
       "<div>\n",
       "<style scoped>\n",
       "    .dataframe tbody tr th:only-of-type {\n",
       "        vertical-align: middle;\n",
       "    }\n",
       "\n",
       "    .dataframe tbody tr th {\n",
       "        vertical-align: top;\n",
       "    }\n",
       "\n",
       "    .dataframe thead th {\n",
       "        text-align: right;\n",
       "    }\n",
       "</style>\n",
       "<table border=\"1\" class=\"dataframe\">\n",
       "  <thead>\n",
       "    <tr style=\"text-align: right;\">\n",
       "      <th></th>\n",
       "      <th>orderId</th>\n",
       "      <th>userId</th>\n",
       "      <th>date</th>\n",
       "      <th>revenue</th>\n",
       "      <th>group</th>\n",
       "    </tr>\n",
       "  </thead>\n",
       "  <tbody>\n",
       "    <tr>\n",
       "      <td>0</td>\n",
       "      <td>3667963787</td>\n",
       "      <td>3312258926</td>\n",
       "      <td>2019-08-15</td>\n",
       "      <td>1650</td>\n",
       "      <td>B</td>\n",
       "    </tr>\n",
       "    <tr>\n",
       "      <td>1</td>\n",
       "      <td>2804400009</td>\n",
       "      <td>3642806036</td>\n",
       "      <td>2019-08-15</td>\n",
       "      <td>730</td>\n",
       "      <td>B</td>\n",
       "    </tr>\n",
       "    <tr>\n",
       "      <td>2</td>\n",
       "      <td>2961555356</td>\n",
       "      <td>4069496402</td>\n",
       "      <td>2019-08-15</td>\n",
       "      <td>400</td>\n",
       "      <td>A</td>\n",
       "    </tr>\n",
       "    <tr>\n",
       "      <td>3</td>\n",
       "      <td>3797467345</td>\n",
       "      <td>1196621759</td>\n",
       "      <td>2019-08-15</td>\n",
       "      <td>9759</td>\n",
       "      <td>B</td>\n",
       "    </tr>\n",
       "    <tr>\n",
       "      <td>4</td>\n",
       "      <td>2282983706</td>\n",
       "      <td>2322279887</td>\n",
       "      <td>2019-08-15</td>\n",
       "      <td>2308</td>\n",
       "      <td>B</td>\n",
       "    </tr>\n",
       "  </tbody>\n",
       "</table>\n",
       "</div>"
      ],
      "text/plain": [
       "      orderId      userId       date  revenue group\n",
       "0  3667963787  3312258926 2019-08-15  1650     B   \n",
       "1  2804400009  3642806036 2019-08-15  730      B   \n",
       "2  2961555356  4069496402 2019-08-15  400      A   \n",
       "3  3797467345  1196621759 2019-08-15  9759     B   \n",
       "4  2282983706  2322279887 2019-08-15  2308     B   "
      ]
     },
     "execution_count": 27,
     "metadata": {},
     "output_type": "execute_result"
    }
   ],
   "source": [
    "orders.head()"
   ]
  },
  {
   "cell_type": "markdown",
   "metadata": {},
   "source": [
    "Отчистим данные по заказам от пользователей которые попали в обе группы:"
   ]
  },
  {
   "cell_type": "code",
   "execution_count": 28,
   "metadata": {},
   "outputs": [],
   "source": [
    "fail = orders.groupby('userId').agg({'group':'nunique'}).query('group > 1').reset_index()['userId']"
   ]
  },
  {
   "cell_type": "code",
   "execution_count": 29,
   "metadata": {},
   "outputs": [],
   "source": [
    "orders = orders.query('userId not in @fail')"
   ]
  },
  {
   "cell_type": "code",
   "execution_count": 30,
   "metadata": {},
   "outputs": [
    {
     "data": {
      "text/html": [
       "<div>\n",
       "<style scoped>\n",
       "    .dataframe tbody tr th:only-of-type {\n",
       "        vertical-align: middle;\n",
       "    }\n",
       "\n",
       "    .dataframe tbody tr th {\n",
       "        vertical-align: top;\n",
       "    }\n",
       "\n",
       "    .dataframe thead th {\n",
       "        text-align: right;\n",
       "    }\n",
       "</style>\n",
       "<table border=\"1\" class=\"dataframe\">\n",
       "  <thead>\n",
       "    <tr style=\"text-align: right;\">\n",
       "      <th></th>\n",
       "      <th>date</th>\n",
       "      <th>group</th>\n",
       "      <th>visitors</th>\n",
       "    </tr>\n",
       "  </thead>\n",
       "  <tbody>\n",
       "    <tr>\n",
       "      <td>0</td>\n",
       "      <td>2019-08-01</td>\n",
       "      <td>A</td>\n",
       "      <td>719</td>\n",
       "    </tr>\n",
       "    <tr>\n",
       "      <td>1</td>\n",
       "      <td>2019-08-02</td>\n",
       "      <td>A</td>\n",
       "      <td>619</td>\n",
       "    </tr>\n",
       "    <tr>\n",
       "      <td>2</td>\n",
       "      <td>2019-08-03</td>\n",
       "      <td>A</td>\n",
       "      <td>507</td>\n",
       "    </tr>\n",
       "    <tr>\n",
       "      <td>3</td>\n",
       "      <td>2019-08-04</td>\n",
       "      <td>A</td>\n",
       "      <td>717</td>\n",
       "    </tr>\n",
       "    <tr>\n",
       "      <td>4</td>\n",
       "      <td>2019-08-05</td>\n",
       "      <td>A</td>\n",
       "      <td>756</td>\n",
       "    </tr>\n",
       "    <tr>\n",
       "      <td>...</td>\n",
       "      <td>...</td>\n",
       "      <td>...</td>\n",
       "      <td>...</td>\n",
       "    </tr>\n",
       "    <tr>\n",
       "      <td>57</td>\n",
       "      <td>2019-08-27</td>\n",
       "      <td>B</td>\n",
       "      <td>720</td>\n",
       "    </tr>\n",
       "    <tr>\n",
       "      <td>58</td>\n",
       "      <td>2019-08-28</td>\n",
       "      <td>B</td>\n",
       "      <td>654</td>\n",
       "    </tr>\n",
       "    <tr>\n",
       "      <td>59</td>\n",
       "      <td>2019-08-29</td>\n",
       "      <td>B</td>\n",
       "      <td>531</td>\n",
       "    </tr>\n",
       "    <tr>\n",
       "      <td>60</td>\n",
       "      <td>2019-08-30</td>\n",
       "      <td>B</td>\n",
       "      <td>490</td>\n",
       "    </tr>\n",
       "    <tr>\n",
       "      <td>61</td>\n",
       "      <td>2019-08-31</td>\n",
       "      <td>B</td>\n",
       "      <td>718</td>\n",
       "    </tr>\n",
       "  </tbody>\n",
       "</table>\n",
       "<p>62 rows × 3 columns</p>\n",
       "</div>"
      ],
      "text/plain": [
       "         date group  visitors\n",
       "0  2019-08-01  A     719     \n",
       "1  2019-08-02  A     619     \n",
       "2  2019-08-03  A     507     \n",
       "3  2019-08-04  A     717     \n",
       "4  2019-08-05  A     756     \n",
       "..        ... ..     ...     \n",
       "57 2019-08-27  B     720     \n",
       "58 2019-08-28  B     654     \n",
       "59 2019-08-29  B     531     \n",
       "60 2019-08-30  B     490     \n",
       "61 2019-08-31  B     718     \n",
       "\n",
       "[62 rows x 3 columns]"
      ]
     },
     "execution_count": 30,
     "metadata": {},
     "output_type": "execute_result"
    }
   ],
   "source": [
    "visitors"
   ]
  },
  {
   "cell_type": "code",
   "execution_count": 31,
   "metadata": {},
   "outputs": [
    {
     "name": "stdout",
     "output_type": "stream",
     "text": [
      "<class 'pandas.core.frame.DataFrame'>\n",
      "RangeIndex: 62 entries, 0 to 61\n",
      "Data columns (total 3 columns):\n",
      "date        62 non-null datetime64[ns]\n",
      "group       62 non-null object\n",
      "visitors    62 non-null int64\n",
      "dtypes: datetime64[ns](1), int64(1), object(1)\n",
      "memory usage: 1.6+ KB\n"
     ]
    }
   ],
   "source": [
    "visitors.info()"
   ]
  },
  {
   "cell_type": "code",
   "execution_count": 32,
   "metadata": {},
   "outputs": [],
   "source": [
    "# создаем массив уникальных пар значений дат и групп теста\n",
    "datesGroups = orders[['date','group']].drop_duplicates() "
   ]
  },
  {
   "cell_type": "code",
   "execution_count": 33,
   "metadata": {},
   "outputs": [
    {
     "data": {
      "text/html": [
       "<div>\n",
       "<style scoped>\n",
       "    .dataframe tbody tr th:only-of-type {\n",
       "        vertical-align: middle;\n",
       "    }\n",
       "\n",
       "    .dataframe tbody tr th {\n",
       "        vertical-align: top;\n",
       "    }\n",
       "\n",
       "    .dataframe thead th {\n",
       "        text-align: right;\n",
       "    }\n",
       "</style>\n",
       "<table border=\"1\" class=\"dataframe\">\n",
       "  <thead>\n",
       "    <tr style=\"text-align: right;\">\n",
       "      <th></th>\n",
       "      <th>date</th>\n",
       "      <th>group</th>\n",
       "    </tr>\n",
       "  </thead>\n",
       "  <tbody>\n",
       "    <tr>\n",
       "      <td>0</td>\n",
       "      <td>2019-08-15</td>\n",
       "      <td>B</td>\n",
       "    </tr>\n",
       "    <tr>\n",
       "      <td>7</td>\n",
       "      <td>2019-08-15</td>\n",
       "      <td>A</td>\n",
       "    </tr>\n",
       "    <tr>\n",
       "      <td>45</td>\n",
       "      <td>2019-08-16</td>\n",
       "      <td>A</td>\n",
       "    </tr>\n",
       "    <tr>\n",
       "      <td>47</td>\n",
       "      <td>2019-08-16</td>\n",
       "      <td>B</td>\n",
       "    </tr>\n",
       "    <tr>\n",
       "      <td>55</td>\n",
       "      <td>2019-08-01</td>\n",
       "      <td>A</td>\n",
       "    </tr>\n",
       "    <tr>\n",
       "      <td>...</td>\n",
       "      <td>...</td>\n",
       "      <td>...</td>\n",
       "    </tr>\n",
       "    <tr>\n",
       "      <td>1068</td>\n",
       "      <td>2019-08-12</td>\n",
       "      <td>A</td>\n",
       "    </tr>\n",
       "    <tr>\n",
       "      <td>1114</td>\n",
       "      <td>2019-08-13</td>\n",
       "      <td>B</td>\n",
       "    </tr>\n",
       "    <tr>\n",
       "      <td>1116</td>\n",
       "      <td>2019-08-13</td>\n",
       "      <td>A</td>\n",
       "    </tr>\n",
       "    <tr>\n",
       "      <td>1149</td>\n",
       "      <td>2019-08-14</td>\n",
       "      <td>B</td>\n",
       "    </tr>\n",
       "    <tr>\n",
       "      <td>1150</td>\n",
       "      <td>2019-08-14</td>\n",
       "      <td>A</td>\n",
       "    </tr>\n",
       "  </tbody>\n",
       "</table>\n",
       "<p>62 rows × 2 columns</p>\n",
       "</div>"
      ],
      "text/plain": [
       "           date group\n",
       "0    2019-08-15  B   \n",
       "7    2019-08-15  A   \n",
       "45   2019-08-16  A   \n",
       "47   2019-08-16  B   \n",
       "55   2019-08-01  A   \n",
       "...         ... ..   \n",
       "1068 2019-08-12  A   \n",
       "1114 2019-08-13  B   \n",
       "1116 2019-08-13  A   \n",
       "1149 2019-08-14  B   \n",
       "1150 2019-08-14  A   \n",
       "\n",
       "[62 rows x 2 columns]"
      ]
     },
     "execution_count": 33,
     "metadata": {},
     "output_type": "execute_result"
    }
   ],
   "source": [
    "datesGroups"
   ]
  },
  {
   "cell_type": "code",
   "execution_count": 34,
   "metadata": {},
   "outputs": [
    {
     "data": {
      "text/html": [
       "<div>\n",
       "<style scoped>\n",
       "    .dataframe tbody tr th:only-of-type {\n",
       "        vertical-align: middle;\n",
       "    }\n",
       "\n",
       "    .dataframe tbody tr th {\n",
       "        vertical-align: top;\n",
       "    }\n",
       "\n",
       "    .dataframe thead th {\n",
       "        text-align: right;\n",
       "    }\n",
       "</style>\n",
       "<table border=\"1\" class=\"dataframe\">\n",
       "  <thead>\n",
       "    <tr style=\"text-align: right;\">\n",
       "      <th></th>\n",
       "      <th>orderId</th>\n",
       "      <th>userId</th>\n",
       "      <th>date</th>\n",
       "      <th>revenue</th>\n",
       "      <th>group</th>\n",
       "    </tr>\n",
       "  </thead>\n",
       "  <tbody>\n",
       "    <tr>\n",
       "      <td>0</td>\n",
       "      <td>3667963787</td>\n",
       "      <td>3312258926</td>\n",
       "      <td>2019-08-15</td>\n",
       "      <td>1650</td>\n",
       "      <td>B</td>\n",
       "    </tr>\n",
       "    <tr>\n",
       "      <td>1</td>\n",
       "      <td>2804400009</td>\n",
       "      <td>3642806036</td>\n",
       "      <td>2019-08-15</td>\n",
       "      <td>730</td>\n",
       "      <td>B</td>\n",
       "    </tr>\n",
       "    <tr>\n",
       "      <td>3</td>\n",
       "      <td>3797467345</td>\n",
       "      <td>1196621759</td>\n",
       "      <td>2019-08-15</td>\n",
       "      <td>9759</td>\n",
       "      <td>B</td>\n",
       "    </tr>\n",
       "    <tr>\n",
       "      <td>4</td>\n",
       "      <td>2282983706</td>\n",
       "      <td>2322279887</td>\n",
       "      <td>2019-08-15</td>\n",
       "      <td>2308</td>\n",
       "      <td>B</td>\n",
       "    </tr>\n",
       "    <tr>\n",
       "      <td>5</td>\n",
       "      <td>182168103</td>\n",
       "      <td>935554773</td>\n",
       "      <td>2019-08-15</td>\n",
       "      <td>2210</td>\n",
       "      <td>B</td>\n",
       "    </tr>\n",
       "    <tr>\n",
       "      <td>...</td>\n",
       "      <td>...</td>\n",
       "      <td>...</td>\n",
       "      <td>...</td>\n",
       "      <td>...</td>\n",
       "      <td>...</td>\n",
       "    </tr>\n",
       "    <tr>\n",
       "      <td>1191</td>\n",
       "      <td>3592955527</td>\n",
       "      <td>608641596</td>\n",
       "      <td>2019-08-14</td>\n",
       "      <td>16490</td>\n",
       "      <td>B</td>\n",
       "    </tr>\n",
       "    <tr>\n",
       "      <td>1192</td>\n",
       "      <td>2662137336</td>\n",
       "      <td>3733762160</td>\n",
       "      <td>2019-08-14</td>\n",
       "      <td>6490</td>\n",
       "      <td>B</td>\n",
       "    </tr>\n",
       "    <tr>\n",
       "      <td>1193</td>\n",
       "      <td>2203539145</td>\n",
       "      <td>370388673</td>\n",
       "      <td>2019-08-14</td>\n",
       "      <td>3190</td>\n",
       "      <td>A</td>\n",
       "    </tr>\n",
       "    <tr>\n",
       "      <td>1194</td>\n",
       "      <td>1807773912</td>\n",
       "      <td>573423106</td>\n",
       "      <td>2019-08-14</td>\n",
       "      <td>10550</td>\n",
       "      <td>A</td>\n",
       "    </tr>\n",
       "    <tr>\n",
       "      <td>1196</td>\n",
       "      <td>3936777065</td>\n",
       "      <td>2108080724</td>\n",
       "      <td>2019-08-15</td>\n",
       "      <td>202740</td>\n",
       "      <td>B</td>\n",
       "    </tr>\n",
       "  </tbody>\n",
       "</table>\n",
       "<p>1016 rows × 5 columns</p>\n",
       "</div>"
      ],
      "text/plain": [
       "         orderId      userId       date  revenue group\n",
       "0     3667963787  3312258926 2019-08-15  1650     B   \n",
       "1     2804400009  3642806036 2019-08-15  730      B   \n",
       "3     3797467345  1196621759 2019-08-15  9759     B   \n",
       "4     2282983706  2322279887 2019-08-15  2308     B   \n",
       "5     182168103   935554773  2019-08-15  2210     B   \n",
       "...         ...         ...         ...   ...    ..   \n",
       "1191  3592955527  608641596  2019-08-14  16490    B   \n",
       "1192  2662137336  3733762160 2019-08-14  6490     B   \n",
       "1193  2203539145  370388673  2019-08-14  3190     A   \n",
       "1194  1807773912  573423106  2019-08-14  10550    A   \n",
       "1196  3936777065  2108080724 2019-08-15  202740   B   \n",
       "\n",
       "[1016 rows x 5 columns]"
      ]
     },
     "execution_count": 34,
     "metadata": {},
     "output_type": "execute_result"
    }
   ],
   "source": [
    "orders"
   ]
  },
  {
   "cell_type": "code",
   "execution_count": 35,
   "metadata": {},
   "outputs": [],
   "source": [
    "# получаем агрегированные кумулятивные по дням данные о заказах \n",
    "ordersAggregated = datesGroups.apply(lambda x: orders[np.logical_and(orders['date'] <= x['date'], orders['group'] == x['group'])]\\\n",
    ".agg({'date' : 'max', 'group' : 'max', 'orderId' : pd.Series.nunique, 'userId' : pd.Series.nunique, 'revenue' : 'sum'}), axis=1).sort_values(by=['date','group'])"
   ]
  },
  {
   "cell_type": "code",
   "execution_count": 36,
   "metadata": {},
   "outputs": [
    {
     "data": {
      "text/html": [
       "<div>\n",
       "<style scoped>\n",
       "    .dataframe tbody tr th:only-of-type {\n",
       "        vertical-align: middle;\n",
       "    }\n",
       "\n",
       "    .dataframe tbody tr th {\n",
       "        vertical-align: top;\n",
       "    }\n",
       "\n",
       "    .dataframe thead th {\n",
       "        text-align: right;\n",
       "    }\n",
       "</style>\n",
       "<table border=\"1\" class=\"dataframe\">\n",
       "  <thead>\n",
       "    <tr style=\"text-align: right;\">\n",
       "      <th></th>\n",
       "      <th>date</th>\n",
       "      <th>group</th>\n",
       "      <th>orderId</th>\n",
       "      <th>userId</th>\n",
       "      <th>revenue</th>\n",
       "    </tr>\n",
       "  </thead>\n",
       "  <tbody>\n",
       "    <tr>\n",
       "      <td>55</td>\n",
       "      <td>2019-08-01</td>\n",
       "      <td>A</td>\n",
       "      <td>23</td>\n",
       "      <td>19</td>\n",
       "      <td>142779</td>\n",
       "    </tr>\n",
       "    <tr>\n",
       "      <td>66</td>\n",
       "      <td>2019-08-01</td>\n",
       "      <td>B</td>\n",
       "      <td>17</td>\n",
       "      <td>17</td>\n",
       "      <td>59758</td>\n",
       "    </tr>\n",
       "    <tr>\n",
       "      <td>175</td>\n",
       "      <td>2019-08-02</td>\n",
       "      <td>A</td>\n",
       "      <td>42</td>\n",
       "      <td>36</td>\n",
       "      <td>234381</td>\n",
       "    </tr>\n",
       "    <tr>\n",
       "      <td>173</td>\n",
       "      <td>2019-08-02</td>\n",
       "      <td>B</td>\n",
       "      <td>40</td>\n",
       "      <td>39</td>\n",
       "      <td>221801</td>\n",
       "    </tr>\n",
       "    <tr>\n",
       "      <td>291</td>\n",
       "      <td>2019-08-03</td>\n",
       "      <td>A</td>\n",
       "      <td>66</td>\n",
       "      <td>60</td>\n",
       "      <td>346854</td>\n",
       "    </tr>\n",
       "    <tr>\n",
       "      <td>...</td>\n",
       "      <td>...</td>\n",
       "      <td>...</td>\n",
       "      <td>...</td>\n",
       "      <td>...</td>\n",
       "      <td>...</td>\n",
       "    </tr>\n",
       "    <tr>\n",
       "      <td>533</td>\n",
       "      <td>2019-08-29</td>\n",
       "      <td>B</td>\n",
       "      <td>510</td>\n",
       "      <td>490</td>\n",
       "      <td>4746610</td>\n",
       "    </tr>\n",
       "    <tr>\n",
       "      <td>757</td>\n",
       "      <td>2019-08-30</td>\n",
       "      <td>A</td>\n",
       "      <td>460</td>\n",
       "      <td>437</td>\n",
       "      <td>3311413</td>\n",
       "    </tr>\n",
       "    <tr>\n",
       "      <td>690</td>\n",
       "      <td>2019-08-30</td>\n",
       "      <td>B</td>\n",
       "      <td>531</td>\n",
       "      <td>511</td>\n",
       "      <td>4955833</td>\n",
       "    </tr>\n",
       "    <tr>\n",
       "      <td>958</td>\n",
       "      <td>2019-08-31</td>\n",
       "      <td>A</td>\n",
       "      <td>468</td>\n",
       "      <td>445</td>\n",
       "      <td>3364656</td>\n",
       "    </tr>\n",
       "    <tr>\n",
       "      <td>930</td>\n",
       "      <td>2019-08-31</td>\n",
       "      <td>B</td>\n",
       "      <td>548</td>\n",
       "      <td>528</td>\n",
       "      <td>5068972</td>\n",
       "    </tr>\n",
       "  </tbody>\n",
       "</table>\n",
       "<p>62 rows × 5 columns</p>\n",
       "</div>"
      ],
      "text/plain": [
       "          date group  orderId  userId  revenue\n",
       "55  2019-08-01  A     23       19      142779 \n",
       "66  2019-08-01  B     17       17      59758  \n",
       "175 2019-08-02  A     42       36      234381 \n",
       "173 2019-08-02  B     40       39      221801 \n",
       "291 2019-08-03  A     66       60      346854 \n",
       "..         ... ..     ..       ..         ... \n",
       "533 2019-08-29  B     510      490     4746610\n",
       "757 2019-08-30  A     460      437     3311413\n",
       "690 2019-08-30  B     531      511     4955833\n",
       "958 2019-08-31  A     468      445     3364656\n",
       "930 2019-08-31  B     548      528     5068972\n",
       "\n",
       "[62 rows x 5 columns]"
      ]
     },
     "execution_count": 36,
     "metadata": {},
     "output_type": "execute_result"
    }
   ],
   "source": [
    "ordersAggregated"
   ]
  },
  {
   "cell_type": "code",
   "execution_count": 37,
   "metadata": {},
   "outputs": [
    {
     "data": {
      "text/html": [
       "<div>\n",
       "<style scoped>\n",
       "    .dataframe tbody tr th:only-of-type {\n",
       "        vertical-align: middle;\n",
       "    }\n",
       "\n",
       "    .dataframe tbody tr th {\n",
       "        vertical-align: top;\n",
       "    }\n",
       "\n",
       "    .dataframe thead th {\n",
       "        text-align: right;\n",
       "    }\n",
       "</style>\n",
       "<table border=\"1\" class=\"dataframe\">\n",
       "  <thead>\n",
       "    <tr style=\"text-align: right;\">\n",
       "      <th></th>\n",
       "      <th>date</th>\n",
       "      <th>group</th>\n",
       "      <th>visitors</th>\n",
       "    </tr>\n",
       "  </thead>\n",
       "  <tbody>\n",
       "    <tr>\n",
       "      <td>0</td>\n",
       "      <td>2019-08-01</td>\n",
       "      <td>A</td>\n",
       "      <td>719</td>\n",
       "    </tr>\n",
       "    <tr>\n",
       "      <td>1</td>\n",
       "      <td>2019-08-02</td>\n",
       "      <td>A</td>\n",
       "      <td>619</td>\n",
       "    </tr>\n",
       "    <tr>\n",
       "      <td>2</td>\n",
       "      <td>2019-08-03</td>\n",
       "      <td>A</td>\n",
       "      <td>507</td>\n",
       "    </tr>\n",
       "    <tr>\n",
       "      <td>3</td>\n",
       "      <td>2019-08-04</td>\n",
       "      <td>A</td>\n",
       "      <td>717</td>\n",
       "    </tr>\n",
       "    <tr>\n",
       "      <td>4</td>\n",
       "      <td>2019-08-05</td>\n",
       "      <td>A</td>\n",
       "      <td>756</td>\n",
       "    </tr>\n",
       "    <tr>\n",
       "      <td>...</td>\n",
       "      <td>...</td>\n",
       "      <td>...</td>\n",
       "      <td>...</td>\n",
       "    </tr>\n",
       "    <tr>\n",
       "      <td>57</td>\n",
       "      <td>2019-08-27</td>\n",
       "      <td>B</td>\n",
       "      <td>720</td>\n",
       "    </tr>\n",
       "    <tr>\n",
       "      <td>58</td>\n",
       "      <td>2019-08-28</td>\n",
       "      <td>B</td>\n",
       "      <td>654</td>\n",
       "    </tr>\n",
       "    <tr>\n",
       "      <td>59</td>\n",
       "      <td>2019-08-29</td>\n",
       "      <td>B</td>\n",
       "      <td>531</td>\n",
       "    </tr>\n",
       "    <tr>\n",
       "      <td>60</td>\n",
       "      <td>2019-08-30</td>\n",
       "      <td>B</td>\n",
       "      <td>490</td>\n",
       "    </tr>\n",
       "    <tr>\n",
       "      <td>61</td>\n",
       "      <td>2019-08-31</td>\n",
       "      <td>B</td>\n",
       "      <td>718</td>\n",
       "    </tr>\n",
       "  </tbody>\n",
       "</table>\n",
       "<p>62 rows × 3 columns</p>\n",
       "</div>"
      ],
      "text/plain": [
       "         date group  visitors\n",
       "0  2019-08-01  A     719     \n",
       "1  2019-08-02  A     619     \n",
       "2  2019-08-03  A     507     \n",
       "3  2019-08-04  A     717     \n",
       "4  2019-08-05  A     756     \n",
       "..        ... ..     ...     \n",
       "57 2019-08-27  B     720     \n",
       "58 2019-08-28  B     654     \n",
       "59 2019-08-29  B     531     \n",
       "60 2019-08-30  B     490     \n",
       "61 2019-08-31  B     718     \n",
       "\n",
       "[62 rows x 3 columns]"
      ]
     },
     "execution_count": 37,
     "metadata": {},
     "output_type": "execute_result"
    }
   ],
   "source": [
    "visitors"
   ]
  },
  {
   "cell_type": "code",
   "execution_count": 67,
   "metadata": {},
   "outputs": [
    {
     "data": {
      "text/html": [
       "<div>\n",
       "<style scoped>\n",
       "    .dataframe tbody tr th:only-of-type {\n",
       "        vertical-align: middle;\n",
       "    }\n",
       "\n",
       "    .dataframe tbody tr th {\n",
       "        vertical-align: top;\n",
       "    }\n",
       "\n",
       "    .dataframe thead th {\n",
       "        text-align: right;\n",
       "    }\n",
       "</style>\n",
       "<table border=\"1\" class=\"dataframe\">\n",
       "  <thead>\n",
       "    <tr style=\"text-align: right;\">\n",
       "      <th></th>\n",
       "      <th>date</th>\n",
       "      <th>group</th>\n",
       "      <th>visitors</th>\n",
       "    </tr>\n",
       "  </thead>\n",
       "  <tbody>\n",
       "    <tr>\n",
       "      <td>0</td>\n",
       "      <td>2019-08-01</td>\n",
       "      <td>A</td>\n",
       "      <td>719</td>\n",
       "    </tr>\n",
       "    <tr>\n",
       "      <td>1</td>\n",
       "      <td>2019-08-02</td>\n",
       "      <td>A</td>\n",
       "      <td>619</td>\n",
       "    </tr>\n",
       "    <tr>\n",
       "      <td>2</td>\n",
       "      <td>2019-08-03</td>\n",
       "      <td>A</td>\n",
       "      <td>507</td>\n",
       "    </tr>\n",
       "    <tr>\n",
       "      <td>3</td>\n",
       "      <td>2019-08-04</td>\n",
       "      <td>A</td>\n",
       "      <td>717</td>\n",
       "    </tr>\n",
       "    <tr>\n",
       "      <td>4</td>\n",
       "      <td>2019-08-05</td>\n",
       "      <td>A</td>\n",
       "      <td>756</td>\n",
       "    </tr>\n",
       "    <tr>\n",
       "      <td>...</td>\n",
       "      <td>...</td>\n",
       "      <td>...</td>\n",
       "      <td>...</td>\n",
       "    </tr>\n",
       "    <tr>\n",
       "      <td>57</td>\n",
       "      <td>2019-08-27</td>\n",
       "      <td>B</td>\n",
       "      <td>720</td>\n",
       "    </tr>\n",
       "    <tr>\n",
       "      <td>58</td>\n",
       "      <td>2019-08-28</td>\n",
       "      <td>B</td>\n",
       "      <td>654</td>\n",
       "    </tr>\n",
       "    <tr>\n",
       "      <td>59</td>\n",
       "      <td>2019-08-29</td>\n",
       "      <td>B</td>\n",
       "      <td>531</td>\n",
       "    </tr>\n",
       "    <tr>\n",
       "      <td>60</td>\n",
       "      <td>2019-08-30</td>\n",
       "      <td>B</td>\n",
       "      <td>490</td>\n",
       "    </tr>\n",
       "    <tr>\n",
       "      <td>61</td>\n",
       "      <td>2019-08-31</td>\n",
       "      <td>B</td>\n",
       "      <td>718</td>\n",
       "    </tr>\n",
       "  </tbody>\n",
       "</table>\n",
       "<p>62 rows × 3 columns</p>\n",
       "</div>"
      ],
      "text/plain": [
       "         date group  visitors\n",
       "0  2019-08-01  A     719     \n",
       "1  2019-08-02  A     619     \n",
       "2  2019-08-03  A     507     \n",
       "3  2019-08-04  A     717     \n",
       "4  2019-08-05  A     756     \n",
       "..        ... ..     ...     \n",
       "57 2019-08-27  B     720     \n",
       "58 2019-08-28  B     654     \n",
       "59 2019-08-29  B     531     \n",
       "60 2019-08-30  B     490     \n",
       "61 2019-08-31  B     718     \n",
       "\n",
       "[62 rows x 3 columns]"
      ]
     },
     "execution_count": 67,
     "metadata": {},
     "output_type": "execute_result"
    }
   ],
   "source": [
    "visitors"
   ]
  },
  {
   "cell_type": "code",
   "execution_count": 38,
   "metadata": {},
   "outputs": [],
   "source": [
    "# получаем агрегированные кумулятивные по дням данные о посетителях интернет-магазина \n",
    "visitorsAggregated = datesGroups.apply(lambda x: visitors[np.logical_and(visitors['date'] <= x['date'], visitors['group'] == x['group'])].agg({'date' : 'max', 'group' : 'max', 'visitors' : 'sum'}), axis=1).sort_values(by=['date','group'])"
   ]
  },
  {
   "cell_type": "code",
   "execution_count": 39,
   "metadata": {},
   "outputs": [
    {
     "data": {
      "text/html": [
       "<div>\n",
       "<style scoped>\n",
       "    .dataframe tbody tr th:only-of-type {\n",
       "        vertical-align: middle;\n",
       "    }\n",
       "\n",
       "    .dataframe tbody tr th {\n",
       "        vertical-align: top;\n",
       "    }\n",
       "\n",
       "    .dataframe thead th {\n",
       "        text-align: right;\n",
       "    }\n",
       "</style>\n",
       "<table border=\"1\" class=\"dataframe\">\n",
       "  <thead>\n",
       "    <tr style=\"text-align: right;\">\n",
       "      <th></th>\n",
       "      <th>date</th>\n",
       "      <th>group</th>\n",
       "      <th>visitors</th>\n",
       "    </tr>\n",
       "  </thead>\n",
       "  <tbody>\n",
       "    <tr>\n",
       "      <td>55</td>\n",
       "      <td>2019-08-01</td>\n",
       "      <td>A</td>\n",
       "      <td>719</td>\n",
       "    </tr>\n",
       "    <tr>\n",
       "      <td>66</td>\n",
       "      <td>2019-08-01</td>\n",
       "      <td>B</td>\n",
       "      <td>713</td>\n",
       "    </tr>\n",
       "    <tr>\n",
       "      <td>175</td>\n",
       "      <td>2019-08-02</td>\n",
       "      <td>A</td>\n",
       "      <td>1338</td>\n",
       "    </tr>\n",
       "    <tr>\n",
       "      <td>173</td>\n",
       "      <td>2019-08-02</td>\n",
       "      <td>B</td>\n",
       "      <td>1294</td>\n",
       "    </tr>\n",
       "    <tr>\n",
       "      <td>291</td>\n",
       "      <td>2019-08-03</td>\n",
       "      <td>A</td>\n",
       "      <td>1845</td>\n",
       "    </tr>\n",
       "    <tr>\n",
       "      <td>...</td>\n",
       "      <td>...</td>\n",
       "      <td>...</td>\n",
       "      <td>...</td>\n",
       "    </tr>\n",
       "    <tr>\n",
       "      <td>533</td>\n",
       "      <td>2019-08-29</td>\n",
       "      <td>B</td>\n",
       "      <td>17708</td>\n",
       "    </tr>\n",
       "    <tr>\n",
       "      <td>757</td>\n",
       "      <td>2019-08-30</td>\n",
       "      <td>A</td>\n",
       "      <td>18037</td>\n",
       "    </tr>\n",
       "    <tr>\n",
       "      <td>690</td>\n",
       "      <td>2019-08-30</td>\n",
       "      <td>B</td>\n",
       "      <td>18198</td>\n",
       "    </tr>\n",
       "    <tr>\n",
       "      <td>958</td>\n",
       "      <td>2019-08-31</td>\n",
       "      <td>A</td>\n",
       "      <td>18736</td>\n",
       "    </tr>\n",
       "    <tr>\n",
       "      <td>930</td>\n",
       "      <td>2019-08-31</td>\n",
       "      <td>B</td>\n",
       "      <td>18916</td>\n",
       "    </tr>\n",
       "  </tbody>\n",
       "</table>\n",
       "<p>62 rows × 3 columns</p>\n",
       "</div>"
      ],
      "text/plain": [
       "          date group  visitors\n",
       "55  2019-08-01  A     719     \n",
       "66  2019-08-01  B     713     \n",
       "175 2019-08-02  A     1338    \n",
       "173 2019-08-02  B     1294    \n",
       "291 2019-08-03  A     1845    \n",
       "..         ... ..      ...    \n",
       "533 2019-08-29  B     17708   \n",
       "757 2019-08-30  A     18037   \n",
       "690 2019-08-30  B     18198   \n",
       "958 2019-08-31  A     18736   \n",
       "930 2019-08-31  B     18916   \n",
       "\n",
       "[62 rows x 3 columns]"
      ]
     },
     "execution_count": 39,
     "metadata": {},
     "output_type": "execute_result"
    }
   ],
   "source": [
    "visitorsAggregated"
   ]
  },
  {
   "cell_type": "code",
   "execution_count": 40,
   "metadata": {},
   "outputs": [],
   "source": [
    "# объединяем кумулятивные данные в одной таблице и присваиваем ее столбцам понятные названия\n",
    "cumulativeData = ordersAggregated.merge(visitorsAggregated, left_on=['date', 'group'], right_on=['date', 'group'])\n",
    "cumulativeData.columns = ['date', 'group', 'orders', 'buyers', 'revenue', 'visitors']"
   ]
  },
  {
   "cell_type": "code",
   "execution_count": 41,
   "metadata": {},
   "outputs": [
    {
     "data": {
      "text/html": [
       "<div>\n",
       "<style scoped>\n",
       "    .dataframe tbody tr th:only-of-type {\n",
       "        vertical-align: middle;\n",
       "    }\n",
       "\n",
       "    .dataframe tbody tr th {\n",
       "        vertical-align: top;\n",
       "    }\n",
       "\n",
       "    .dataframe thead th {\n",
       "        text-align: right;\n",
       "    }\n",
       "</style>\n",
       "<table border=\"1\" class=\"dataframe\">\n",
       "  <thead>\n",
       "    <tr style=\"text-align: right;\">\n",
       "      <th></th>\n",
       "      <th>date</th>\n",
       "      <th>group</th>\n",
       "      <th>orders</th>\n",
       "      <th>buyers</th>\n",
       "      <th>revenue</th>\n",
       "      <th>visitors</th>\n",
       "    </tr>\n",
       "  </thead>\n",
       "  <tbody>\n",
       "    <tr>\n",
       "      <td>0</td>\n",
       "      <td>2019-08-01</td>\n",
       "      <td>A</td>\n",
       "      <td>23</td>\n",
       "      <td>19</td>\n",
       "      <td>142779</td>\n",
       "      <td>719</td>\n",
       "    </tr>\n",
       "    <tr>\n",
       "      <td>1</td>\n",
       "      <td>2019-08-01</td>\n",
       "      <td>B</td>\n",
       "      <td>17</td>\n",
       "      <td>17</td>\n",
       "      <td>59758</td>\n",
       "      <td>713</td>\n",
       "    </tr>\n",
       "    <tr>\n",
       "      <td>2</td>\n",
       "      <td>2019-08-02</td>\n",
       "      <td>A</td>\n",
       "      <td>42</td>\n",
       "      <td>36</td>\n",
       "      <td>234381</td>\n",
       "      <td>1338</td>\n",
       "    </tr>\n",
       "    <tr>\n",
       "      <td>3</td>\n",
       "      <td>2019-08-02</td>\n",
       "      <td>B</td>\n",
       "      <td>40</td>\n",
       "      <td>39</td>\n",
       "      <td>221801</td>\n",
       "      <td>1294</td>\n",
       "    </tr>\n",
       "    <tr>\n",
       "      <td>4</td>\n",
       "      <td>2019-08-03</td>\n",
       "      <td>A</td>\n",
       "      <td>66</td>\n",
       "      <td>60</td>\n",
       "      <td>346854</td>\n",
       "      <td>1845</td>\n",
       "    </tr>\n",
       "    <tr>\n",
       "      <td>...</td>\n",
       "      <td>...</td>\n",
       "      <td>...</td>\n",
       "      <td>...</td>\n",
       "      <td>...</td>\n",
       "      <td>...</td>\n",
       "      <td>...</td>\n",
       "    </tr>\n",
       "    <tr>\n",
       "      <td>57</td>\n",
       "      <td>2019-08-29</td>\n",
       "      <td>B</td>\n",
       "      <td>510</td>\n",
       "      <td>490</td>\n",
       "      <td>4746610</td>\n",
       "      <td>17708</td>\n",
       "    </tr>\n",
       "    <tr>\n",
       "      <td>58</td>\n",
       "      <td>2019-08-30</td>\n",
       "      <td>A</td>\n",
       "      <td>460</td>\n",
       "      <td>437</td>\n",
       "      <td>3311413</td>\n",
       "      <td>18037</td>\n",
       "    </tr>\n",
       "    <tr>\n",
       "      <td>59</td>\n",
       "      <td>2019-08-30</td>\n",
       "      <td>B</td>\n",
       "      <td>531</td>\n",
       "      <td>511</td>\n",
       "      <td>4955833</td>\n",
       "      <td>18198</td>\n",
       "    </tr>\n",
       "    <tr>\n",
       "      <td>60</td>\n",
       "      <td>2019-08-31</td>\n",
       "      <td>A</td>\n",
       "      <td>468</td>\n",
       "      <td>445</td>\n",
       "      <td>3364656</td>\n",
       "      <td>18736</td>\n",
       "    </tr>\n",
       "    <tr>\n",
       "      <td>61</td>\n",
       "      <td>2019-08-31</td>\n",
       "      <td>B</td>\n",
       "      <td>548</td>\n",
       "      <td>528</td>\n",
       "      <td>5068972</td>\n",
       "      <td>18916</td>\n",
       "    </tr>\n",
       "  </tbody>\n",
       "</table>\n",
       "<p>62 rows × 6 columns</p>\n",
       "</div>"
      ],
      "text/plain": [
       "         date group  orders  buyers  revenue  visitors\n",
       "0  2019-08-01  A     23      19      142779   719     \n",
       "1  2019-08-01  B     17      17      59758    713     \n",
       "2  2019-08-02  A     42      36      234381   1338    \n",
       "3  2019-08-02  B     40      39      221801   1294    \n",
       "4  2019-08-03  A     66      60      346854   1845    \n",
       "..        ... ..     ..      ..         ...    ...    \n",
       "57 2019-08-29  B     510     490     4746610  17708   \n",
       "58 2019-08-30  A     460     437     3311413  18037   \n",
       "59 2019-08-30  B     531     511     4955833  18198   \n",
       "60 2019-08-31  A     468     445     3364656  18736   \n",
       "61 2019-08-31  B     548     528     5068972  18916   \n",
       "\n",
       "[62 rows x 6 columns]"
      ]
     },
     "execution_count": 41,
     "metadata": {},
     "output_type": "execute_result"
    }
   ],
   "source": [
    "cumulativeData"
   ]
  },
  {
   "cell_type": "code",
   "execution_count": 42,
   "metadata": {},
   "outputs": [],
   "source": [
    "# датафрейм с кумулятивным количеством заказов и кумулятивной выручкой по дням в группе А\n",
    "cumulativeRevenueA = cumulativeData[cumulativeData['group']=='A'][['date','revenue', 'orders']]"
   ]
  },
  {
   "cell_type": "code",
   "execution_count": 43,
   "metadata": {},
   "outputs": [],
   "source": [
    "# датафрейм с кумулятивным количеством заказов и кумулятивной выручкой по дням в группе B\n",
    "cumulativeRevenueB = cumulativeData[cumulativeData['group']=='B'][['date','revenue', 'orders']]"
   ]
  },
  {
   "cell_type": "code",
   "execution_count": 44,
   "metadata": {},
   "outputs": [
    {
     "data": {
      "image/png": "[encoded data removed]",
      "text/plain": [
       "<Figure size 1800x576 with 1 Axes>"
      ]
     },
     "metadata": {
      "needs_background": "light"
     },
     "output_type": "display_data"
    }
   ],
   "source": [
    "from pandas.plotting import register_matplotlib_converters\n",
    "register_matplotlib_converters()\n",
    "\n",
    "plt.figure(figsize=(25, 8))\n",
    "# Строим график выручки группы А\n",
    "plt.plot(cumulativeRevenueA['date'], cumulativeRevenueA['revenue'], label='A')\n",
    "# Строим график выручки группы B\n",
    "plt.plot(cumulativeRevenueB['date'], cumulativeRevenueB['revenue'], label='B')\n",
    "\n",
    "plt.annotate('скачок', xy=('2019-08-17', 2800000), xytext=('2019-08-10', 3500000),\n",
    "            arrowprops=dict(facecolor='g'))\n",
    "plt.annotate('отрыв', xy=('2019-08-05', 800000), xytext=('2019-08-05', 2000000),\n",
    "            arrowprops=dict(facecolor='g')) \n",
    "\n",
    "plt.title('График кумулятивной выручки по группам', fontsize=20)\n",
    "plt.xlabel('Дата', fontsize=14)\n",
    "plt.ylabel('Выручка, руб.', fontsize=14)\n",
    "plt.legend() \n",
    "plt.show()"
   ]
  },
  {
   "cell_type": "markdown",
   "metadata": {},
   "source": [
    "Вывод:"
   ]
  },
  {
   "cell_type": "markdown",
   "metadata": {},
   "source": [
    "Выручка почти равномерно увеличивается в течение всего теста."
   ]
  },
  {
   "cell_type": "markdown",
   "metadata": {},
   "source": [
    "Однако график выручки группы В в определенной точке резко возрастает и продолжает расти тем же темпом что и до всплеска. Это может сигнализировать о всплесках числа заказов, либо о появлении очень дорогих заказов в выборке. "
   ]
  },
  {
   "cell_type": "markdown",
   "metadata": {},
   "source": [
    "### График кумулятивного среднего чека по группам. Выводы и предположения."
   ]
  },
  {
   "cell_type": "code",
   "execution_count": 45,
   "metadata": {},
   "outputs": [
    {
     "data": {
      "image/png": "[encoded data removed]",
      "text/plain": [
       "<Figure size 1800x576 with 1 Axes>"
      ]
     },
     "metadata": {
      "needs_background": "light"
     },
     "output_type": "display_data"
    }
   ],
   "source": [
    "plt.figure(figsize=(25, 8))\n",
    "plt.plot(cumulativeRevenueA['date'], cumulativeRevenueA['revenue']/cumulativeRevenueA['orders'], label='A')\n",
    "plt.plot(cumulativeRevenueB['date'], cumulativeRevenueB['revenue']/cumulativeRevenueB['orders'], label='B')\n",
    "plt.axis([\"2019-08-01\", '2019-08-31', 2000, 11000])\n",
    "plt.title('График кумулятивного среднего чека по группам', fontsize=20)\n",
    "plt.xlabel('Дата', fontsize=14)\n",
    "plt.ylabel('Чек, руб.', fontsize=14)\n",
    "\n",
    "plt.annotate('Скачок', xy=('2019-08-18', 8000), xytext=('2019-08-14', 10000),\n",
    "            arrowprops=dict(facecolor='g'))\n",
    "\n",
    "plt.legend()\n",
    "plt.show()"
   ]
  },
  {
   "cell_type": "markdown",
   "metadata": {},
   "source": [
    "Вывод:"
   ]
  },
  {
   "cell_type": "markdown",
   "metadata": {},
   "source": [
    "Наблюдаем схожую картину что и на графике с кумулятивной выручкой. Получаем что в период 17 по 21 августа 19 года была совершена аномально большая покупка"
   ]
  },
  {
   "cell_type": "markdown",
   "metadata": {},
   "source": [
    "### График относительного изменения кумулятивного среднего чека группы B к группе A. Выводы и предположения."
   ]
  },
  {
   "cell_type": "code",
   "execution_count": 46,
   "metadata": {},
   "outputs": [
    {
     "data": {
      "image/png": "[encoded data removed]",
      "text/plain": [
       "<Figure size 1800x576 with 1 Axes>"
      ]
     },
     "metadata": {
      "needs_background": "light"
     },
     "output_type": "display_data"
    }
   ],
   "source": [
    "# собираем данные в одном датафрейме\n",
    "mergedCumulativeRevenue = cumulativeRevenueA.merge(cumulativeRevenueB, left_on='date', right_on='date', how='left', suffixes=['A', 'B'])\n",
    "\n",
    "# cтроим отношение средних чеков\n",
    "plt.figure(figsize=(25, 8))\n",
    "plt.plot(mergedCumulativeRevenue['date'], (mergedCumulativeRevenue['revenueB']/mergedCumulativeRevenue['ordersB'])/(mergedCumulativeRevenue['revenueA']/mergedCumulativeRevenue['ordersA'])-1)\n",
    "plt.axis([\"2019-08-01\", '2019-08-31', -1, 1])\n",
    "plt.title('График относительного изменения кумулятивного среднего чека группы B к группе A', fontsize=22)\n",
    "plt.xlabel('Дата', fontsize=18)\n",
    "# добавляем ось X\n",
    "plt.axhline(y=0, color='black', linestyle='--')\n",
    "plt.show()"
   ]
  },
  {
   "cell_type": "markdown",
   "metadata": {},
   "source": [
    "Вывод:"
   ]
  },
  {
   "cell_type": "markdown",
   "metadata": {},
   "source": [
    "До совершения аномальной покупки график кумулятивного среднего чека колебался, после же стабилизировался."
   ]
  },
  {
   "cell_type": "markdown",
   "metadata": {},
   "source": [
    "### График кумулятивной конверсии по группам. Выводы и предположения."
   ]
  },
  {
   "cell_type": "code",
   "execution_count": 47,
   "metadata": {},
   "outputs": [
    {
     "data": {
      "image/png": "[encoded data removed]",
      "text/plain": [
       "<Figure size 1800x576 with 1 Axes>"
      ]
     },
     "metadata": {
      "needs_background": "light"
     },
     "output_type": "display_data"
    }
   ],
   "source": [
    "# считаем кумулятивную конверсию\n",
    "cumulativeData['conversion'] = cumulativeData['orders']/cumulativeData['visitors']\n",
    "\n",
    "# отделяем данные по группе A\n",
    "cumulativeDataA = cumulativeData[cumulativeData['group']=='A']\n",
    "\n",
    "# отделяем данные по группе B\n",
    "cumulativeDataB = cumulativeData[cumulativeData['group']=='B']\n",
    "\n",
    "# строим графики\n",
    "plt.figure(figsize=(25, 8))\n",
    "plt.plot(cumulativeDataA['date'], cumulativeDataA['conversion'], label='A')\n",
    "plt.plot(cumulativeDataB['date'], cumulativeDataB['conversion'], label='B')\n",
    "plt.title('График кумулятивной конверсии по группам', fontsize=22)\n",
    "plt.xlabel('Дата', fontsize=18)\n",
    "plt.axis([\"2019-08-01\", '2019-08-31', 0, 0.04])\n",
    "plt.legend()\n",
    "plt.show()\n",
    "\n",
    "# задаем масштаб осей\n",
    "#plt.axis([\"2019-04-01\", '2019-04-23', 0, 0.015])"
   ]
  },
  {
   "cell_type": "markdown",
   "metadata": {},
   "source": [
    "Вывод:"
   ]
  },
  {
   "cell_type": "markdown",
   "metadata": {},
   "source": [
    "Однако по графику кумулятивной конферсии видим что группа В имеет большую конверсию практически на протяжении всего эксперимента."
   ]
  },
  {
   "cell_type": "markdown",
   "metadata": {},
   "source": [
    "### График относительного изменения кумулятивной конверсии группы B к группе A. Выводы и предположения."
   ]
  },
  {
   "cell_type": "code",
   "execution_count": 48,
   "metadata": {},
   "outputs": [
    {
     "data": {
      "image/png": "[encoded data removed]",
      "text/plain": [
       "<Figure size 1800x576 with 1 Axes>"
      ]
     },
     "metadata": {
      "needs_background": "light"
     },
     "output_type": "display_data"
    }
   ],
   "source": [
    "mergedCumulativeConversions = cumulativeDataA[['date','conversion']].merge(cumulativeDataB[['date','conversion']], left_on='date', right_on='date', how='left', suffixes=['A', 'B'])\n",
    "\n",
    "plt.figure(figsize=(25, 8))\n",
    "plt.plot(mergedCumulativeConversions['date'], mergedCumulativeConversions['conversionB']/mergedCumulativeConversions['conversionA']-1, label=\"Относительный прирост конверсии группы B относительно группы A\")\n",
    "plt.title('График относительного изменения кумулятивной конверсии группы B к группе A', fontsize=22)\n",
    "plt.xlabel('Дата', fontsize=18)\n",
    "plt.axhline(y=0, color='black', linestyle='--')\n",
    "plt.axhline(y=0.1, color='grey', linestyle='--')\n",
    "#plt.axis([\"2019-04-01\", '2019-04-23', -0.6, 0.6])\n",
    "plt.show()"
   ]
  },
  {
   "cell_type": "markdown",
   "metadata": {},
   "source": [
    "В начале теста группа B значительно проигрывала группе A, затем вырвалась вперёд. Стабилизировался график или нет судить сложно, но то что на протяжении большей части эксперимента кумулятивная конверсия группы В выше относительно А - факт"
   ]
  },
  {
   "cell_type": "markdown",
   "metadata": {},
   "source": [
    "### Точечный график количества заказов по пользователям. Выводы и предположения."
   ]
  },
  {
   "cell_type": "code",
   "execution_count": 49,
   "metadata": {},
   "outputs": [
    {
     "data": {
      "text/html": [
       "<div>\n",
       "<style scoped>\n",
       "    .dataframe tbody tr th:only-of-type {\n",
       "        vertical-align: middle;\n",
       "    }\n",
       "\n",
       "    .dataframe tbody tr th {\n",
       "        vertical-align: top;\n",
       "    }\n",
       "\n",
       "    .dataframe thead th {\n",
       "        text-align: right;\n",
       "    }\n",
       "</style>\n",
       "<table border=\"1\" class=\"dataframe\">\n",
       "  <thead>\n",
       "    <tr style=\"text-align: right;\">\n",
       "      <th></th>\n",
       "      <th>userId</th>\n",
       "      <th>orders</th>\n",
       "    </tr>\n",
       "  </thead>\n",
       "  <tbody>\n",
       "    <tr>\n",
       "      <td>908</td>\n",
       "      <td>3967698036</td>\n",
       "      <td>3</td>\n",
       "    </tr>\n",
       "    <tr>\n",
       "      <td>55</td>\n",
       "      <td>249864742</td>\n",
       "      <td>3</td>\n",
       "    </tr>\n",
       "    <tr>\n",
       "      <td>478</td>\n",
       "      <td>2108163459</td>\n",
       "      <td>3</td>\n",
       "    </tr>\n",
       "    <tr>\n",
       "      <td>687</td>\n",
       "      <td>2988190573</td>\n",
       "      <td>3</td>\n",
       "    </tr>\n",
       "    <tr>\n",
       "      <td>890</td>\n",
       "      <td>3908431265</td>\n",
       "      <td>3</td>\n",
       "    </tr>\n",
       "    <tr>\n",
       "      <td>138</td>\n",
       "      <td>611059232</td>\n",
       "      <td>3</td>\n",
       "    </tr>\n",
       "    <tr>\n",
       "      <td>632</td>\n",
       "      <td>2742574263</td>\n",
       "      <td>3</td>\n",
       "    </tr>\n",
       "    <tr>\n",
       "      <td>157</td>\n",
       "      <td>678354126</td>\n",
       "      <td>2</td>\n",
       "    </tr>\n",
       "    <tr>\n",
       "      <td>323</td>\n",
       "      <td>1404560065</td>\n",
       "      <td>2</td>\n",
       "    </tr>\n",
       "    <tr>\n",
       "      <td>452</td>\n",
       "      <td>1985475298</td>\n",
       "      <td>2</td>\n",
       "    </tr>\n",
       "  </tbody>\n",
       "</table>\n",
       "</div>"
      ],
      "text/plain": [
       "         userId  orders\n",
       "908  3967698036  3     \n",
       "55   249864742   3     \n",
       "478  2108163459  3     \n",
       "687  2988190573  3     \n",
       "890  3908431265  3     \n",
       "138  611059232   3     \n",
       "632  2742574263  3     \n",
       "157  678354126   2     \n",
       "323  1404560065  2     \n",
       "452  1985475298  2     "
      ]
     },
     "metadata": {},
     "output_type": "display_data"
    }
   ],
   "source": [
    "ordersByUsers = (\n",
    "    orders.drop(['group', 'revenue', 'date'], axis=1)\n",
    "    .groupby('userId', as_index=False)\n",
    "    .agg({'orderId': pd.Series.nunique})\n",
    ")\n",
    "\n",
    "ordersByUsers.columns = ['userId', 'orders']\n",
    "\n",
    "display(ordersByUsers.sort_values(by='orders', ascending=False).head(10))"
   ]
  },
  {
   "cell_type": "code",
   "execution_count": 50,
   "metadata": {},
   "outputs": [
    {
     "data": {
      "image/png": "[encoded data removed]",
      "text/plain": [
       "<Figure size 720x360 with 1 Axes>"
      ]
     },
     "metadata": {
      "needs_background": "light"
     },
     "output_type": "display_data"
    }
   ],
   "source": [
    "plt.figure(figsize=(10, 5))\n",
    "plt.hist(ordersByUsers['orders'], bins = 50) \n",
    "plt.title('Гистограмма количества заказов по пользователям', fontsize=15)\n",
    "plt.xlabel('Кол-во заказов, шт', fontsize=10)\n",
    "plt.ylabel('Кол-во пользователей, шт.', fontsize=10)\n",
    "plt.show()"
   ]
  },
  {
   "cell_type": "code",
   "execution_count": 51,
   "metadata": {},
   "outputs": [
    {
     "data": {
      "image/png": "[encoded data removed]",
      "text/plain": [
       "<Figure size 720x360 with 1 Axes>"
      ]
     },
     "metadata": {
      "needs_background": "light"
     },
     "output_type": "display_data"
    }
   ],
   "source": [
    "x_values = pd.Series(range(0,len(ordersByUsers)))\n",
    "\n",
    "plt.figure(figsize=(10, 5))\n",
    "plt.scatter(x_values, ordersByUsers['orders'])\n",
    "plt.title('График количества заказов по пользователям', fontsize=15)\n",
    "plt.ylabel('Кол-во заказов, шт', fontsize=10)\n",
    "#plt.ylabel('Кол-во пользователей, шт.', fontsize=10)\n",
    "plt.show()"
   ]
  },
  {
   "cell_type": "code",
   "execution_count": 52,
   "metadata": {},
   "outputs": [
    {
     "data": {
      "text/plain": [
       "array([1., 1., 2.])"
      ]
     },
     "execution_count": 52,
     "metadata": {},
     "output_type": "execute_result"
    }
   ],
   "source": [
    "np.percentile(ordersByUsers['orders'], [90, 95, 99])"
   ]
  },
  {
   "cell_type": "markdown",
   "metadata": {},
   "source": [
    "Не более 5% пользователей делает 1 заказ и не более 1% пользователей - 2 и более"
   ]
  },
  {
   "cell_type": "markdown",
   "metadata": {},
   "source": [
    "### Точечный график стоимостей заказов. Выводы и предположения."
   ]
  },
  {
   "cell_type": "code",
   "execution_count": 53,
   "metadata": {},
   "outputs": [
    {
     "data": {
      "image/png": "[encoded data removed]",
      "text/plain": [
       "<Figure size 720x360 with 1 Axes>"
      ]
     },
     "metadata": {
      "needs_background": "light"
     },
     "output_type": "display_data"
    }
   ],
   "source": [
    "plt.figure(figsize=(10, 5))\n",
    "plt.hist(orders['revenue'], range = (0, 50000)) \n",
    "plt.title('Гистограмма стоимостей заказов по пользователям', fontsize=15)\n",
    "plt.xlabel('Стоимость заказов, шт', fontsize=10)\n",
    "plt.ylabel('Кол-во пользователей, шт.', fontsize=10)\n",
    "plt.show()"
   ]
  },
  {
   "cell_type": "code",
   "execution_count": 54,
   "metadata": {},
   "outputs": [
    {
     "data": {
      "image/png": "[encoded data removed]",
      "text/plain": [
       "<Figure size 720x360 with 1 Axes>"
      ]
     },
     "metadata": {
      "needs_background": "light"
     },
     "output_type": "display_data"
    }
   ],
   "source": [
    "x_values = pd.Series(range(0,len(orders['revenue'])))\n",
    "\n",
    "plt.figure(figsize=(10, 5))\n",
    "plt.scatter(x_values, orders['revenue']) \n",
    "plt.title('График количества заказов по пользователям', fontsize=15)\n",
    "plt.ylabel('Сумма заказов, шт', fontsize=10)\n",
    "plt.show()"
   ]
  },
  {
   "cell_type": "code",
   "execution_count": 55,
   "metadata": {},
   "outputs": [
    {
     "data": {
      "text/plain": [
       "array([17990., 26785., 53904.])"
      ]
     },
     "execution_count": 55,
     "metadata": {},
     "output_type": "execute_result"
    }
   ],
   "source": [
    "np.percentile(orders['revenue'], [90, 95, 99])"
   ]
  },
  {
   "cell_type": "markdown",
   "metadata": {},
   "source": [
    "Не более 5% заказов дороже 26 785 рублей и не более 1% дороже 53 904 рублей."
   ]
  },
  {
   "cell_type": "markdown",
   "metadata": {},
   "source": [
    "### Посчитаем статистическую значимость различий в конверсии между группами по «сырым» данным."
   ]
  },
  {
   "cell_type": "code",
   "execution_count": 56,
   "metadata": {},
   "outputs": [
    {
     "name": "stdout",
     "output_type": "stream",
     "text": [
      "        date  ordersPerDateA  revenuePerDateA  ordersPerDateB  \\\n",
      "0 2019-08-01  23              142779           17               \n",
      "1 2019-08-02  19              91602            23               \n",
      "2 2019-08-03  24              112473           14               \n",
      "3 2019-08-04  11              41176            14               \n",
      "4 2019-08-05  22              86383            21               \n",
      "\n",
      "   revenuePerDateB  ordersCummulativeA  revenueCummulativeA  \\\n",
      "0  59758            23                  142779                \n",
      "1  162043           42                  234381                \n",
      "2  67049            66                  346854                \n",
      "3  96890            77                  388030                \n",
      "4  89908            99                  474413                \n",
      "\n",
      "   ordersCummulativeB  revenueCummulativeB  visitorsPerDateA  \\\n",
      "0  17                  59758                719                \n",
      "1  40                  221801               619                \n",
      "2  54                  288850               507                \n",
      "3  68                  385740               717                \n",
      "4  89                  475648               756                \n",
      "\n",
      "   visitorsPerDateB  visitorsCummulativeA  visitorsCummulativeB  \n",
      "0  713               719                   713                   \n",
      "1  581               1338                  1294                  \n",
      "2  509               1845                  1803                  \n",
      "3  770               2562                  2573                  \n",
      "4  707               3318                  3280                  \n"
     ]
    }
   ],
   "source": [
    "visitorsADaily = visitors[visitors['group'] == 'A'][['date', 'visitors']]\n",
    "visitorsADaily.columns = ['date', 'visitorsPerDateA']\n",
    "\n",
    "visitorsACummulative = visitorsADaily.apply(\n",
    "    lambda x: visitorsADaily[visitorsADaily['date'] <= x['date']].agg(\n",
    "        {'date': 'max', 'visitorsPerDateA': 'sum'}\n",
    "    ),\n",
    "    axis=1,\n",
    ")\n",
    "visitorsACummulative.columns = ['date', 'visitorsCummulativeA']\n",
    "\n",
    "visitorsBDaily = visitors[visitors['group'] == 'B'][['date', 'visitors']]\n",
    "visitorsBDaily.columns = ['date', 'visitorsPerDateB']\n",
    "\n",
    "visitorsBCummulative = visitorsBDaily.apply(\n",
    "    lambda x: visitorsBDaily[visitorsBDaily['date'] <= x['date']].agg(\n",
    "        {'date': 'max', 'visitorsPerDateB': 'sum'}\n",
    "    ),\n",
    "    axis=1,\n",
    ")\n",
    "visitorsBCummulative.columns = ['date', 'visitorsCummulativeB']\n",
    "\n",
    "ordersADaily = (\n",
    "    orders[orders['group'] == 'A'][['date', 'orderId', 'userId', 'revenue']]\n",
    "    .groupby('date', as_index=False)\n",
    "    .agg({'orderId': pd.Series.nunique, 'revenue': 'sum'})\n",
    ")\n",
    "ordersADaily.columns = ['date', 'ordersPerDateA', 'revenuePerDateA']\n",
    "\n",
    "ordersACummulative = ordersADaily.apply(\n",
    "    lambda x: ordersADaily[ordersADaily['date'] <= x['date']].agg(\n",
    "        {'date': 'max', 'ordersPerDateA': 'sum', 'revenuePerDateA': 'sum'}\n",
    "    ),\n",
    "    axis=1,\n",
    ").sort_values(by=['date'])\n",
    "ordersACummulative.columns = [\n",
    "    'date',\n",
    "    'ordersCummulativeA',\n",
    "    'revenueCummulativeA',\n",
    "]\n",
    "\n",
    "ordersBDaily = (\n",
    "    orders[orders['group'] == 'B'][['date', 'orderId', 'userId', 'revenue']]\n",
    "    .groupby('date', as_index=False)\n",
    "    .agg({'orderId': pd.Series.nunique, 'revenue': 'sum'})\n",
    ")\n",
    "ordersBDaily.columns = ['date', 'ordersPerDateB', 'revenuePerDateB']\n",
    "\n",
    "ordersBCummulative = ordersBDaily.apply(\n",
    "    lambda x: ordersBDaily[ordersBDaily['date'] <= x['date']].agg(\n",
    "        {'date': 'max', 'ordersPerDateB': 'sum', 'revenuePerDateB': 'sum'}\n",
    "    ),\n",
    "    axis=1,\n",
    ").sort_values(by=['date'])\n",
    "ordersBCummulative.columns = [\n",
    "    'date',\n",
    "    'ordersCummulativeB',\n",
    "    'revenueCummulativeB',\n",
    "]\n",
    "\n",
    "data = (\n",
    "    ordersADaily.merge(\n",
    "        ordersBDaily, left_on='date', right_on='date', how='left'\n",
    "    )\n",
    "    .merge(ordersACummulative, left_on='date', right_on='date', how='left')\n",
    "    .merge(ordersBCummulative, left_on='date', right_on='date', how='left')\n",
    "    .merge(visitorsADaily, left_on='date', right_on='date', how='left')\n",
    "    .merge(visitorsBDaily, left_on='date', right_on='date', how='left')\n",
    "    .merge(visitorsACummulative, left_on='date', right_on='date', how='left')\n",
    "    .merge(visitorsBCummulative, left_on='date', right_on='date', how='left')\n",
    ")\n",
    "\n",
    "print(data.head(5))"
   ]
  },
  {
   "cell_type": "code",
   "execution_count": 57,
   "metadata": {},
   "outputs": [],
   "source": [
    "ordersByUsersA = (\n",
    "    orders[orders['group'] == 'A']\n",
    "    .groupby('userId', as_index=False)\n",
    "    .agg({'orderId': pd.Series.nunique})\n",
    ")\n",
    "ordersByUsersA.columns = ['userId', 'orders']\n",
    "\n",
    "ordersByUsersB = (\n",
    "    orders[orders['group'] == 'B']\n",
    "    .groupby('userId', as_index=False)\n",
    "    .agg({'orderId': pd.Series.nunique})\n",
    ")\n",
    "ordersByUsersB.columns = ['userId', 'orders']"
   ]
  },
  {
   "cell_type": "code",
   "execution_count": 58,
   "metadata": {},
   "outputs": [],
   "source": [
    "sampleA = pd.concat([ordersByUsersA['orders'],pd.Series(0, index=np.arange(data['visitorsPerDateA'].sum() - len(ordersByUsersA['orders'])), name='orders')],axis=0)\n",
    "\n",
    "sampleB = pd.concat([ordersByUsersB['orders'],pd.Series(0, index=np.arange(data['visitorsPerDateB'].sum() - len(ordersByUsersB['orders'])), name='orders')],axis=0)"
   ]
  },
  {
   "cell_type": "markdown",
   "metadata": {},
   "source": [
    "Применяем непараметрический тест Манна-Уитни. Проведем одностороннюю проверку. "
   ]
  },
  {
   "cell_type": "markdown",
   "metadata": {},
   "source": [
    "<div>\n",
    "Выдвинем следующие гипотезы:\n",
    "<ul>\n",
    "<li>Н0 - нет статистической значимости в различиях конверсий групп А и В</li>\n",
    "<li>Н1 - конверсия группы В больше конверсии группы А\"</li>\n",
    "</ul>\n",
    "</div>"
   ]
  },
  {
   "cell_type": "code",
   "execution_count": 59,
   "metadata": {},
   "outputs": [
    {
     "name": "stdout",
     "output_type": "stream",
     "text": [
      "p-значение:  0.006\n",
      "Отвергаем нулевую гипотезу: разница статистически значима\n",
      "Разница между сегментами: 16.0%\n"
     ]
    }
   ],
   "source": [
    "alpha = 0.05\n",
    "\n",
    "results = stats.mannwhitneyu(sampleA, sampleB, alternative='less')\n",
    "\n",
    "print('p-значение: ', results.pvalue.round(3))\n",
    "\n",
    "if results.pvalue < alpha:\n",
    "    print('Отвергаем нулевую гипотезу: разница статистически значима')\n",
    "else:\n",
    "    print(\n",
    "        'Не получилось отвергнуть нулевую гипотезу, вывод о различии сделать нельзя'\n",
    "    ) \n",
    "    \n",
    "print(\"Разница между сегментами: {0:.1%}\".format(sampleB.mean() / sampleA.mean() - 1))"
   ]
  },
  {
   "cell_type": "markdown",
   "metadata": {},
   "source": [
    "По сырым данным P-value < 0.05, а следовательно отвергаем нулевую гипотезу, между конверсиями двух групп существует статистически значимая разница."
   ]
  },
  {
   "cell_type": "markdown",
   "metadata": {},
   "source": [
    "Выйгрыш группы В составляет 16%"
   ]
  },
  {
   "cell_type": "markdown",
   "metadata": {},
   "source": [
    "### Посчитаем статистическую значимость различий в среднем чеке заказа между группами по «сырым» данным. "
   ]
  },
  {
   "cell_type": "markdown",
   "metadata": {},
   "source": [
    "Применяем непараметрический тест Манна-Уитни. Проведем двустороннюю проверку."
   ]
  },
  {
   "cell_type": "markdown",
   "metadata": {},
   "source": [
    "<div>\n",
    "Выдвинем следующие гипотезы:\n",
    "<ul>\n",
    "<li>Н0 - нет статистической значимости в различиях среднего чека групп А и В</li>\n",
    "<li>Н1 - Средний чек групп А и В отличается</li>\n",
    "</ul>\n",
    "</div>"
   ]
  },
  {
   "cell_type": "code",
   "execution_count": 60,
   "metadata": {},
   "outputs": [],
   "source": [
    "checkA = orders[orders['group']=='A']['revenue']\n",
    "checkB = orders[orders['group']=='B']['revenue']"
   ]
  },
  {
   "cell_type": "code",
   "execution_count": 61,
   "metadata": {},
   "outputs": [
    {
     "name": "stdout",
     "output_type": "stream",
     "text": [
      "p-значение:  0.829\n",
      "Не получилось отвергнуть нулевую гипотезу, вывод о различии сделать нельзя\n",
      "Разница между сегментами: 28.7%\n"
     ]
    }
   ],
   "source": [
    "alpha = 0.05\n",
    "\n",
    "results = stats.mannwhitneyu(checkA, checkB, alternative='two-sided')\n",
    "\n",
    "print('p-значение: ', results.pvalue.round(3))\n",
    "\n",
    "if results.pvalue < alpha:\n",
    "    print('Отвергаем нулевую гипотезу: разница статистически значима')\n",
    "else:\n",
    "    print(\n",
    "        'Не получилось отвергнуть нулевую гипотезу, вывод о различии сделать нельзя'\n",
    "    ) \n",
    "    \n",
    "print(\"Разница между сегментами: {0:.1%}\".format(checkB.mean() / checkA.mean() - 1))"
   ]
  },
  {
   "cell_type": "markdown",
   "metadata": {},
   "source": [
    "По сырым данным P-value > 0.05, а следовательно причин отвергать нулевую гипотезу и считать, что в среднем чеке есть различия, нет. Впрочем, средний чек группы B значительно выше среднего чека группы A (на 28,7%)."
   ]
  },
  {
   "cell_type": "markdown",
   "metadata": {},
   "source": [
    "### Посчитаем статистическую значимость различий в конверсии между группами по «очищенным» данным."
   ]
  },
  {
   "cell_type": "code",
   "execution_count": 62,
   "metadata": {},
   "outputs": [
    {
     "name": "stdout",
     "output_type": "stream",
     "text": [
      "1099    148427295\n",
      "928     204675465\n",
      "33      249864742\n",
      "684     358944393\n",
      "36      366673373\n",
      "Name: userId, dtype: int64\n",
      "(77,)\n"
     ]
    }
   ],
   "source": [
    "usersWithManyOrders = pd.concat(\n",
    "    [\n",
    "        ordersByUsersA[ordersByUsersA['orders'] > 1]['userId'],\n",
    "        ordersByUsersB[ordersByUsersB['orders'] > 1]['userId'],\n",
    "    ],\n",
    "    axis=0,\n",
    ")\n",
    "usersWithExpensiveOrders = orders[orders['revenue'] > 30000]['userId']\n",
    "abnormalUsers = (\n",
    "    pd.concat([usersWithManyOrders, usersWithExpensiveOrders], axis=0)\n",
    "    .drop_duplicates()\n",
    "    .sort_values()\n",
    ")\n",
    "print(abnormalUsers.head(5))\n",
    "print(abnormalUsers.shape)"
   ]
  },
  {
   "cell_type": "markdown",
   "metadata": {},
   "source": [
    "Всего 77 аномальных пользователей.\n",
    "\n",
    "Узнаем, как их действия повлияли на результаты теста. Посчитаем статистическую значимость различий в конверсии между группами теста по очищенным данным."
   ]
  },
  {
   "cell_type": "markdown",
   "metadata": {},
   "source": [
    "Применяем непараметрический тест Манна-Уитни. Проведем одностороннюю проверку. "
   ]
  },
  {
   "cell_type": "markdown",
   "metadata": {},
   "source": [
    "<div>\n",
    "Выдвинем следующие гипотезы:\n",
    "<ul>\n",
    "<li>Н0 - нет статистической значимости в различиях конверсий групп А и В</li>\n",
    "<li>Н1 - конверсия группы В больше конверсии группы А\"</li>\n",
    "</ul>\n",
    "</div>"
   ]
  },
  {
   "cell_type": "code",
   "execution_count": 63,
   "metadata": {},
   "outputs": [],
   "source": [
    "sampleAFiltered = pd.concat(\n",
    "    [\n",
    "        ordersByUsersA[\n",
    "            np.logical_not(ordersByUsersA['userId'].isin(abnormalUsers))\n",
    "        ]['orders'],\n",
    "        pd.Series(\n",
    "            0,\n",
    "            index=np.arange(\n",
    "                data['visitorsPerDateA'].sum() - len(ordersByUsersA['orders'])\n",
    "            ),\n",
    "            name='orders',\n",
    "        ),\n",
    "    ],\n",
    "    axis=0,\n",
    ")\n",
    "\n",
    "sampleBFiltered = pd.concat(\n",
    "    [\n",
    "        ordersByUsersB[\n",
    "            np.logical_not(ordersByUsersB['userId'].isin(abnormalUsers))\n",
    "        ]['orders'],\n",
    "        pd.Series(\n",
    "            0,\n",
    "            index=np.arange(\n",
    "                data['visitorsPerDateB'].sum() - len(ordersByUsersB['orders'])\n",
    "            ),\n",
    "            name='orders',\n",
    "        ),\n",
    "    ],\n",
    "    axis=0,\n",
    ")"
   ]
  },
  {
   "cell_type": "code",
   "execution_count": 64,
   "metadata": {},
   "outputs": [
    {
     "name": "stdout",
     "output_type": "stream",
     "text": [
      "p-значение:  0.006\n",
      "Отвергаем нулевую гипотезу: разница статистически значима\n",
      "Разница между сегментами: 18.0%\n"
     ]
    }
   ],
   "source": [
    "alpha = 0.05\n",
    "\n",
    "results = stats.mannwhitneyu(sampleAFiltered, sampleBFiltered, alternative='less')\n",
    "\n",
    "print('p-значение: ', results.pvalue.round(3))\n",
    "\n",
    "if results.pvalue < alpha:\n",
    "    print('Отвергаем нулевую гипотезу: разница статистически значима')\n",
    "else:\n",
    "    print(\n",
    "        'Не получилось отвергнуть нулевую гипотезу, вывод о различии сделать нельзя'\n",
    "    ) \n",
    "    \n",
    "print(\"Разница между сегментами: {0:.1%}\".format(sampleBFiltered.mean() / sampleAFiltered.mean() - 1))"
   ]
  },
  {
   "cell_type": "markdown",
   "metadata": {},
   "source": [
    "Результаты по конверсии практически не изменились."
   ]
  },
  {
   "cell_type": "markdown",
   "metadata": {},
   "source": [
    "### Посчитаем статистическую значимость различий в среднем чеке заказа между группами по «очищенным» данным."
   ]
  },
  {
   "cell_type": "markdown",
   "metadata": {},
   "source": [
    "Применяем непараметрический тест Манна-Уитни. Проведем двустороннюю проверку."
   ]
  },
  {
   "cell_type": "markdown",
   "metadata": {},
   "source": [
    "<div>\n",
    "Выдвинем следующие гипотезы:\n",
    "<ul>\n",
    "<li>Н0 - нет статистической значимости в различиях среднего чека групп А и В</li>\n",
    "<li>Н1 - Средний чек групп А и В отличается</li>\n",
    "</ul>\n",
    "</div>"
   ]
  },
  {
   "cell_type": "code",
   "execution_count": 65,
   "metadata": {},
   "outputs": [],
   "source": [
    "check_A_Filtered = orders[\n",
    "                np.logical_and(\n",
    "                    orders['group'] == 'A',\n",
    "                    np.logical_not(orders['userId'].isin(abnormalUsers)),\n",
    "                )\n",
    "            ]['revenue']\n",
    "check_B_Filtered = orders[\n",
    "                np.logical_and(\n",
    "                    orders['group'] == 'B',\n",
    "                    np.logical_not(orders['userId'].isin(abnormalUsers)),\n",
    "                )\n",
    "            ]['revenue']"
   ]
  },
  {
   "cell_type": "code",
   "execution_count": 66,
   "metadata": {},
   "outputs": [
    {
     "name": "stdout",
     "output_type": "stream",
     "text": [
      "p-значение:  0.829\n",
      "Не получилось отвергнуть нулевую гипотезу, вывод о различии сделать нельзя\n",
      "Разница между сегментами: -1.1%\n"
     ]
    }
   ],
   "source": [
    "alpha = 0.05\n",
    "\n",
    "results = stats.mannwhitneyu(check_A_Filtered, check_B_Filtered, alternative='two-sided')\n",
    "\n",
    "print('p-значение: ', results.pvalue.round(3))\n",
    "\n",
    "if results.pvalue < alpha:\n",
    "    print('Отвергаем нулевую гипотезу: разница статистически значима')\n",
    "else:\n",
    "    print(\n",
    "        'Не получилось отвергнуть нулевую гипотезу, вывод о различии сделать нельзя'\n",
    "    ) \n",
    "    \n",
    "print(\"Разница между сегментами: {0:.1%}\".format(check_B_Filtered.mean() / check_A_Filtered.mean() - 1))"
   ]
  },
  {
   "cell_type": "markdown",
   "metadata": {},
   "source": [
    "P-value практически не изменился, однако разница между сегментами сократилась с 28,7% до -1.1%."
   ]
  },
  {
   "cell_type": "markdown",
   "metadata": {},
   "source": [
    "Есть статистически значимое различие по конверсии между группами по «сырым», и по данным после фильтрации аномалий;"
   ]
  },
  {
   "cell_type": "markdown",
   "metadata": {},
   "source": [
    "Нет статистически значимого различия по среднему чеку между группами ни по «сырым», но есть по данным после фильтрации аномалий;"
   ]
  },
  {
   "cell_type": "markdown",
   "metadata": {},
   "source": [
    "График различия конверсии между группами сообщает, что результаты группы B лучше группы A и нет значительной тенденции к ухудшению:"
   ]
  },
  {
   "cell_type": "markdown",
   "metadata": {},
   "source": [
    "График различия среднего чека колеблется: он-то и позволил нам найти аномалии. Сделать из этого графика определённые выводы нельзя.\n"
   ]
  },
  {
   "cell_type": "markdown",
   "metadata": {},
   "source": [
    "## Результаты теста"
   ]
  },
  {
   "cell_type": "markdown",
   "metadata": {},
   "source": [
    "Варианты решений: \n",
    "1. Остановить тест, зафиксировать победу одной из групп. \n",
    "2. Остановить тест, зафиксировать отсутствие различий между группами. \n",
    "3. Продолжить тест."
   ]
  },
  {
   "cell_type": "markdown",
   "metadata": {},
   "source": [
    "Мы произвели приоритезацию гипотез при помощи 2ух фремворков: ICE и RICE. Результаты различаются в следствии того, что второй фреймворк учитывает такой параметр как охват изменения."
   ]
  },
  {
   "cell_type": "markdown",
   "metadata": {},
   "source": [
    "   Следующим шагом мы построили график кумулятивной выручки по группам. На нем видно что кумулятивная выручка группы В была больше, но имела схожую динамику роста до момента резкого скачка. Мы сделали предположение что это следствие аномально большого заказа, что нам подтвердил график кумулятивного среднего чека.\n",
    "    \n",
    "   Построив график кумулятивной конверсии по группам и относительного изменения кумулятивной конверссии группы В к группе А получили результат что несмотря на аномально большие покупки в группе В кумулятивная конверсия группы В была стабильно выше на протяжении большей части эксперимента.\n",
    "\n",
    "   Так же мы определили перцентили количества заказов и его стоимости и получили результат: большинство пользователей совершают 1 заказ а его цена крайне редко превышает 27к.\n",
    "    \n",
    "   Посчитав статистическую значимость различий в конверсии между группами по сырым и отчищенным данным получили что разница между группами статистически значима и конверся группы В больше конверсии группы А на 18% по сырым данным и на 16% по очищенным.\n",
    "    \n",
    "   Статистической значимости различий в конверсии между группами по среднему чеку не обнаруженна, хотя по сырым данным средний чек группы В был больше на 28,7% а по очищенным меньше на 1,1%\n",
    "\n",
    "   Заключаем что по среднему чеку различий между группами нет, но наблюдается разница в конверсии.\n",
    "   Исходя из обнаруженных фактов, тест следует остановить, зафиксировать победу одной из групп(В) и признать его успешным."
   ]
  }
 ],
 "metadata": {
  "ExecuteTimeLog": [
   {
    "duration": 861,
    "start_time": "2021-06-10T12:06:16.635Z"
   },
   {
    "duration": 19,
    "start_time": "2021-06-10T12:06:43.515Z"
   },
   {
    "duration": 21,
    "start_time": "2021-06-10T12:07:26.791Z"
   },
   {
    "duration": 39,
    "start_time": "2021-06-10T12:07:57.023Z"
   },
   {
    "duration": 13,
    "start_time": "2021-06-10T12:08:16.251Z"
   },
   {
    "duration": 8,
    "start_time": "2021-06-10T12:08:36.687Z"
   },
   {
    "duration": 16,
    "start_time": "2021-06-10T12:09:31.323Z"
   },
   {
    "duration": 10,
    "start_time": "2021-06-10T12:09:31.931Z"
   },
   {
    "duration": 9,
    "start_time": "2021-06-10T12:09:32.411Z"
   },
   {
    "duration": 34,
    "start_time": "2021-06-10T12:09:33.099Z"
   },
   {
    "duration": 33,
    "start_time": "2021-06-10T12:10:03.015Z"
   },
   {
    "duration": 11,
    "start_time": "2021-06-10T12:10:14.159Z"
   },
   {
    "duration": 8,
    "start_time": "2021-06-10T12:10:21.887Z"
   },
   {
    "duration": 34,
    "start_time": "2021-06-10T12:10:46.559Z"
   },
   {
    "duration": 8,
    "start_time": "2021-06-10T12:10:50.711Z"
   },
   {
    "duration": 32,
    "start_time": "2021-06-10T12:10:51.251Z"
   },
   {
    "duration": 17,
    "start_time": "2021-06-10T12:11:41.903Z"
   },
   {
    "duration": 11,
    "start_time": "2021-06-10T12:11:48.135Z"
   },
   {
    "duration": 8,
    "start_time": "2021-06-10T12:11:54.655Z"
   },
   {
    "duration": 22,
    "start_time": "2021-06-10T12:12:14.139Z"
   },
   {
    "duration": 309,
    "start_time": "2021-06-10T18:55:50.185Z"
   },
   {
    "duration": 807,
    "start_time": "2021-06-10T18:55:56.244Z"
   },
   {
    "duration": 24,
    "start_time": "2021-06-10T18:55:57.920Z"
   },
   {
    "duration": 21,
    "start_time": "2021-06-10T18:55:59.684Z"
   },
   {
    "duration": 304,
    "start_time": "2021-06-10T18:56:00.501Z"
   },
   {
    "duration": 5,
    "start_time": "2021-06-10T18:58:05.028Z"
   },
   {
    "duration": 9,
    "start_time": "2021-06-10T18:58:07.925Z"
   },
   {
    "duration": 34,
    "start_time": "2021-06-10T18:58:14.960Z"
   },
   {
    "duration": 10,
    "start_time": "2021-06-10T18:59:53.393Z"
   },
   {
    "duration": 11,
    "start_time": "2021-06-10T18:59:54.476Z"
   },
   {
    "duration": 8,
    "start_time": "2021-06-10T19:00:23.677Z"
   },
   {
    "duration": 13,
    "start_time": "2021-06-10T19:00:39.948Z"
   },
   {
    "duration": 4,
    "start_time": "2021-06-10T19:06:30.224Z"
   },
   {
    "duration": 9,
    "start_time": "2021-06-10T19:06:31.192Z"
   },
   {
    "duration": 6,
    "start_time": "2021-06-10T19:06:41.667Z"
   },
   {
    "duration": 10,
    "start_time": "2021-06-10T19:06:42.072Z"
   },
   {
    "duration": 98,
    "start_time": "2021-06-10T19:08:16.099Z"
   },
   {
    "duration": 118,
    "start_time": "2021-06-10T19:10:11.072Z"
   },
   {
    "duration": 4,
    "start_time": "2021-06-10T19:10:43.963Z"
   },
   {
    "duration": 306,
    "start_time": "2021-06-10T19:12:50.594Z"
   },
   {
    "duration": 1335,
    "start_time": "2021-06-10T19:13:18.715Z"
   },
   {
    "duration": 858,
    "start_time": "2021-06-10T19:13:26.859Z"
   },
   {
    "duration": 20,
    "start_time": "2021-06-10T19:13:27.720Z"
   },
   {
    "duration": 24,
    "start_time": "2021-06-10T19:13:27.743Z"
   },
   {
    "duration": 6,
    "start_time": "2021-06-10T19:13:27.771Z"
   },
   {
    "duration": 27,
    "start_time": "2021-06-10T19:13:27.780Z"
   },
   {
    "duration": 42,
    "start_time": "2021-06-10T19:13:27.811Z"
   },
   {
    "duration": 44,
    "start_time": "2021-06-10T19:13:27.856Z"
   },
   {
    "duration": 15,
    "start_time": "2021-06-10T19:13:27.906Z"
   },
   {
    "duration": 14,
    "start_time": "2021-06-10T19:13:27.924Z"
   },
   {
    "duration": 76,
    "start_time": "2021-06-10T19:13:27.940Z"
   },
   {
    "duration": 18,
    "start_time": "2021-06-10T19:13:28.018Z"
   },
   {
    "duration": 18,
    "start_time": "2021-06-10T19:13:28.039Z"
   },
   {
    "duration": 10,
    "start_time": "2021-06-10T19:13:28.060Z"
   },
   {
    "duration": 43,
    "start_time": "2021-06-10T19:13:28.072Z"
   },
   {
    "duration": 11,
    "start_time": "2021-06-10T19:13:28.117Z"
   },
   {
    "duration": 4,
    "start_time": "2021-06-10T19:13:28.130Z"
   },
   {
    "duration": 17,
    "start_time": "2021-06-10T19:13:28.136Z"
   },
   {
    "duration": 7,
    "start_time": "2021-06-10T19:13:28.155Z"
   },
   {
    "duration": 45,
    "start_time": "2021-06-10T19:13:28.165Z"
   },
   {
    "duration": 96,
    "start_time": "2021-06-10T19:13:28.213Z"
   },
   {
    "duration": -7,
    "start_time": "2021-06-10T19:13:28.319Z"
   },
   {
    "duration": -7,
    "start_time": "2021-06-10T19:13:28.320Z"
   },
   {
    "duration": 21,
    "start_time": "2021-06-10T19:13:34.067Z"
   },
   {
    "duration": 18,
    "start_time": "2021-06-10T19:13:35.992Z"
   },
   {
    "duration": 10,
    "start_time": "2021-06-10T19:14:07.067Z"
   },
   {
    "duration": 1370,
    "start_time": "2021-06-10T19:14:43.755Z"
   },
   {
    "duration": 272,
    "start_time": "2021-06-10T19:15:05.959Z"
   },
   {
    "duration": 14,
    "start_time": "2021-06-10T19:15:12.879Z"
   },
   {
    "duration": 6,
    "start_time": "2021-06-10T19:15:30.047Z"
   },
   {
    "duration": 15,
    "start_time": "2021-06-10T19:15:38.467Z"
   },
   {
    "duration": 9,
    "start_time": "2021-06-10T19:15:50.135Z"
   },
   {
    "duration": 8,
    "start_time": "2021-06-10T19:17:05.800Z"
   },
   {
    "duration": 6781,
    "start_time": "2021-06-10T19:17:18.259Z"
   },
   {
    "duration": 4,
    "start_time": "2021-06-10T19:22:53.083Z"
   },
   {
    "duration": 1239,
    "start_time": "2021-06-10T19:22:55.222Z"
   },
   {
    "duration": 33,
    "start_time": "2021-06-10T19:22:56.430Z"
   },
   {
    "duration": 1311,
    "start_time": "2021-06-10T19:23:11.975Z"
   },
   {
    "duration": 42,
    "start_time": "2021-06-10T19:23:21.727Z"
   },
   {
    "duration": 12,
    "start_time": "2021-06-10T19:23:22.620Z"
   },
   {
    "duration": 9,
    "start_time": "2021-06-10T19:23:25.583Z"
   },
   {
    "duration": 41,
    "start_time": "2021-06-10T19:23:27.427Z"
   },
   {
    "duration": 27,
    "start_time": "2021-06-10T19:23:33.231Z"
   },
   {
    "duration": 23,
    "start_time": "2021-06-10T19:23:35.095Z"
   },
   {
    "duration": 4,
    "start_time": "2021-06-10T19:23:37.020Z"
   },
   {
    "duration": 1231,
    "start_time": "2021-06-10T19:23:42.618Z"
   },
   {
    "duration": 9,
    "start_time": "2021-06-10T19:24:09.939Z"
   },
   {
    "duration": 359,
    "start_time": "2021-06-10T19:24:12.052Z"
   },
   {
    "duration": 817,
    "start_time": "2021-06-10T19:24:37.946Z"
   },
   {
    "duration": 20,
    "start_time": "2021-06-10T19:24:38.765Z"
   },
   {
    "duration": 21,
    "start_time": "2021-06-10T19:24:38.788Z"
   },
   {
    "duration": 4,
    "start_time": "2021-06-10T19:24:38.812Z"
   },
   {
    "duration": 11,
    "start_time": "2021-06-10T19:24:38.818Z"
   },
   {
    "duration": 75,
    "start_time": "2021-06-10T19:24:38.831Z"
   },
   {
    "duration": 40,
    "start_time": "2021-06-10T19:24:38.909Z"
   },
   {
    "duration": 13,
    "start_time": "2021-06-10T19:24:38.953Z"
   },
   {
    "duration": 12,
    "start_time": "2021-06-10T19:24:38.969Z"
   },
   {
    "duration": 51,
    "start_time": "2021-06-10T19:24:38.984Z"
   },
   {
    "duration": 20,
    "start_time": "2021-06-10T19:24:39.038Z"
   },
   {
    "duration": 12,
    "start_time": "2021-06-10T19:24:39.060Z"
   },
   {
    "duration": 32,
    "start_time": "2021-06-10T19:24:39.075Z"
   },
   {
    "duration": 22,
    "start_time": "2021-06-10T19:24:39.109Z"
   },
   {
    "duration": 11,
    "start_time": "2021-06-10T19:24:39.133Z"
   },
   {
    "duration": 4,
    "start_time": "2021-06-10T19:24:39.146Z"
   },
   {
    "duration": 10,
    "start_time": "2021-06-10T19:24:39.201Z"
   },
   {
    "duration": 6,
    "start_time": "2021-06-10T19:24:39.215Z"
   },
   {
    "duration": 12,
    "start_time": "2021-06-10T19:24:39.223Z"
   },
   {
    "duration": 89,
    "start_time": "2021-06-10T19:24:39.237Z"
   },
   {
    "duration": 33,
    "start_time": "2021-06-10T19:24:39.296Z"
   },
   {
    "duration": 30,
    "start_time": "2021-06-10T19:24:39.300Z"
   },
   {
    "duration": 30,
    "start_time": "2021-06-10T19:24:39.301Z"
   },
   {
    "duration": 30,
    "start_time": "2021-06-10T19:24:39.303Z"
   },
   {
    "duration": 30,
    "start_time": "2021-06-10T19:24:39.304Z"
   },
   {
    "duration": 29,
    "start_time": "2021-06-10T19:24:39.306Z"
   },
   {
    "duration": 30,
    "start_time": "2021-06-10T19:24:39.307Z"
   },
   {
    "duration": 29,
    "start_time": "2021-06-10T19:24:39.310Z"
   },
   {
    "duration": 19,
    "start_time": "2021-06-10T19:25:02.640Z"
   },
   {
    "duration": 4,
    "start_time": "2021-06-10T19:25:03.392Z"
   },
   {
    "duration": 18,
    "start_time": "2021-06-10T19:25:03.860Z"
   },
   {
    "duration": 6,
    "start_time": "2021-06-10T19:25:04.307Z"
   },
   {
    "duration": 17,
    "start_time": "2021-06-10T19:25:04.959Z"
   },
   {
    "duration": 9,
    "start_time": "2021-06-10T19:25:05.655Z"
   },
   {
    "duration": 10,
    "start_time": "2021-06-10T19:25:06.515Z"
   },
   {
    "duration": 358,
    "start_time": "2021-06-10T19:25:07.204Z"
   },
   {
    "duration": 17,
    "start_time": "2021-06-10T19:26:10.872Z"
   },
   {
    "duration": 282,
    "start_time": "2021-06-10T19:26:40.424Z"
   },
   {
    "duration": 10,
    "start_time": "2021-06-10T19:28:45.768Z"
   },
   {
    "duration": 18,
    "start_time": "2021-06-10T19:28:50.684Z"
   },
   {
    "duration": 7,
    "start_time": "2021-06-10T19:29:46.508Z"
   },
   {
    "duration": 7,
    "start_time": "2021-06-10T19:29:56.039Z"
   },
   {
    "duration": 433,
    "start_time": "2021-06-10T19:30:08.788Z"
   },
   {
    "duration": 327,
    "start_time": "2021-06-10T19:30:25.183Z"
   },
   {
    "duration": 90,
    "start_time": "2021-06-10T19:31:07.623Z"
   },
   {
    "duration": 406,
    "start_time": "2021-06-10T19:32:16.875Z"
   },
   {
    "duration": 444,
    "start_time": "2021-06-10T19:34:03.979Z"
   },
   {
    "duration": 3,
    "start_time": "2021-06-10T19:34:58.299Z"
   },
   {
    "duration": 98,
    "start_time": "2021-06-10T19:35:11.212Z"
   },
   {
    "duration": 376,
    "start_time": "2021-06-10T19:35:53.142Z"
   },
   {
    "duration": 460,
    "start_time": "2021-06-10T19:36:03.735Z"
   },
   {
    "duration": 756,
    "start_time": "2021-06-10T19:39:55.969Z"
   },
   {
    "duration": 828,
    "start_time": "2021-06-10T19:40:16.682Z"
   },
   {
    "duration": 672,
    "start_time": "2021-06-10T19:40:26.648Z"
   },
   {
    "duration": 727,
    "start_time": "2021-06-10T19:40:35.567Z"
   },
   {
    "duration": 563,
    "start_time": "2021-06-10T19:40:53.878Z"
   },
   {
    "duration": 327,
    "start_time": "2021-06-10T19:42:56.775Z"
   },
   {
    "duration": 584,
    "start_time": "2021-06-10T19:43:08.874Z"
   },
   {
    "duration": 407,
    "start_time": "2021-06-10T19:45:55.802Z"
   },
   {
    "duration": 754,
    "start_time": "2021-06-10T19:46:05.838Z"
   },
   {
    "duration": 4,
    "start_time": "2021-06-10T19:47:19.369Z"
   },
   {
    "duration": 280,
    "start_time": "2021-06-10T19:48:41.534Z"
   },
   {
    "duration": 267,
    "start_time": "2021-06-10T19:49:13.833Z"
   },
   {
    "duration": 283,
    "start_time": "2021-06-10T19:49:20.241Z"
   },
   {
    "duration": 287,
    "start_time": "2021-06-10T19:49:29.095Z"
   },
   {
    "duration": 418,
    "start_time": "2021-06-10T19:50:13.670Z"
   },
   {
    "duration": 8,
    "start_time": "2021-06-10T19:50:45.389Z"
   },
   {
    "duration": 198,
    "start_time": "2021-06-10T19:52:53.469Z"
   },
   {
    "duration": 254,
    "start_time": "2021-06-10T19:53:22.733Z"
   },
   {
    "duration": 419,
    "start_time": "2021-06-10T19:53:35.945Z"
   },
   {
    "duration": 8,
    "start_time": "2021-06-10T19:53:53.109Z"
   },
   {
    "duration": 492,
    "start_time": "2021-06-10T19:56:12.614Z"
   },
   {
    "duration": 292,
    "start_time": "2021-06-10T19:56:19.447Z"
   },
   {
    "duration": 283,
    "start_time": "2021-06-10T19:56:37.965Z"
   },
   {
    "duration": 408,
    "start_time": "2021-06-10T19:56:58.312Z"
   },
   {
    "duration": 7,
    "start_time": "2021-06-10T19:57:12.169Z"
   },
   {
    "duration": 7,
    "start_time": "2021-06-10T19:57:29.753Z"
   },
   {
    "duration": 7,
    "start_time": "2021-06-10T19:57:41.985Z"
   },
   {
    "duration": 7,
    "start_time": "2021-06-10T19:57:47.777Z"
   },
   {
    "duration": 7,
    "start_time": "2021-06-10T19:57:52.489Z"
   },
   {
    "duration": 8,
    "start_time": "2021-06-10T19:57:58.732Z"
   },
   {
    "duration": 514,
    "start_time": "2021-06-10T20:01:41.870Z"
   },
   {
    "duration": 226,
    "start_time": "2021-06-10T20:03:20.361Z"
   },
   {
    "duration": 8,
    "start_time": "2021-06-10T20:03:36.912Z"
   },
   {
    "duration": 575,
    "start_time": "2021-06-10T20:03:54.988Z"
   },
   {
    "duration": 745,
    "start_time": "2021-06-10T20:04:40.608Z"
   },
   {
    "duration": 17,
    "start_time": "2021-06-10T20:06:01.336Z"
   },
   {
    "duration": 16,
    "start_time": "2021-06-10T20:08:29.648Z"
   },
   {
    "duration": 12,
    "start_time": "2021-06-10T20:09:02.320Z"
   },
   {
    "duration": 13,
    "start_time": "2021-06-10T20:09:22.236Z"
   },
   {
    "duration": 8,
    "start_time": "2021-06-10T20:11:39.680Z"
   },
   {
    "duration": 15,
    "start_time": "2021-06-10T20:12:05.196Z"
   },
   {
    "duration": 13,
    "start_time": "2021-06-10T20:12:07.752Z"
   },
   {
    "duration": 11,
    "start_time": "2021-06-10T20:12:09.112Z"
   },
   {
    "duration": 19,
    "start_time": "2021-06-10T20:15:01.240Z"
   },
   {
    "duration": 593,
    "start_time": "2021-06-10T20:23:10.959Z"
   },
   {
    "duration": 326,
    "start_time": "2021-06-10T20:39:56.278Z"
   },
   {
    "duration": 259,
    "start_time": "2021-06-10T20:40:06.577Z"
   },
   {
    "duration": 271,
    "start_time": "2021-06-10T20:40:09.727Z"
   },
   {
    "duration": 11,
    "start_time": "2021-06-10T20:41:05.094Z"
   },
   {
    "duration": 15,
    "start_time": "2021-06-10T20:43:44.526Z"
   },
   {
    "duration": 19,
    "start_time": "2021-06-10T20:44:20.118Z"
   },
   {
    "duration": 11,
    "start_time": "2021-06-10T20:44:40.014Z"
   },
   {
    "duration": 12,
    "start_time": "2021-06-10T20:44:47.513Z"
   },
   {
    "duration": 83,
    "start_time": "2021-06-10T20:45:39.202Z"
   },
   {
    "duration": 304,
    "start_time": "2021-06-10T20:45:46.973Z"
   },
   {
    "duration": 14,
    "start_time": "2021-06-10T20:45:56.382Z"
   },
   {
    "duration": 14,
    "start_time": "2021-06-10T20:48:18.906Z"
   },
   {
    "duration": 11,
    "start_time": "2021-06-10T20:48:25.776Z"
   },
   {
    "duration": 12,
    "start_time": "2021-06-10T20:48:32.280Z"
   },
   {
    "duration": 291,
    "start_time": "2021-06-10T20:48:58.502Z"
   },
   {
    "duration": 12,
    "start_time": "2021-06-10T20:49:05.326Z"
   },
   {
    "duration": 8,
    "start_time": "2021-06-10T20:49:09.365Z"
   },
   {
    "duration": 12,
    "start_time": "2021-06-10T20:53:18.605Z"
   },
   {
    "duration": 13,
    "start_time": "2021-06-10T20:53:20.689Z"
   },
   {
    "duration": 11,
    "start_time": "2021-06-10T20:53:48.538Z"
   },
   {
    "duration": 6,
    "start_time": "2021-06-10T20:53:49.115Z"
   },
   {
    "duration": 22,
    "start_time": "2021-06-10T20:54:45.529Z"
   },
   {
    "duration": 7,
    "start_time": "2021-06-10T20:54:59.164Z"
   },
   {
    "duration": 16,
    "start_time": "2021-06-10T20:55:23.238Z"
   },
   {
    "duration": 865,
    "start_time": "2021-06-10T20:56:38.448Z"
   },
   {
    "duration": 19,
    "start_time": "2021-06-10T20:56:39.316Z"
   },
   {
    "duration": 26,
    "start_time": "2021-06-10T20:56:39.338Z"
   },
   {
    "duration": 4,
    "start_time": "2021-06-10T20:56:39.367Z"
   },
   {
    "duration": 13,
    "start_time": "2021-06-10T20:56:39.373Z"
   },
   {
    "duration": 33,
    "start_time": "2021-06-10T20:56:39.401Z"
   },
   {
    "duration": 93,
    "start_time": "2021-06-10T20:56:39.437Z"
   },
   {
    "duration": 11,
    "start_time": "2021-06-10T20:56:39.533Z"
   },
   {
    "duration": 8,
    "start_time": "2021-06-10T20:56:39.548Z"
   },
   {
    "duration": 48,
    "start_time": "2021-06-10T20:56:39.559Z"
   },
   {
    "duration": 18,
    "start_time": "2021-06-10T20:56:39.610Z"
   },
   {
    "duration": 10,
    "start_time": "2021-06-10T20:56:39.631Z"
   },
   {
    "duration": 11,
    "start_time": "2021-06-10T20:56:39.644Z"
   },
   {
    "duration": 48,
    "start_time": "2021-06-10T20:56:39.658Z"
   },
   {
    "duration": 10,
    "start_time": "2021-06-10T20:56:39.709Z"
   },
   {
    "duration": 4,
    "start_time": "2021-06-10T20:56:39.721Z"
   },
   {
    "duration": 14,
    "start_time": "2021-06-10T20:56:39.727Z"
   },
   {
    "duration": 18,
    "start_time": "2021-06-10T20:56:39.744Z"
   },
   {
    "duration": 21,
    "start_time": "2021-06-10T20:56:39.764Z"
   },
   {
    "duration": 119,
    "start_time": "2021-06-10T20:56:39.799Z"
   },
   {
    "duration": 46,
    "start_time": "2021-06-10T20:56:39.876Z"
   },
   {
    "duration": -68,
    "start_time": "2021-06-10T20:56:39.991Z"
   },
   {
    "duration": -73,
    "start_time": "2021-06-10T20:56:39.998Z"
   },
   {
    "duration": -82,
    "start_time": "2021-06-10T20:56:40.008Z"
   },
   {
    "duration": -85,
    "start_time": "2021-06-10T20:56:40.013Z"
   },
   {
    "duration": -87,
    "start_time": "2021-06-10T20:56:40.016Z"
   },
   {
    "duration": -110,
    "start_time": "2021-06-10T20:56:40.041Z"
   },
   {
    "duration": -111,
    "start_time": "2021-06-10T20:56:40.044Z"
   },
   {
    "duration": -145,
    "start_time": "2021-06-10T20:56:40.079Z"
   },
   {
    "duration": -147,
    "start_time": "2021-06-10T20:56:40.082Z"
   },
   {
    "duration": -149,
    "start_time": "2021-06-10T20:56:40.086Z"
   },
   {
    "duration": -162,
    "start_time": "2021-06-10T20:56:40.101Z"
   },
   {
    "duration": -165,
    "start_time": "2021-06-10T20:56:40.105Z"
   },
   {
    "duration": -166,
    "start_time": "2021-06-10T20:56:40.108Z"
   },
   {
    "duration": -169,
    "start_time": "2021-06-10T20:56:40.112Z"
   },
   {
    "duration": -169,
    "start_time": "2021-06-10T20:56:40.114Z"
   },
   {
    "duration": -171,
    "start_time": "2021-06-10T20:56:40.117Z"
   },
   {
    "duration": -173,
    "start_time": "2021-06-10T20:56:40.121Z"
   },
   {
    "duration": -175,
    "start_time": "2021-06-10T20:56:40.125Z"
   },
   {
    "duration": -177,
    "start_time": "2021-06-10T20:56:40.128Z"
   },
   {
    "duration": -178,
    "start_time": "2021-06-10T20:56:40.131Z"
   },
   {
    "duration": -180,
    "start_time": "2021-06-10T20:56:40.135Z"
   },
   {
    "duration": -182,
    "start_time": "2021-06-10T20:56:40.138Z"
   },
   {
    "duration": -184,
    "start_time": "2021-06-10T20:56:40.141Z"
   },
   {
    "duration": -185,
    "start_time": "2021-06-10T20:56:40.144Z"
   },
   {
    "duration": -187,
    "start_time": "2021-06-10T20:56:40.147Z"
   },
   {
    "duration": -191,
    "start_time": "2021-06-10T20:56:40.152Z"
   },
   {
    "duration": -195,
    "start_time": "2021-06-10T20:56:40.157Z"
   },
   {
    "duration": -197,
    "start_time": "2021-06-10T20:56:40.160Z"
   },
   {
    "duration": -163,
    "start_time": "2021-06-10T20:56:40.163Z"
   },
   {
    "duration": -164,
    "start_time": "2021-06-10T20:56:40.166Z"
   },
   {
    "duration": -170,
    "start_time": "2021-06-10T20:56:40.173Z"
   },
   {
    "duration": -173,
    "start_time": "2021-06-10T20:56:40.177Z"
   },
   {
    "duration": -176,
    "start_time": "2021-06-10T20:56:40.181Z"
   },
   {
    "duration": -177,
    "start_time": "2021-06-10T20:56:40.184Z"
   },
   {
    "duration": -181,
    "start_time": "2021-06-10T20:56:40.189Z"
   },
   {
    "duration": -183,
    "start_time": "2021-06-10T20:56:40.192Z"
   },
   {
    "duration": -184,
    "start_time": "2021-06-10T20:56:40.195Z"
   },
   {
    "duration": 819,
    "start_time": "2021-06-10T20:56:56.393Z"
   },
   {
    "duration": 20,
    "start_time": "2021-06-10T20:56:57.214Z"
   },
   {
    "duration": 17,
    "start_time": "2021-06-10T20:56:57.237Z"
   },
   {
    "duration": 5,
    "start_time": "2021-06-10T20:56:57.257Z"
   },
   {
    "duration": 11,
    "start_time": "2021-06-10T20:56:57.265Z"
   },
   {
    "duration": 48,
    "start_time": "2021-06-10T20:56:57.278Z"
   },
   {
    "duration": 64,
    "start_time": "2021-06-10T20:56:57.328Z"
   },
   {
    "duration": 11,
    "start_time": "2021-06-10T20:56:57.395Z"
   },
   {
    "duration": 9,
    "start_time": "2021-06-10T20:56:57.411Z"
   },
   {
    "duration": 34,
    "start_time": "2021-06-10T20:56:57.423Z"
   },
   {
    "duration": 18,
    "start_time": "2021-06-10T20:56:57.459Z"
   },
   {
    "duration": 10,
    "start_time": "2021-06-10T20:56:57.501Z"
   },
   {
    "duration": 8,
    "start_time": "2021-06-10T20:56:57.514Z"
   },
   {
    "duration": 22,
    "start_time": "2021-06-10T20:56:57.524Z"
   },
   {
    "duration": 10,
    "start_time": "2021-06-10T20:56:57.548Z"
   },
   {
    "duration": 41,
    "start_time": "2021-06-10T20:56:57.560Z"
   },
   {
    "duration": 22,
    "start_time": "2021-06-10T20:56:57.604Z"
   },
   {
    "duration": 7,
    "start_time": "2021-06-10T20:56:57.629Z"
   },
   {
    "duration": 13,
    "start_time": "2021-06-10T20:56:57.639Z"
   },
   {
    "duration": 46,
    "start_time": "2021-06-10T20:56:57.655Z"
   },
   {
    "duration": 6,
    "start_time": "2021-06-10T20:56:57.704Z"
   },
   {
    "duration": 21,
    "start_time": "2021-06-10T20:56:57.713Z"
   },
   {
    "duration": 11,
    "start_time": "2021-06-10T20:56:57.737Z"
   },
   {
    "duration": 8,
    "start_time": "2021-06-10T20:56:57.750Z"
   },
   {
    "duration": 51,
    "start_time": "2021-06-10T20:56:57.761Z"
   },
   {
    "duration": 8,
    "start_time": "2021-06-10T20:56:57.815Z"
   },
   {
    "duration": 20,
    "start_time": "2021-06-10T20:56:57.832Z"
   },
   {
    "duration": 46,
    "start_time": "2021-06-10T20:56:57.855Z"
   },
   {
    "duration": 8,
    "start_time": "2021-06-10T20:56:57.905Z"
   },
   {
    "duration": 454,
    "start_time": "2021-06-10T20:56:57.916Z"
   },
   {
    "duration": 27,
    "start_time": "2021-06-10T20:56:58.373Z"
   },
   {
    "duration": 287,
    "start_time": "2021-06-10T20:56:58.402Z"
   },
   {
    "duration": 9,
    "start_time": "2021-06-10T20:56:58.701Z"
   },
   {
    "duration": 24,
    "start_time": "2021-06-10T20:56:58.713Z"
   },
   {
    "duration": 9,
    "start_time": "2021-06-10T20:56:58.741Z"
   },
   {
    "duration": 8,
    "start_time": "2021-06-10T20:56:58.752Z"
   },
   {
    "duration": 359,
    "start_time": "2021-06-10T20:56:58.763Z"
   },
   {
    "duration": 603,
    "start_time": "2021-06-10T20:56:59.125Z"
   },
   {
    "duration": 656,
    "start_time": "2021-06-10T20:56:59.730Z"
   },
   {
    "duration": 678,
    "start_time": "2021-06-10T20:57:00.389Z"
   },
   {
    "duration": 755,
    "start_time": "2021-06-10T20:57:01.070Z"
   },
   {
    "duration": 194,
    "start_time": "2021-06-10T20:57:01.827Z"
   },
   {
    "duration": 307,
    "start_time": "2021-06-10T20:57:02.024Z"
   },
   {
    "duration": 414,
    "start_time": "2021-06-10T20:57:02.335Z"
   },
   {
    "duration": 6,
    "start_time": "2021-06-10T20:57:02.752Z"
   },
   {
    "duration": 312,
    "start_time": "2021-06-10T20:57:02.761Z"
   },
   {
    "duration": 539,
    "start_time": "2021-06-10T20:57:03.076Z"
   },
   {
    "duration": 9,
    "start_time": "2021-06-10T20:57:03.619Z"
   },
   {
    "duration": 487,
    "start_time": "2021-06-10T20:57:03.630Z"
   },
   {
    "duration": 247,
    "start_time": "2021-06-10T20:57:04.120Z"
   },
   {
    "duration": 10,
    "start_time": "2021-06-10T20:57:04.369Z"
   },
   {
    "duration": 714,
    "start_time": "2021-06-10T20:57:04.402Z"
   },
   {
    "duration": 14,
    "start_time": "2021-06-10T20:57:05.118Z"
   },
   {
    "duration": 13,
    "start_time": "2021-06-10T20:57:05.134Z"
   },
   {
    "duration": 22,
    "start_time": "2021-06-10T20:57:05.150Z"
   },
   {
    "duration": 43,
    "start_time": "2021-06-10T20:57:05.174Z"
   },
   {
    "duration": 22,
    "start_time": "2021-06-10T20:57:05.220Z"
   },
   {
    "duration": 224,
    "start_time": "2021-06-11T09:28:00.518Z"
   },
   {
    "duration": 650,
    "start_time": "2021-06-11T09:28:05.118Z"
   },
   {
    "duration": 19,
    "start_time": "2021-06-11T09:28:05.770Z"
   },
   {
    "duration": 12,
    "start_time": "2021-06-11T09:28:06.642Z"
   },
   {
    "duration": 4,
    "start_time": "2021-06-11T09:28:26.187Z"
   },
   {
    "duration": 11,
    "start_time": "2021-06-11T09:28:26.591Z"
   },
   {
    "duration": 3,
    "start_time": "2021-06-11T09:33:38.998Z"
   },
   {
    "duration": 7,
    "start_time": "2021-06-11T09:33:40.206Z"
   },
   {
    "duration": 23,
    "start_time": "2021-06-11T09:33:43.454Z"
   },
   {
    "duration": 5,
    "start_time": "2021-06-11T09:34:03.126Z"
   },
   {
    "duration": 8,
    "start_time": "2021-06-11T09:34:03.602Z"
   },
   {
    "duration": 5,
    "start_time": "2021-06-11T09:45:47.939Z"
   },
   {
    "duration": 64,
    "start_time": "2021-06-11T10:37:10.073Z"
   },
   {
    "duration": 3,
    "start_time": "2021-06-11T10:45:56.181Z"
   },
   {
    "duration": 4,
    "start_time": "2021-06-11T10:46:59.160Z"
   },
   {
    "duration": 640,
    "start_time": "2021-06-11T10:47:21.501Z"
   },
   {
    "duration": 18,
    "start_time": "2021-06-11T10:47:22.142Z"
   },
   {
    "duration": 4,
    "start_time": "2021-06-11T10:47:22.162Z"
   },
   {
    "duration": 12,
    "start_time": "2021-06-11T10:47:22.168Z"
   },
   {
    "duration": 3,
    "start_time": "2021-06-11T10:47:22.182Z"
   },
   {
    "duration": 17,
    "start_time": "2021-06-11T10:47:22.188Z"
   },
   {
    "duration": 4,
    "start_time": "2021-06-11T10:47:22.207Z"
   },
   {
    "duration": 5,
    "start_time": "2021-06-11T10:47:22.213Z"
   },
   {
    "duration": 6,
    "start_time": "2021-06-11T10:47:22.220Z"
   },
   {
    "duration": 5,
    "start_time": "2021-06-11T10:47:22.228Z"
   },
   {
    "duration": 9,
    "start_time": "2021-06-11T10:47:22.234Z"
   },
   {
    "duration": 83,
    "start_time": "2021-06-11T10:47:22.244Z"
   },
   {
    "duration": 11,
    "start_time": "2021-06-11T10:47:22.329Z"
   },
   {
    "duration": 15,
    "start_time": "2021-06-11T10:47:22.342Z"
   },
   {
    "duration": 10,
    "start_time": "2021-06-11T10:47:22.358Z"
   },
   {
    "duration": 13,
    "start_time": "2021-06-11T10:47:22.369Z"
   },
   {
    "duration": 23,
    "start_time": "2021-06-11T10:47:22.383Z"
   },
   {
    "duration": 6,
    "start_time": "2021-06-11T10:47:22.408Z"
   },
   {
    "duration": 13,
    "start_time": "2021-06-11T10:47:22.415Z"
   },
   {
    "duration": 3,
    "start_time": "2021-06-11T10:47:22.430Z"
   },
   {
    "duration": 8,
    "start_time": "2021-06-11T10:47:22.434Z"
   },
   {
    "duration": 7,
    "start_time": "2021-06-11T10:47:22.444Z"
   },
   {
    "duration": 12,
    "start_time": "2021-06-11T10:47:22.452Z"
   },
   {
    "duration": 9,
    "start_time": "2021-06-11T10:47:22.466Z"
   },
   {
    "duration": 11,
    "start_time": "2021-06-11T10:47:22.476Z"
   },
   {
    "duration": 20,
    "start_time": "2021-06-11T10:47:22.489Z"
   },
   {
    "duration": 5,
    "start_time": "2021-06-11T10:47:22.514Z"
   },
   {
    "duration": 6,
    "start_time": "2021-06-11T10:47:22.522Z"
   },
   {
    "duration": 225,
    "start_time": "2021-06-11T10:47:22.529Z"
   },
   {
    "duration": 10,
    "start_time": "2021-06-11T10:47:22.755Z"
   },
   {
    "duration": 164,
    "start_time": "2021-06-11T10:47:22.766Z"
   },
   {
    "duration": 6,
    "start_time": "2021-06-11T10:47:22.932Z"
   },
   {
    "duration": 15,
    "start_time": "2021-06-11T10:47:22.939Z"
   },
   {
    "duration": 4,
    "start_time": "2021-06-11T10:47:22.955Z"
   },
   {
    "duration": 8,
    "start_time": "2021-06-11T10:47:22.961Z"
   },
   {
    "duration": 217,
    "start_time": "2021-06-11T10:47:22.985Z"
   },
   {
    "duration": 372,
    "start_time": "2021-06-11T10:47:23.205Z"
   },
   {
    "duration": 477,
    "start_time": "2021-06-11T10:47:23.585Z"
   },
   {
    "duration": 431,
    "start_time": "2021-06-11T10:47:24.063Z"
   },
   {
    "duration": 465,
    "start_time": "2021-06-11T10:47:24.496Z"
   },
   {
    "duration": 107,
    "start_time": "2021-06-11T10:47:24.963Z"
   },
   {
    "duration": 193,
    "start_time": "2021-06-11T10:47:25.072Z"
   },
   {
    "duration": 320,
    "start_time": "2021-06-11T10:47:25.267Z"
   },
   {
    "duration": 6,
    "start_time": "2021-06-11T10:47:25.590Z"
   },
   {
    "duration": 193,
    "start_time": "2021-06-11T10:47:25.598Z"
   },
   {
    "duration": 318,
    "start_time": "2021-06-11T10:47:25.794Z"
   },
   {
    "duration": 5,
    "start_time": "2021-06-11T10:47:26.113Z"
   },
   {
    "duration": 299,
    "start_time": "2021-06-11T10:47:26.120Z"
   },
   {
    "duration": 126,
    "start_time": "2021-06-11T10:47:26.421Z"
   },
   {
    "duration": 6,
    "start_time": "2021-06-11T10:47:26.549Z"
   },
   {
    "duration": 520,
    "start_time": "2021-06-11T10:47:26.556Z"
   },
   {
    "duration": 12,
    "start_time": "2021-06-11T10:47:27.078Z"
   },
   {
    "duration": 8,
    "start_time": "2021-06-11T10:47:27.092Z"
   },
   {
    "duration": 10,
    "start_time": "2021-06-11T10:47:27.101Z"
   },
   {
    "duration": 11,
    "start_time": "2021-06-11T10:47:27.112Z"
   },
   {
    "duration": 13,
    "start_time": "2021-06-11T10:47:27.124Z"
   },
   {
    "duration": 374,
    "start_time": "2021-06-11T10:52:08.691Z"
   },
   {
    "duration": 500,
    "start_time": "2021-06-11T10:54:14.212Z"
   },
   {
    "duration": 588,
    "start_time": "2021-06-11T10:54:29.558Z"
   },
   {
    "duration": 409,
    "start_time": "2021-06-11T10:55:28.450Z"
   },
   {
    "duration": 56,
    "start_time": "2021-06-11T11:09:20.946Z"
   },
   {
    "duration": 1775,
    "start_time": "2021-06-11T11:20:31.025Z"
   },
   {
    "duration": 61,
    "start_time": "2021-06-11T11:29:02.340Z"
   },
   {
    "duration": 63,
    "start_time": "2021-06-11T11:37:18.066Z"
   },
   {
    "duration": 61,
    "start_time": "2021-06-11T11:42:14.246Z"
   },
   {
    "duration": 284,
    "start_time": "2021-06-11T11:51:29.913Z"
   },
   {
    "duration": 328,
    "start_time": "2021-06-11T11:51:44.249Z"
   },
   {
    "duration": 445,
    "start_time": "2021-06-11T11:52:22.608Z"
   },
   {
    "duration": 459,
    "start_time": "2021-06-11T11:53:00.049Z"
   },
   {
    "duration": 58,
    "start_time": "2021-06-11T12:45:40.987Z"
   },
   {
    "duration": 55,
    "start_time": "2021-06-11T12:46:16.420Z"
   },
   {
    "duration": 9,
    "start_time": "2021-06-11T12:49:34.740Z"
   },
   {
    "duration": 8,
    "start_time": "2021-06-11T12:49:38.408Z"
   },
   {
    "duration": 7,
    "start_time": "2021-06-11T12:49:41.711Z"
   },
   {
    "duration": 16,
    "start_time": "2021-06-11T12:49:44.556Z"
   },
   {
    "duration": 5,
    "start_time": "2021-06-11T13:36:07.374Z"
   },
   {
    "duration": 814,
    "start_time": "2021-06-11T13:43:53.341Z"
   },
   {
    "duration": 90,
    "start_time": "2021-06-11T13:46:12.970Z"
   },
   {
    "duration": 85,
    "start_time": "2021-06-11T13:49:13.946Z"
   },
   {
    "duration": 285,
    "start_time": "2021-06-11T13:50:35.361Z"
   },
   {
    "duration": 542,
    "start_time": "2021-06-11T14:05:17.853Z"
   },
   {
    "duration": 265,
    "start_time": "2021-06-11T14:05:23.436Z"
   },
   {
    "duration": 285,
    "start_time": "2021-06-11T14:06:47.176Z"
   },
   {
    "duration": 797,
    "start_time": "2021-06-11T14:09:03.132Z"
   },
   {
    "duration": 18,
    "start_time": "2021-06-11T14:09:03.932Z"
   },
   {
    "duration": 8,
    "start_time": "2021-06-11T14:09:03.953Z"
   },
   {
    "duration": 24,
    "start_time": "2021-06-11T14:09:03.963Z"
   },
   {
    "duration": 7,
    "start_time": "2021-06-11T14:09:03.989Z"
   },
   {
    "duration": 21,
    "start_time": "2021-06-11T14:09:03.998Z"
   },
   {
    "duration": 7,
    "start_time": "2021-06-11T14:09:04.022Z"
   },
   {
    "duration": 9,
    "start_time": "2021-06-11T14:09:04.033Z"
   },
   {
    "duration": 38,
    "start_time": "2021-06-11T14:09:04.045Z"
   },
   {
    "duration": 10,
    "start_time": "2021-06-11T14:09:04.085Z"
   },
   {
    "duration": 15,
    "start_time": "2021-06-11T14:09:04.097Z"
   },
   {
    "duration": 42,
    "start_time": "2021-06-11T14:09:04.115Z"
   },
   {
    "duration": 18,
    "start_time": "2021-06-11T14:09:04.160Z"
   },
   {
    "duration": 14,
    "start_time": "2021-06-11T14:09:04.180Z"
   },
   {
    "duration": 17,
    "start_time": "2021-06-11T14:09:04.196Z"
   },
   {
    "duration": 7,
    "start_time": "2021-06-11T14:09:04.216Z"
   },
   {
    "duration": 21,
    "start_time": "2021-06-11T14:09:04.225Z"
   },
   {
    "duration": 11,
    "start_time": "2021-06-11T14:09:04.248Z"
   },
   {
    "duration": 23,
    "start_time": "2021-06-11T14:09:04.261Z"
   },
   {
    "duration": 19,
    "start_time": "2021-06-11T14:09:04.286Z"
   },
   {
    "duration": 17,
    "start_time": "2021-06-11T14:09:04.308Z"
   },
   {
    "duration": 8,
    "start_time": "2021-06-11T14:09:04.328Z"
   },
   {
    "duration": 21,
    "start_time": "2021-06-11T14:09:04.342Z"
   },
   {
    "duration": 13,
    "start_time": "2021-06-11T14:09:04.384Z"
   },
   {
    "duration": 8,
    "start_time": "2021-06-11T14:09:04.400Z"
   },
   {
    "duration": 20,
    "start_time": "2021-06-11T14:09:04.410Z"
   },
   {
    "duration": 14,
    "start_time": "2021-06-11T14:09:04.433Z"
   },
   {
    "duration": 35,
    "start_time": "2021-06-11T14:09:04.450Z"
   },
   {
    "duration": 435,
    "start_time": "2021-06-11T14:09:04.488Z"
   },
   {
    "duration": 15,
    "start_time": "2021-06-11T14:09:04.925Z"
   },
   {
    "duration": 276,
    "start_time": "2021-06-11T14:09:04.943Z"
   },
   {
    "duration": 12,
    "start_time": "2021-06-11T14:09:05.221Z"
   },
   {
    "duration": 25,
    "start_time": "2021-06-11T14:09:05.236Z"
   },
   {
    "duration": 21,
    "start_time": "2021-06-11T14:09:05.263Z"
   },
   {
    "duration": 14,
    "start_time": "2021-06-11T14:09:05.286Z"
   },
   {
    "duration": 610,
    "start_time": "2021-06-11T14:09:05.303Z"
   },
   {
    "duration": 613,
    "start_time": "2021-06-11T14:09:05.915Z"
   },
   {
    "duration": 725,
    "start_time": "2021-06-11T14:09:06.530Z"
   },
   {
    "duration": 639,
    "start_time": "2021-06-11T14:09:07.257Z"
   },
   {
    "duration": 685,
    "start_time": "2021-06-11T14:09:07.898Z"
   },
   {
    "duration": 188,
    "start_time": "2021-06-11T14:09:08.585Z"
   },
   {
    "duration": 300,
    "start_time": "2021-06-11T14:09:08.783Z"
   },
   {
    "duration": 403,
    "start_time": "2021-06-11T14:09:09.085Z"
   },
   {
    "duration": 6,
    "start_time": "2021-06-11T14:09:09.491Z"
   },
   {
    "duration": 278,
    "start_time": "2021-06-11T14:09:09.500Z"
   },
   {
    "duration": 387,
    "start_time": "2021-06-11T14:09:09.781Z"
   },
   {
    "duration": 16,
    "start_time": "2021-06-11T14:09:10.170Z"
   },
   {
    "duration": 461,
    "start_time": "2021-06-11T14:09:10.188Z"
   },
   {
    "duration": 212,
    "start_time": "2021-06-11T14:09:10.651Z"
   },
   {
    "duration": 17,
    "start_time": "2021-06-11T14:09:10.865Z"
   },
   {
    "duration": 736,
    "start_time": "2021-06-11T14:09:10.884Z"
   },
   {
    "duration": 13,
    "start_time": "2021-06-11T14:09:11.623Z"
   },
   {
    "duration": 14,
    "start_time": "2021-06-11T14:09:11.639Z"
   },
   {
    "duration": 37,
    "start_time": "2021-06-11T14:09:11.655Z"
   },
   {
    "duration": 12,
    "start_time": "2021-06-11T14:09:11.695Z"
   },
   {
    "duration": 21,
    "start_time": "2021-06-11T14:09:11.709Z"
   },
   {
    "duration": 902,
    "start_time": "2021-06-11T18:05:46.100Z"
   },
   {
    "duration": 19,
    "start_time": "2021-06-11T18:05:47.005Z"
   },
   {
    "duration": 5,
    "start_time": "2021-06-11T18:05:47.027Z"
   },
   {
    "duration": 27,
    "start_time": "2021-06-11T18:05:47.034Z"
   },
   {
    "duration": 4,
    "start_time": "2021-06-11T18:05:47.064Z"
   },
   {
    "duration": 9,
    "start_time": "2021-06-11T18:05:47.071Z"
   },
   {
    "duration": 10,
    "start_time": "2021-06-11T18:05:47.082Z"
   },
   {
    "duration": 13,
    "start_time": "2021-06-11T18:05:47.129Z"
   },
   {
    "duration": 12,
    "start_time": "2021-06-11T18:05:47.145Z"
   },
   {
    "duration": 5,
    "start_time": "2021-06-11T18:05:47.160Z"
   },
   {
    "duration": 13,
    "start_time": "2021-06-11T18:05:47.169Z"
   },
   {
    "duration": 52,
    "start_time": "2021-06-11T18:05:47.185Z"
   },
   {
    "duration": 30,
    "start_time": "2021-06-11T18:05:47.239Z"
   },
   {
    "duration": 14,
    "start_time": "2021-06-11T18:05:47.272Z"
   },
   {
    "duration": 11,
    "start_time": "2021-06-11T18:05:47.288Z"
   },
   {
    "duration": 30,
    "start_time": "2021-06-11T18:05:47.302Z"
   },
   {
    "duration": 21,
    "start_time": "2021-06-11T18:05:47.335Z"
   },
   {
    "duration": 8,
    "start_time": "2021-06-11T18:05:47.358Z"
   },
   {
    "duration": 13,
    "start_time": "2021-06-11T18:05:47.368Z"
   },
   {
    "duration": 6,
    "start_time": "2021-06-11T18:05:47.384Z"
   },
   {
    "duration": 12,
    "start_time": "2021-06-11T18:05:47.425Z"
   },
   {
    "duration": 5,
    "start_time": "2021-06-11T18:05:47.441Z"
   },
   {
    "duration": 20,
    "start_time": "2021-06-11T18:05:47.454Z"
   },
   {
    "duration": 12,
    "start_time": "2021-06-11T18:05:47.477Z"
   },
   {
    "duration": 14,
    "start_time": "2021-06-11T18:05:47.523Z"
   },
   {
    "duration": 17,
    "start_time": "2021-06-11T18:05:47.540Z"
   },
   {
    "duration": 10,
    "start_time": "2021-06-11T18:05:47.560Z"
   },
   {
    "duration": 9,
    "start_time": "2021-06-11T18:05:47.573Z"
   },
   {
    "duration": 461,
    "start_time": "2021-06-11T18:05:47.585Z"
   },
   {
    "duration": 18,
    "start_time": "2021-06-11T18:05:48.049Z"
   },
   {
    "duration": 305,
    "start_time": "2021-06-11T18:05:48.069Z"
   },
   {
    "duration": 13,
    "start_time": "2021-06-11T18:05:48.378Z"
   },
   {
    "duration": 45,
    "start_time": "2021-06-11T18:05:48.394Z"
   },
   {
    "duration": 14,
    "start_time": "2021-06-11T18:05:48.442Z"
   },
   {
    "duration": 8,
    "start_time": "2021-06-11T18:05:48.459Z"
   },
   {
    "duration": 891,
    "start_time": "2021-06-11T18:05:48.470Z"
   },
   {
    "duration": 831,
    "start_time": "2021-06-11T18:05:49.364Z"
   },
   {
    "duration": 791,
    "start_time": "2021-06-11T18:05:50.197Z"
   },
   {
    "duration": 745,
    "start_time": "2021-06-11T18:05:50.990Z"
   },
   {
    "duration": 823,
    "start_time": "2021-06-11T18:05:51.738Z"
   },
   {
    "duration": 227,
    "start_time": "2021-06-11T18:05:52.564Z"
   },
   {
    "duration": 315,
    "start_time": "2021-06-11T18:05:52.793Z"
   },
   {
    "duration": 464,
    "start_time": "2021-06-11T18:05:53.111Z"
   },
   {
    "duration": 7,
    "start_time": "2021-06-11T18:05:53.577Z"
   },
   {
    "duration": 319,
    "start_time": "2021-06-11T18:05:53.587Z"
   },
   {
    "duration": 438,
    "start_time": "2021-06-11T18:05:53.909Z"
   },
   {
    "duration": 8,
    "start_time": "2021-06-11T18:05:54.353Z"
   },
   {
    "duration": 508,
    "start_time": "2021-06-11T18:05:54.364Z"
   },
   {
    "duration": 274,
    "start_time": "2021-06-11T18:05:54.875Z"
   },
   {
    "duration": 8,
    "start_time": "2021-06-11T18:05:55.151Z"
   },
   {
    "duration": 777,
    "start_time": "2021-06-11T18:05:55.162Z"
   },
   {
    "duration": 18,
    "start_time": "2021-06-11T18:05:55.942Z"
   },
   {
    "duration": 14,
    "start_time": "2021-06-11T18:05:55.962Z"
   },
   {
    "duration": 12,
    "start_time": "2021-06-11T18:05:55.979Z"
   },
   {
    "duration": 20,
    "start_time": "2021-06-11T18:05:56.031Z"
   },
   {
    "duration": 21,
    "start_time": "2021-06-11T18:05:56.055Z"
   },
   {
    "duration": 6,
    "start_time": "2021-06-11T18:12:45.945Z"
   },
   {
    "duration": 7,
    "start_time": "2021-06-11T18:12:52.889Z"
   },
   {
    "duration": 321,
    "start_time": "2021-06-11T20:15:40.126Z"
   },
   {
    "duration": 882,
    "start_time": "2021-06-11T20:15:48.854Z"
   },
   {
    "duration": 19,
    "start_time": "2021-06-11T20:15:49.850Z"
   },
   {
    "duration": 3,
    "start_time": "2021-06-11T20:15:51.202Z"
   },
   {
    "duration": 17,
    "start_time": "2021-06-11T20:15:52.414Z"
   },
   {
    "duration": 4,
    "start_time": "2021-06-11T20:15:59.714Z"
   },
   {
    "duration": 9,
    "start_time": "2021-06-11T20:16:00.350Z"
   },
   {
    "duration": 6,
    "start_time": "2021-06-11T20:16:01.498Z"
   },
   {
    "duration": 10,
    "start_time": "2021-06-11T20:16:10.031Z"
   },
   {
    "duration": 13,
    "start_time": "2021-06-11T20:16:10.877Z"
   },
   {
    "duration": 5,
    "start_time": "2021-06-11T20:16:55.696Z"
   },
   {
    "duration": 13,
    "start_time": "2021-06-11T20:16:57.154Z"
   },
   {
    "duration": 5,
    "start_time": "2021-06-11T20:17:09.810Z"
   },
   {
    "duration": 13,
    "start_time": "2021-06-11T20:17:10.322Z"
   },
   {
    "duration": 306,
    "start_time": "2021-06-11T20:19:36.770Z"
   },
   {
    "duration": 827,
    "start_time": "2021-06-11T20:19:46.870Z"
   },
   {
    "duration": 20,
    "start_time": "2021-06-11T20:19:47.700Z"
   },
   {
    "duration": 5,
    "start_time": "2021-06-11T20:19:47.723Z"
   },
   {
    "duration": 17,
    "start_time": "2021-06-11T20:19:47.731Z"
   },
   {
    "duration": 4,
    "start_time": "2021-06-11T20:19:47.750Z"
   },
   {
    "duration": 18,
    "start_time": "2021-06-11T20:19:47.757Z"
   },
   {
    "duration": 6,
    "start_time": "2021-06-11T20:19:47.778Z"
   },
   {
    "duration": 37,
    "start_time": "2021-06-11T20:19:47.787Z"
   },
   {
    "duration": 14,
    "start_time": "2021-06-11T20:19:47.827Z"
   },
   {
    "duration": 8,
    "start_time": "2021-06-11T20:19:47.844Z"
   },
   {
    "duration": 12,
    "start_time": "2021-06-11T20:19:47.854Z"
   },
   {
    "duration": 40,
    "start_time": "2021-06-11T20:19:47.868Z"
   },
   {
    "duration": 24,
    "start_time": "2021-06-11T20:19:47.910Z"
   },
   {
    "duration": 11,
    "start_time": "2021-06-11T20:19:47.936Z"
   },
   {
    "duration": 10,
    "start_time": "2021-06-11T20:19:47.949Z"
   },
   {
    "duration": 7,
    "start_time": "2021-06-11T20:19:47.961Z"
   },
   {
    "duration": 18,
    "start_time": "2021-06-11T20:19:47.970Z"
   },
   {
    "duration": 36,
    "start_time": "2021-06-11T20:19:47.990Z"
   },
   {
    "duration": 12,
    "start_time": "2021-06-11T20:19:48.029Z"
   },
   {
    "duration": 6,
    "start_time": "2021-06-11T20:19:48.043Z"
   },
   {
    "duration": 10,
    "start_time": "2021-06-11T20:19:48.051Z"
   },
   {
    "duration": 4,
    "start_time": "2021-06-11T20:19:48.063Z"
   },
   {
    "duration": 63,
    "start_time": "2021-06-11T20:19:48.075Z"
   },
   {
    "duration": 14,
    "start_time": "2021-06-11T20:19:48.143Z"
   },
   {
    "duration": 9,
    "start_time": "2021-06-11T20:19:48.159Z"
   },
   {
    "duration": 55,
    "start_time": "2021-06-11T20:19:48.171Z"
   },
   {
    "duration": 15,
    "start_time": "2021-06-11T20:19:48.229Z"
   },
   {
    "duration": 13,
    "start_time": "2021-06-11T20:19:48.246Z"
   },
   {
    "duration": 352,
    "start_time": "2021-06-11T20:19:48.261Z"
   },
   {
    "duration": 19,
    "start_time": "2021-06-11T20:19:48.616Z"
   },
   {
    "duration": 287,
    "start_time": "2021-06-11T20:19:48.637Z"
   },
   {
    "duration": 18,
    "start_time": "2021-06-11T20:19:48.927Z"
   },
   {
    "duration": 19,
    "start_time": "2021-06-11T20:19:48.947Z"
   },
   {
    "duration": 8,
    "start_time": "2021-06-11T20:19:48.969Z"
   },
   {
    "duration": 7,
    "start_time": "2021-06-11T20:19:48.979Z"
   },
   {
    "duration": 658,
    "start_time": "2021-06-11T20:19:48.989Z"
   },
   {
    "duration": 614,
    "start_time": "2021-06-11T20:19:49.649Z"
   },
   {
    "duration": 704,
    "start_time": "2021-06-11T20:19:50.265Z"
   },
   {
    "duration": 668,
    "start_time": "2021-06-11T20:19:50.971Z"
   },
   {
    "duration": 703,
    "start_time": "2021-06-11T20:19:51.641Z"
   },
   {
    "duration": 225,
    "start_time": "2021-06-11T20:19:52.346Z"
   },
   {
    "duration": 313,
    "start_time": "2021-06-11T20:19:52.574Z"
   },
   {
    "duration": 419,
    "start_time": "2021-06-11T20:19:52.890Z"
   },
   {
    "duration": 16,
    "start_time": "2021-06-11T20:19:53.312Z"
   },
   {
    "duration": 296,
    "start_time": "2021-06-11T20:19:53.331Z"
   },
   {
    "duration": 385,
    "start_time": "2021-06-11T20:19:53.629Z"
   },
   {
    "duration": 11,
    "start_time": "2021-06-11T20:19:54.016Z"
   },
   {
    "duration": 564,
    "start_time": "2021-06-11T20:19:54.029Z"
   },
   {
    "duration": 200,
    "start_time": "2021-06-11T20:19:54.595Z"
   },
   {
    "duration": 7,
    "start_time": "2021-06-11T20:19:54.798Z"
   },
   {
    "duration": 653,
    "start_time": "2021-06-11T20:19:54.807Z"
   },
   {
    "duration": 14,
    "start_time": "2021-06-11T20:19:55.462Z"
   },
   {
    "duration": 12,
    "start_time": "2021-06-11T20:19:55.479Z"
   },
   {
    "duration": 37,
    "start_time": "2021-06-11T20:19:55.494Z"
   },
   {
    "duration": 15,
    "start_time": "2021-06-11T20:19:55.534Z"
   },
   {
    "duration": 21,
    "start_time": "2021-06-11T20:19:55.552Z"
   },
   {
    "duration": 676,
    "start_time": "2021-06-11T20:20:52.154Z"
   },
   {
    "duration": 274,
    "start_time": "2021-06-11T20:21:19.902Z"
   },
   {
    "duration": 365,
    "start_time": "2021-06-11T20:21:37.669Z"
   },
   {
    "duration": 279,
    "start_time": "2021-06-11T20:21:43.902Z"
   },
   {
    "duration": 285,
    "start_time": "2021-06-11T20:21:49.558Z"
   },
   {
    "duration": 388,
    "start_time": "2021-06-11T20:21:56.089Z"
   },
   {
    "duration": 4,
    "start_time": "2021-06-11T20:22:56.466Z"
   },
   {
    "duration": 383,
    "start_time": "2021-06-19T09:21:16.699Z"
   },
   {
    "duration": 1318,
    "start_time": "2021-06-19T09:21:26.816Z"
   },
   {
    "duration": 18,
    "start_time": "2021-06-19T09:21:28.137Z"
   },
   {
    "duration": 9,
    "start_time": "2021-06-19T09:21:28.161Z"
   },
   {
    "duration": 31,
    "start_time": "2021-06-19T09:21:28.173Z"
   },
   {
    "duration": 6,
    "start_time": "2021-06-19T09:21:28.207Z"
   },
   {
    "duration": 15,
    "start_time": "2021-06-19T09:21:28.215Z"
   },
   {
    "duration": 5,
    "start_time": "2021-06-19T09:21:28.263Z"
   },
   {
    "duration": 30,
    "start_time": "2021-06-19T09:21:28.271Z"
   },
   {
    "duration": 22,
    "start_time": "2021-06-19T09:21:28.303Z"
   },
   {
    "duration": 14,
    "start_time": "2021-06-19T09:21:28.327Z"
   },
   {
    "duration": 25,
    "start_time": "2021-06-19T09:21:28.344Z"
   },
   {
    "duration": 52,
    "start_time": "2021-06-19T09:21:28.371Z"
   },
   {
    "duration": 25,
    "start_time": "2021-06-19T09:21:28.426Z"
   },
   {
    "duration": 28,
    "start_time": "2021-06-19T09:21:28.453Z"
   },
   {
    "duration": 24,
    "start_time": "2021-06-19T09:21:28.483Z"
   },
   {
    "duration": 7,
    "start_time": "2021-06-19T09:21:28.509Z"
   },
   {
    "duration": 26,
    "start_time": "2021-06-19T09:21:28.518Z"
   },
   {
    "duration": 6,
    "start_time": "2021-06-19T09:21:28.547Z"
   },
   {
    "duration": 19,
    "start_time": "2021-06-19T09:21:28.555Z"
   },
   {
    "duration": 15,
    "start_time": "2021-06-19T09:21:28.577Z"
   },
   {
    "duration": 15,
    "start_time": "2021-06-19T09:21:28.595Z"
   },
   {
    "duration": 6,
    "start_time": "2021-06-19T09:21:28.618Z"
   },
   {
    "duration": 54,
    "start_time": "2021-06-19T09:21:28.628Z"
   },
   {
    "duration": 21,
    "start_time": "2021-06-19T09:21:28.685Z"
   },
   {
    "duration": 10,
    "start_time": "2021-06-19T09:21:28.709Z"
   },
   {
    "duration": 43,
    "start_time": "2021-06-19T09:21:28.721Z"
   },
   {
    "duration": 12,
    "start_time": "2021-06-19T09:21:28.767Z"
   },
   {
    "duration": 20,
    "start_time": "2021-06-19T09:21:28.781Z"
   },
   {
    "duration": 366,
    "start_time": "2021-06-19T09:21:28.804Z"
   },
   {
    "duration": 17,
    "start_time": "2021-06-19T09:21:29.173Z"
   },
   {
    "duration": 284,
    "start_time": "2021-06-19T09:21:29.192Z"
   },
   {
    "duration": 9,
    "start_time": "2021-06-19T09:21:29.479Z"
   },
   {
    "duration": 36,
    "start_time": "2021-06-19T09:21:29.490Z"
   },
   {
    "duration": 16,
    "start_time": "2021-06-19T09:21:29.529Z"
   },
   {
    "duration": 18,
    "start_time": "2021-06-19T09:21:29.547Z"
   },
   {
    "duration": 683,
    "start_time": "2021-06-19T09:21:29.567Z"
   },
   {
    "duration": 634,
    "start_time": "2021-06-19T09:21:30.253Z"
   },
   {
    "duration": 715,
    "start_time": "2021-06-19T09:21:30.889Z"
   },
   {
    "duration": 651,
    "start_time": "2021-06-19T09:21:31.606Z"
   },
   {
    "duration": 722,
    "start_time": "2021-06-19T09:21:32.263Z"
   },
   {
    "duration": 196,
    "start_time": "2021-06-19T09:21:32.989Z"
   },
   {
    "duration": 296,
    "start_time": "2021-06-19T09:21:33.188Z"
   },
   {
    "duration": 393,
    "start_time": "2021-06-19T09:21:33.486Z"
   },
   {
    "duration": 7,
    "start_time": "2021-06-19T09:21:33.881Z"
   },
   {
    "duration": 299,
    "start_time": "2021-06-19T09:21:33.890Z"
   },
   {
    "duration": 383,
    "start_time": "2021-06-19T09:21:34.191Z"
   },
   {
    "duration": 6,
    "start_time": "2021-06-19T09:21:34.576Z"
   },
   {
    "duration": 565,
    "start_time": "2021-06-19T09:21:34.585Z"
   },
   {
    "duration": 209,
    "start_time": "2021-06-19T09:21:35.152Z"
   },
   {
    "duration": 8,
    "start_time": "2021-06-19T09:21:35.364Z"
   },
   {
    "duration": 243,
    "start_time": "2021-06-19T09:21:35.375Z"
   },
   {
    "duration": 15,
    "start_time": "2021-06-19T09:21:35.621Z"
   },
   {
    "duration": 37,
    "start_time": "2021-06-19T09:21:35.638Z"
   },
   {
    "duration": 14,
    "start_time": "2021-06-19T09:21:35.678Z"
   },
   {
    "duration": 20,
    "start_time": "2021-06-19T09:21:35.695Z"
   },
   {
    "duration": 28,
    "start_time": "2021-06-19T09:21:35.717Z"
   },
   {
    "duration": 16,
    "start_time": "2021-06-19T09:22:38.490Z"
   },
   {
    "duration": 454,
    "start_time": "2021-06-19T09:25:56.579Z"
   },
   {
    "duration": 123,
    "start_time": "2021-06-19T09:26:47.771Z"
   },
   {
    "duration": 617,
    "start_time": "2021-06-19T09:26:54.074Z"
   },
   {
    "duration": 3,
    "start_time": "2021-06-19T09:27:14.034Z"
   },
   {
    "duration": 1502,
    "start_time": "2021-06-19T09:28:48.424Z"
   },
   {
    "duration": 17,
    "start_time": "2021-06-19T09:28:49.929Z"
   },
   {
    "duration": 7,
    "start_time": "2021-06-19T09:28:49.949Z"
   },
   {
    "duration": 27,
    "start_time": "2021-06-19T09:28:49.959Z"
   },
   {
    "duration": 4,
    "start_time": "2021-06-19T09:28:49.989Z"
   },
   {
    "duration": 10,
    "start_time": "2021-06-19T09:28:49.996Z"
   },
   {
    "duration": 12,
    "start_time": "2021-06-19T09:28:50.008Z"
   },
   {
    "duration": 39,
    "start_time": "2021-06-19T09:28:50.023Z"
   },
   {
    "duration": 28,
    "start_time": "2021-06-19T09:28:50.065Z"
   },
   {
    "duration": 16,
    "start_time": "2021-06-19T09:28:50.096Z"
   },
   {
    "duration": 16,
    "start_time": "2021-06-19T09:28:50.114Z"
   },
   {
    "duration": 622,
    "start_time": "2021-06-19T09:28:50.132Z"
   },
   {
    "duration": 36,
    "start_time": "2021-06-19T09:28:50.761Z"
   },
   {
    "duration": 21,
    "start_time": "2021-06-19T09:28:50.800Z"
   },
   {
    "duration": 18,
    "start_time": "2021-06-19T09:28:50.824Z"
   },
   {
    "duration": 21,
    "start_time": "2021-06-19T09:28:50.844Z"
   },
   {
    "duration": 8,
    "start_time": "2021-06-19T09:28:50.867Z"
   },
   {
    "duration": 17,
    "start_time": "2021-06-19T09:28:50.878Z"
   },
   {
    "duration": 20,
    "start_time": "2021-06-19T09:28:50.898Z"
   },
   {
    "duration": 19,
    "start_time": "2021-06-19T09:28:50.921Z"
   },
   {
    "duration": 9,
    "start_time": "2021-06-19T09:28:50.943Z"
   },
   {
    "duration": 9,
    "start_time": "2021-06-19T09:28:50.961Z"
   },
   {
    "duration": 4,
    "start_time": "2021-06-19T09:28:50.975Z"
   },
   {
    "duration": 21,
    "start_time": "2021-06-19T09:28:50.982Z"
   },
   {
    "duration": 12,
    "start_time": "2021-06-19T09:28:51.005Z"
   },
   {
    "duration": 7,
    "start_time": "2021-06-19T09:28:51.019Z"
   },
   {
    "duration": 16,
    "start_time": "2021-06-19T09:28:51.063Z"
   },
   {
    "duration": 9,
    "start_time": "2021-06-19T09:28:51.081Z"
   },
   {
    "duration": 11,
    "start_time": "2021-06-19T09:28:51.092Z"
   },
   {
    "duration": 383,
    "start_time": "2021-06-19T09:28:51.106Z"
   },
   {
    "duration": 17,
    "start_time": "2021-06-19T09:28:51.491Z"
   },
   {
    "duration": 287,
    "start_time": "2021-06-19T09:28:51.510Z"
   },
   {
    "duration": 12,
    "start_time": "2021-06-19T09:28:51.799Z"
   },
   {
    "duration": 24,
    "start_time": "2021-06-19T09:28:51.813Z"
   },
   {
    "duration": 22,
    "start_time": "2021-06-19T09:28:51.840Z"
   },
   {
    "duration": 7,
    "start_time": "2021-06-19T09:28:51.864Z"
   },
   {
    "duration": 674,
    "start_time": "2021-06-19T09:28:51.873Z"
   },
   {
    "duration": 665,
    "start_time": "2021-06-19T09:28:52.549Z"
   },
   {
    "duration": 804,
    "start_time": "2021-06-19T09:28:53.217Z"
   },
   {
    "duration": 649,
    "start_time": "2021-06-19T09:28:54.024Z"
   },
   {
    "duration": 798,
    "start_time": "2021-06-19T09:28:54.675Z"
   },
   {
    "duration": 225,
    "start_time": "2021-06-19T09:28:55.475Z"
   },
   {
    "duration": 290,
    "start_time": "2021-06-19T09:28:55.702Z"
   },
   {
    "duration": 373,
    "start_time": "2021-06-19T09:28:55.994Z"
   },
   {
    "duration": 7,
    "start_time": "2021-06-19T09:28:56.369Z"
   },
   {
    "duration": 293,
    "start_time": "2021-06-19T09:28:56.378Z"
   },
   {
    "duration": 381,
    "start_time": "2021-06-19T09:28:56.674Z"
   },
   {
    "duration": 9,
    "start_time": "2021-06-19T09:28:57.057Z"
   },
   {
    "duration": 496,
    "start_time": "2021-06-19T09:28:57.068Z"
   },
   {
    "duration": 273,
    "start_time": "2021-06-19T09:28:57.567Z"
   },
   {
    "duration": 8,
    "start_time": "2021-06-19T09:28:57.863Z"
   },
   {
    "duration": 243,
    "start_time": "2021-06-19T09:28:57.874Z"
   },
   {
    "duration": 15,
    "start_time": "2021-06-19T09:28:58.119Z"
   },
   {
    "duration": 33,
    "start_time": "2021-06-19T09:28:58.137Z"
   },
   {
    "duration": 17,
    "start_time": "2021-06-19T09:28:58.173Z"
   },
   {
    "duration": 15,
    "start_time": "2021-06-19T09:28:58.193Z"
   },
   {
    "duration": 58,
    "start_time": "2021-06-19T09:28:58.210Z"
   },
   {
    "duration": 752,
    "start_time": "2021-06-19T09:30:20.110Z"
   },
   {
    "duration": 726,
    "start_time": "2021-06-19T09:31:25.662Z"
   },
   {
    "duration": 678,
    "start_time": "2021-06-19T09:31:50.984Z"
   },
   {
    "duration": 30,
    "start_time": "2021-06-19T09:43:46.064Z"
   },
   {
    "duration": 9,
    "start_time": "2021-06-19T09:45:16.602Z"
   },
   {
    "duration": 15,
    "start_time": "2021-06-19T09:46:06.719Z"
   },
   {
    "duration": 464,
    "start_time": "2021-06-19T10:01:46.497Z"
   },
   {
    "duration": 607,
    "start_time": "2021-06-19T10:03:00.074Z"
   },
   {
    "duration": 731,
    "start_time": "2021-06-19T10:07:46.174Z"
   },
   {
    "duration": 714,
    "start_time": "2021-06-19T10:08:17.373Z"
   },
   {
    "duration": 116,
    "start_time": "2021-06-19T10:10:46.126Z"
   },
   {
    "duration": 22,
    "start_time": "2021-06-19T10:11:02.597Z"
   },
   {
    "duration": 15,
    "start_time": "2021-06-19T10:12:51.485Z"
   },
   {
    "duration": 14,
    "start_time": "2021-06-19T10:13:09.519Z"
   },
   {
    "duration": 20,
    "start_time": "2021-06-19T10:13:18.966Z"
   },
   {
    "duration": 200,
    "start_time": "2021-06-19T10:18:24.103Z"
   },
   {
    "duration": 479,
    "start_time": "2021-06-19T10:27:42.147Z"
   },
   {
    "duration": 324,
    "start_time": "2021-06-19T10:27:50.418Z"
   },
   {
    "duration": 10,
    "start_time": "2021-06-19T10:28:03.812Z"
   },
   {
    "duration": 9,
    "start_time": "2021-06-19T10:28:29.256Z"
   },
   {
    "duration": 9,
    "start_time": "2021-06-19T10:28:34.978Z"
   },
   {
    "duration": 10,
    "start_time": "2021-06-19T10:32:12.456Z"
   },
   {
    "duration": 11,
    "start_time": "2021-06-19T10:34:06.667Z"
   },
   {
    "duration": 10,
    "start_time": "2021-06-19T10:37:08.546Z"
   },
   {
    "duration": 15,
    "start_time": "2021-06-19T10:37:17.330Z"
   },
   {
    "duration": 410,
    "start_time": "2021-06-19T10:41:46.568Z"
   },
   {
    "duration": 10,
    "start_time": "2021-06-19T10:41:51.237Z"
   },
   {
    "duration": 10,
    "start_time": "2021-06-19T10:41:51.932Z"
   },
   {
    "duration": 11,
    "start_time": "2021-06-19T10:44:38.837Z"
   },
   {
    "duration": 314,
    "start_time": "2021-06-19T11:15:33.742Z"
   },
   {
    "duration": 12,
    "start_time": "2021-06-19T11:15:39.731Z"
   },
   {
    "duration": 9,
    "start_time": "2021-06-19T11:15:40.563Z"
   },
   {
    "duration": 228,
    "start_time": "2021-06-19T11:17:30.402Z"
   },
   {
    "duration": 11,
    "start_time": "2021-06-19T11:17:41.383Z"
   },
   {
    "duration": 214,
    "start_time": "2021-06-19T11:18:15.418Z"
   },
   {
    "duration": 9,
    "start_time": "2021-06-19T11:18:15.979Z"
   },
   {
    "duration": 11,
    "start_time": "2021-06-19T11:18:19.011Z"
   },
   {
    "duration": 664,
    "start_time": "2021-06-19T11:19:25.243Z"
   },
   {
    "duration": 666,
    "start_time": "2021-06-19T11:19:39.389Z"
   },
   {
    "duration": 930,
    "start_time": "2021-06-19T11:19:54.568Z"
   },
   {
    "duration": 1015,
    "start_time": "2021-06-19T11:21:39.387Z"
   },
   {
    "duration": 672,
    "start_time": "2021-06-19T11:21:54.554Z"
   },
   {
    "duration": 735,
    "start_time": "2021-06-19T11:22:08.496Z"
   },
   {
    "duration": 739,
    "start_time": "2021-06-19T11:22:24.055Z"
   },
   {
    "duration": 732,
    "start_time": "2021-06-19T11:22:29.713Z"
   },
   {
    "duration": 674,
    "start_time": "2021-06-19T11:22:52.979Z"
   },
   {
    "duration": 743,
    "start_time": "2021-06-19T11:23:12.800Z"
   },
   {
    "duration": 613,
    "start_time": "2021-06-19T11:23:40.978Z"
   },
   {
    "duration": 289,
    "start_time": "2021-06-19T11:24:15.041Z"
   },
   {
    "duration": 410,
    "start_time": "2021-06-19T11:24:25.420Z"
   },
   {
    "duration": 295,
    "start_time": "2021-06-19T11:24:30.360Z"
   },
   {
    "duration": 401,
    "start_time": "2021-06-19T11:24:35.931Z"
   },
   {
    "duration": 309,
    "start_time": "2021-06-19T11:29:48.823Z"
   },
   {
    "duration": 893,
    "start_time": "2021-06-19T11:30:08.227Z"
   },
   {
    "duration": 594,
    "start_time": "2021-06-19T11:30:25.068Z"
   },
   {
    "duration": 463,
    "start_time": "2021-06-19T11:30:31.616Z"
   },
   {
    "duration": 390,
    "start_time": "2021-06-19T11:30:36.497Z"
   },
   {
    "duration": 315,
    "start_time": "2021-06-19T11:30:57.586Z"
   },
   {
    "duration": 343,
    "start_time": "2021-06-19T11:31:02.035Z"
   },
   {
    "duration": 337,
    "start_time": "2021-06-19T11:31:08.829Z"
   },
   {
    "duration": 455,
    "start_time": "2021-06-19T11:31:15.499Z"
   },
   {
    "duration": 499,
    "start_time": "2021-06-19T11:31:23.258Z"
   },
   {
    "duration": 383,
    "start_time": "2021-06-19T11:31:37.371Z"
   },
   {
    "duration": 388,
    "start_time": "2021-06-19T11:35:37.913Z"
   },
   {
    "duration": 396,
    "start_time": "2021-06-19T11:36:34.027Z"
   },
   {
    "duration": 391,
    "start_time": "2021-06-19T11:36:41.360Z"
   },
   {
    "duration": 634,
    "start_time": "2021-06-19T11:37:05.201Z"
   },
   {
    "duration": 510,
    "start_time": "2021-06-19T11:37:14.160Z"
   },
   {
    "duration": 511,
    "start_time": "2021-06-19T11:37:54.538Z"
   },
   {
    "duration": 531,
    "start_time": "2021-06-19T11:41:28.139Z"
   },
   {
    "duration": 473,
    "start_time": "2021-06-19T11:41:39.739Z"
   },
   {
    "duration": 419,
    "start_time": "2021-06-19T11:42:23.504Z"
   },
   {
    "duration": 374,
    "start_time": "2021-06-19T11:42:42.921Z"
   },
   {
    "duration": 342,
    "start_time": "2021-06-19T11:43:28.386Z"
   },
   {
    "duration": 432,
    "start_time": "2021-06-19T11:44:47.692Z"
   },
   {
    "duration": 455,
    "start_time": "2021-06-19T11:45:16.718Z"
   },
   {
    "duration": 102,
    "start_time": "2021-06-19T12:49:28.569Z"
   },
   {
    "duration": 110,
    "start_time": "2021-06-19T12:56:18.509Z"
   },
   {
    "duration": 318,
    "start_time": "2021-06-20T07:10:44.316Z"
   },
   {
    "duration": 1501,
    "start_time": "2021-06-20T07:10:56.462Z"
   },
   {
    "duration": 20,
    "start_time": "2021-06-20T07:10:57.966Z"
   },
   {
    "duration": 7,
    "start_time": "2021-06-20T07:10:57.989Z"
   },
   {
    "duration": 16,
    "start_time": "2021-06-20T07:10:58.000Z"
   },
   {
    "duration": 4,
    "start_time": "2021-06-20T07:10:58.018Z"
   },
   {
    "duration": 12,
    "start_time": "2021-06-20T07:10:58.025Z"
   },
   {
    "duration": 7,
    "start_time": "2021-06-20T07:10:58.039Z"
   },
   {
    "duration": 7,
    "start_time": "2021-06-20T07:10:58.049Z"
   },
   {
    "duration": 50,
    "start_time": "2021-06-20T07:10:58.058Z"
   },
   {
    "duration": 6,
    "start_time": "2021-06-20T07:10:58.111Z"
   },
   {
    "duration": 6,
    "start_time": "2021-06-20T07:10:58.120Z"
   },
   {
    "duration": 1034,
    "start_time": "2021-06-20T07:10:58.128Z"
   },
   {
    "duration": 94,
    "start_time": "2021-06-20T07:10:59.165Z"
   },
   {
    "duration": 18,
    "start_time": "2021-06-20T07:10:59.262Z"
   },
   {
    "duration": 15,
    "start_time": "2021-06-20T07:10:59.283Z"
   },
   {
    "duration": 12,
    "start_time": "2021-06-20T07:10:59.301Z"
   },
   {
    "duration": 6,
    "start_time": "2021-06-20T07:10:59.315Z"
   },
   {
    "duration": 12,
    "start_time": "2021-06-20T07:10:59.324Z"
   },
   {
    "duration": 18,
    "start_time": "2021-06-20T07:10:59.339Z"
   },
   {
    "duration": 7,
    "start_time": "2021-06-20T07:10:59.360Z"
   },
   {
    "duration": 36,
    "start_time": "2021-06-20T07:10:59.369Z"
   },
   {
    "duration": 5,
    "start_time": "2021-06-20T07:10:59.408Z"
   },
   {
    "duration": 8,
    "start_time": "2021-06-20T07:10:59.420Z"
   },
   {
    "duration": 4,
    "start_time": "2021-06-20T07:10:59.432Z"
   },
   {
    "duration": 63,
    "start_time": "2021-06-20T07:10:59.439Z"
   },
   {
    "duration": 12,
    "start_time": "2021-06-20T07:10:59.505Z"
   },
   {
    "duration": 6,
    "start_time": "2021-06-20T07:10:59.519Z"
   },
   {
    "duration": 14,
    "start_time": "2021-06-20T07:10:59.528Z"
   },
   {
    "duration": 9,
    "start_time": "2021-06-20T07:10:59.544Z"
   },
   {
    "duration": 47,
    "start_time": "2021-06-20T07:10:59.555Z"
   },
   {
    "duration": 363,
    "start_time": "2021-06-20T07:10:59.605Z"
   },
   {
    "duration": 16,
    "start_time": "2021-06-20T07:10:59.970Z"
   },
   {
    "duration": 277,
    "start_time": "2021-06-20T07:10:59.988Z"
   },
   {
    "duration": 9,
    "start_time": "2021-06-20T07:11:00.268Z"
   },
   {
    "duration": 33,
    "start_time": "2021-06-20T07:11:00.279Z"
   },
   {
    "duration": 11,
    "start_time": "2021-06-20T07:11:00.314Z"
   },
   {
    "duration": 13,
    "start_time": "2021-06-20T07:11:00.327Z"
   },
   {
    "duration": 731,
    "start_time": "2021-06-20T07:11:00.342Z"
   },
   {
    "duration": 687,
    "start_time": "2021-06-20T07:11:01.075Z"
   },
   {
    "duration": 779,
    "start_time": "2021-06-20T07:11:01.764Z"
   },
   {
    "duration": 607,
    "start_time": "2021-06-20T07:11:02.545Z"
   },
   {
    "duration": 809,
    "start_time": "2021-06-20T07:11:03.154Z"
   },
   {
    "duration": 214,
    "start_time": "2021-06-20T07:11:03.966Z"
   },
   {
    "duration": 518,
    "start_time": "2021-06-20T07:11:04.183Z"
   },
   {
    "duration": 449,
    "start_time": "2021-06-20T07:11:04.703Z"
   },
   {
    "duration": 9,
    "start_time": "2021-06-20T07:11:05.155Z"
   },
   {
    "duration": 353,
    "start_time": "2021-06-20T07:11:05.167Z"
   },
   {
    "duration": 422,
    "start_time": "2021-06-20T07:11:05.523Z"
   },
   {
    "duration": 7,
    "start_time": "2021-06-20T07:11:05.947Z"
   },
   {
    "duration": 493,
    "start_time": "2021-06-20T07:11:05.956Z"
   },
   {
    "duration": 180,
    "start_time": "2021-06-20T07:11:06.452Z"
   },
   {
    "duration": 9,
    "start_time": "2021-06-20T07:11:06.634Z"
   },
   {
    "duration": 13,
    "start_time": "2021-06-20T07:11:06.646Z"
   },
   {
    "duration": 7,
    "start_time": "2021-06-20T07:11:06.662Z"
   },
   {
    "duration": 10,
    "start_time": "2021-06-20T07:11:06.700Z"
   },
   {
    "duration": 17,
    "start_time": "2021-06-20T07:11:06.713Z"
   },
   {
    "duration": 11,
    "start_time": "2021-06-20T07:11:06.732Z"
   },
   {
    "duration": 11,
    "start_time": "2021-06-20T07:11:06.746Z"
   },
   {
    "duration": 47,
    "start_time": "2021-06-20T07:11:06.760Z"
   },
   {
    "duration": 10,
    "start_time": "2021-06-20T07:11:06.810Z"
   },
   {
    "duration": 10,
    "start_time": "2021-06-20T08:16:29.871Z"
   },
   {
    "duration": 11,
    "start_time": "2021-06-20T08:16:51.816Z"
   },
   {
    "duration": 1655,
    "start_time": "2021-06-20T08:17:15.104Z"
   },
   {
    "duration": 19,
    "start_time": "2021-06-20T08:17:16.762Z"
   },
   {
    "duration": 6,
    "start_time": "2021-06-20T08:17:16.784Z"
   },
   {
    "duration": 18,
    "start_time": "2021-06-20T08:17:16.792Z"
   },
   {
    "duration": 4,
    "start_time": "2021-06-20T08:17:16.812Z"
   },
   {
    "duration": 14,
    "start_time": "2021-06-20T08:17:16.818Z"
   },
   {
    "duration": 15,
    "start_time": "2021-06-20T08:17:16.834Z"
   },
   {
    "duration": 7,
    "start_time": "2021-06-20T08:17:16.853Z"
   },
   {
    "duration": 41,
    "start_time": "2021-06-20T08:17:16.864Z"
   },
   {
    "duration": 11,
    "start_time": "2021-06-20T08:17:16.908Z"
   },
   {
    "duration": 8,
    "start_time": "2021-06-20T08:17:16.921Z"
   },
   {
    "duration": 619,
    "start_time": "2021-06-20T08:17:16.931Z"
   },
   {
    "duration": 42,
    "start_time": "2021-06-20T08:17:17.553Z"
   },
   {
    "duration": 19,
    "start_time": "2021-06-20T08:17:17.598Z"
   },
   {
    "duration": 18,
    "start_time": "2021-06-20T08:17:17.619Z"
   },
   {
    "duration": 11,
    "start_time": "2021-06-20T08:17:17.639Z"
   },
   {
    "duration": 11,
    "start_time": "2021-06-20T08:17:17.653Z"
   },
   {
    "duration": 39,
    "start_time": "2021-06-20T08:17:17.666Z"
   },
   {
    "duration": 26,
    "start_time": "2021-06-20T08:17:17.708Z"
   },
   {
    "duration": 26,
    "start_time": "2021-06-20T08:17:17.737Z"
   },
   {
    "duration": 21,
    "start_time": "2021-06-20T08:17:17.765Z"
   },
   {
    "duration": 13,
    "start_time": "2021-06-20T08:17:17.789Z"
   },
   {
    "duration": 10,
    "start_time": "2021-06-20T08:17:17.809Z"
   },
   {
    "duration": 30,
    "start_time": "2021-06-20T08:17:17.822Z"
   },
   {
    "duration": 20,
    "start_time": "2021-06-20T08:17:17.854Z"
   },
   {
    "duration": 31,
    "start_time": "2021-06-20T08:17:17.877Z"
   },
   {
    "duration": 24,
    "start_time": "2021-06-20T08:17:17.910Z"
   },
   {
    "duration": 12,
    "start_time": "2021-06-20T08:17:17.936Z"
   },
   {
    "duration": 19,
    "start_time": "2021-06-20T08:17:17.951Z"
   },
   {
    "duration": 346,
    "start_time": "2021-06-20T08:17:17.972Z"
   },
   {
    "duration": 14,
    "start_time": "2021-06-20T08:17:18.320Z"
   },
   {
    "duration": 273,
    "start_time": "2021-06-20T08:17:18.337Z"
   },
   {
    "duration": 13,
    "start_time": "2021-06-20T08:17:18.612Z"
   },
   {
    "duration": 24,
    "start_time": "2021-06-20T08:17:18.628Z"
   },
   {
    "duration": 7,
    "start_time": "2021-06-20T08:17:18.654Z"
   },
   {
    "duration": 11,
    "start_time": "2021-06-20T08:17:18.665Z"
   },
   {
    "duration": 820,
    "start_time": "2021-06-20T08:17:18.700Z"
   },
   {
    "duration": 635,
    "start_time": "2021-06-20T08:17:19.522Z"
   },
   {
    "duration": 769,
    "start_time": "2021-06-20T08:17:20.160Z"
   },
   {
    "duration": 602,
    "start_time": "2021-06-20T08:17:20.931Z"
   },
   {
    "duration": 768,
    "start_time": "2021-06-20T08:17:21.535Z"
   },
   {
    "duration": 199,
    "start_time": "2021-06-20T08:17:22.305Z"
   },
   {
    "duration": 459,
    "start_time": "2021-06-20T08:17:22.506Z"
   },
   {
    "duration": 462,
    "start_time": "2021-06-20T08:17:22.968Z"
   },
   {
    "duration": 8,
    "start_time": "2021-06-20T08:17:23.433Z"
   },
   {
    "duration": 357,
    "start_time": "2021-06-20T08:17:23.443Z"
   },
   {
    "duration": 445,
    "start_time": "2021-06-20T08:17:23.803Z"
   },
   {
    "duration": 6,
    "start_time": "2021-06-20T08:17:24.251Z"
   },
   {
    "duration": 487,
    "start_time": "2021-06-20T08:17:24.259Z"
   },
   {
    "duration": 223,
    "start_time": "2021-06-20T08:17:24.749Z"
   },
   {
    "duration": 8,
    "start_time": "2021-06-20T08:17:24.974Z"
   },
   {
    "duration": 26,
    "start_time": "2021-06-20T08:17:24.984Z"
   },
   {
    "duration": 7,
    "start_time": "2021-06-20T08:17:25.012Z"
   },
   {
    "duration": 10,
    "start_time": "2021-06-20T08:17:25.022Z"
   },
   {
    "duration": 20,
    "start_time": "2021-06-20T08:17:25.034Z"
   },
   {
    "duration": 54,
    "start_time": "2021-06-20T08:17:25.057Z"
   },
   {
    "duration": 11,
    "start_time": "2021-06-20T08:17:25.114Z"
   },
   {
    "duration": 10,
    "start_time": "2021-06-20T08:17:25.128Z"
   },
   {
    "duration": 18,
    "start_time": "2021-06-20T08:17:25.140Z"
   },
   {
    "duration": 1667,
    "start_time": "2021-06-21T06:27:44.676Z"
   },
   {
    "duration": 18,
    "start_time": "2021-06-21T06:27:46.345Z"
   },
   {
    "duration": 10,
    "start_time": "2021-06-21T06:27:46.367Z"
   },
   {
    "duration": 18,
    "start_time": "2021-06-21T06:27:46.380Z"
   },
   {
    "duration": 4,
    "start_time": "2021-06-21T06:27:46.400Z"
   },
   {
    "duration": 11,
    "start_time": "2021-06-21T06:27:46.407Z"
   },
   {
    "duration": 8,
    "start_time": "2021-06-21T06:27:46.420Z"
   },
   {
    "duration": 6,
    "start_time": "2021-06-21T06:27:46.432Z"
   },
   {
    "duration": 51,
    "start_time": "2021-06-21T06:27:46.441Z"
   },
   {
    "duration": 8,
    "start_time": "2021-06-21T06:27:46.494Z"
   },
   {
    "duration": 5,
    "start_time": "2021-06-21T06:27:46.504Z"
   },
   {
    "duration": 924,
    "start_time": "2021-06-21T06:27:46.512Z"
   },
   {
    "duration": 37,
    "start_time": "2021-06-21T06:27:47.439Z"
   },
   {
    "duration": 21,
    "start_time": "2021-06-21T06:27:47.479Z"
   },
   {
    "duration": 18,
    "start_time": "2021-06-21T06:27:47.503Z"
   },
   {
    "duration": 15,
    "start_time": "2021-06-21T06:27:47.523Z"
   },
   {
    "duration": 16,
    "start_time": "2021-06-21T06:27:47.540Z"
   },
   {
    "duration": 32,
    "start_time": "2021-06-21T06:27:47.558Z"
   },
   {
    "duration": 132,
    "start_time": "2021-06-21T06:27:47.594Z"
   },
   {
    "duration": -165,
    "start_time": "2021-06-21T06:27:47.896Z"
   },
   {
    "duration": -170,
    "start_time": "2021-06-21T06:27:47.902Z"
   },
   {
    "duration": -178,
    "start_time": "2021-06-21T06:27:47.911Z"
   },
   {
    "duration": -181,
    "start_time": "2021-06-21T06:27:47.916Z"
   },
   {
    "duration": -185,
    "start_time": "2021-06-21T06:27:47.921Z"
   },
   {
    "duration": -189,
    "start_time": "2021-06-21T06:27:47.926Z"
   },
   {
    "duration": -191,
    "start_time": "2021-06-21T06:27:47.931Z"
   },
   {
    "duration": -193,
    "start_time": "2021-06-21T06:27:47.935Z"
   },
   {
    "duration": -196,
    "start_time": "2021-06-21T06:27:47.939Z"
   },
   {
    "duration": -199,
    "start_time": "2021-06-21T06:27:47.943Z"
   },
   {
    "duration": -201,
    "start_time": "2021-06-21T06:27:47.947Z"
   },
   {
    "duration": -204,
    "start_time": "2021-06-21T06:27:47.951Z"
   },
   {
    "duration": -206,
    "start_time": "2021-06-21T06:27:47.955Z"
   },
   {
    "duration": -209,
    "start_time": "2021-06-21T06:27:47.959Z"
   },
   {
    "duration": -212,
    "start_time": "2021-06-21T06:27:47.964Z"
   },
   {
    "duration": -215,
    "start_time": "2021-06-21T06:27:47.968Z"
   },
   {
    "duration": -216,
    "start_time": "2021-06-21T06:27:47.971Z"
   },
   {
    "duration": -220,
    "start_time": "2021-06-21T06:27:47.976Z"
   },
   {
    "duration": -222,
    "start_time": "2021-06-21T06:27:47.979Z"
   },
   {
    "duration": -230,
    "start_time": "2021-06-21T06:27:47.989Z"
   },
   {
    "duration": -232,
    "start_time": "2021-06-21T06:27:47.993Z"
   },
   {
    "duration": -235,
    "start_time": "2021-06-21T06:27:47.998Z"
   },
   {
    "duration": -237,
    "start_time": "2021-06-21T06:27:48.001Z"
   },
   {
    "duration": -238,
    "start_time": "2021-06-21T06:27:48.004Z"
   },
   {
    "duration": -240,
    "start_time": "2021-06-21T06:27:48.007Z"
   },
   {
    "duration": -228,
    "start_time": "2021-06-21T06:27:48.011Z"
   },
   {
    "duration": -231,
    "start_time": "2021-06-21T06:27:48.015Z"
   },
   {
    "duration": -232,
    "start_time": "2021-06-21T06:27:48.018Z"
   },
   {
    "duration": -235,
    "start_time": "2021-06-21T06:27:48.022Z"
   },
   {
    "duration": -236,
    "start_time": "2021-06-21T06:27:48.025Z"
   },
   {
    "duration": -238,
    "start_time": "2021-06-21T06:27:48.028Z"
   },
   {
    "duration": -240,
    "start_time": "2021-06-21T06:27:48.031Z"
   },
   {
    "duration": -242,
    "start_time": "2021-06-21T06:27:48.035Z"
   },
   {
    "duration": -245,
    "start_time": "2021-06-21T06:27:48.039Z"
   },
   {
    "duration": -247,
    "start_time": "2021-06-21T06:27:48.042Z"
   },
   {
    "duration": -249,
    "start_time": "2021-06-21T06:27:48.046Z"
   },
   {
    "duration": -251,
    "start_time": "2021-06-21T06:27:48.049Z"
   },
   {
    "duration": -252,
    "start_time": "2021-06-21T06:27:48.052Z"
   },
   {
    "duration": -254,
    "start_time": "2021-06-21T06:27:48.055Z"
   },
   {
    "duration": -256,
    "start_time": "2021-06-21T06:27:48.059Z"
   },
   {
    "duration": -257,
    "start_time": "2021-06-21T06:27:48.062Z"
   },
   {
    "duration": 14,
    "start_time": "2021-06-21T06:45:21.946Z"
   },
   {
    "duration": 6,
    "start_time": "2021-06-21T06:45:27.062Z"
   },
   {
    "duration": 5,
    "start_time": "2021-06-21T06:45:47.747Z"
   },
   {
    "duration": 932,
    "start_time": "2021-06-21T06:45:55.702Z"
   },
   {
    "duration": 6,
    "start_time": "2021-06-21T06:46:02.874Z"
   },
   {
    "duration": 17,
    "start_time": "2021-06-21T06:47:04.691Z"
   },
   {
    "duration": 6,
    "start_time": "2021-06-21T06:47:05.725Z"
   },
   {
    "duration": 11,
    "start_time": "2021-06-21T06:47:07.069Z"
   },
   {
    "duration": 8,
    "start_time": "2021-06-21T06:47:07.952Z"
   },
   {
    "duration": 10,
    "start_time": "2021-06-21T06:47:54.316Z"
   },
   {
    "duration": 103,
    "start_time": "2021-06-21T06:48:30.536Z"
   },
   {
    "duration": 4,
    "start_time": "2021-06-21T06:48:40.969Z"
   },
   {
    "duration": 17,
    "start_time": "2021-06-21T06:48:41.677Z"
   },
   {
    "duration": 11,
    "start_time": "2021-06-21T06:48:50.419Z"
   },
   {
    "duration": 11,
    "start_time": "2021-06-21T06:48:54.171Z"
   },
   {
    "duration": 8,
    "start_time": "2021-06-21T06:49:00.011Z"
   },
   {
    "duration": 11,
    "start_time": "2021-06-21T06:49:47.450Z"
   },
   {
    "duration": 8,
    "start_time": "2021-06-21T06:49:48.234Z"
   },
   {
    "duration": 14,
    "start_time": "2021-06-21T06:49:48.786Z"
   },
   {
    "duration": 8,
    "start_time": "2021-06-21T06:49:54.177Z"
   },
   {
    "duration": 8,
    "start_time": "2021-06-21T06:49:55.505Z"
   },
   {
    "duration": 326,
    "start_time": "2021-06-21T06:49:56.162Z"
   },
   {
    "duration": 18,
    "start_time": "2021-06-21T06:49:59.301Z"
   },
   {
    "duration": 271,
    "start_time": "2021-06-21T06:49:59.938Z"
   },
   {
    "duration": 9,
    "start_time": "2021-06-21T06:50:00.213Z"
   },
   {
    "duration": 18,
    "start_time": "2021-06-21T06:50:00.640Z"
   },
   {
    "duration": 8,
    "start_time": "2021-06-21T06:50:00.991Z"
   },
   {
    "duration": 7,
    "start_time": "2021-06-21T06:50:01.363Z"
   },
   {
    "duration": 683,
    "start_time": "2021-06-21T06:50:01.716Z"
   },
   {
    "duration": 606,
    "start_time": "2021-06-21T06:50:06.205Z"
   },
   {
    "duration": 876,
    "start_time": "2021-06-21T06:50:07.833Z"
   },
   {
    "duration": 581,
    "start_time": "2021-06-21T06:50:08.822Z"
   },
   {
    "duration": 738,
    "start_time": "2021-06-21T06:50:09.720Z"
   },
   {
    "duration": 197,
    "start_time": "2021-06-21T06:50:10.987Z"
   },
   {
    "duration": 460,
    "start_time": "2021-06-21T06:50:11.308Z"
   },
   {
    "duration": 432,
    "start_time": "2021-06-21T06:50:12.701Z"
   },
   {
    "duration": 8,
    "start_time": "2021-06-21T06:50:13.136Z"
   },
   {
    "duration": 311,
    "start_time": "2021-06-21T06:50:16.007Z"
   },
   {
    "duration": 386,
    "start_time": "2021-06-21T06:50:16.418Z"
   },
   {
    "duration": 8,
    "start_time": "2021-06-21T06:50:16.808Z"
   },
   {
    "duration": 473,
    "start_time": "2021-06-21T06:50:18.046Z"
   },
   {
    "duration": 211,
    "start_time": "2021-06-21T06:50:18.523Z"
   },
   {
    "duration": 10,
    "start_time": "2021-06-21T06:50:18.737Z"
   },
   {
    "duration": 13,
    "start_time": "2021-06-21T06:50:23.153Z"
   },
   {
    "duration": 7,
    "start_time": "2021-06-21T06:50:24.758Z"
   },
   {
    "duration": 10,
    "start_time": "2021-06-21T06:50:24.923Z"
   },
   {
    "duration": 14,
    "start_time": "2021-06-21T06:50:25.469Z"
   },
   {
    "duration": 14,
    "start_time": "2021-06-21T06:50:26.207Z"
   },
   {
    "duration": 13,
    "start_time": "2021-06-21T06:50:26.382Z"
   },
   {
    "duration": 15,
    "start_time": "2021-06-21T06:50:27.403Z"
   },
   {
    "duration": 8,
    "start_time": "2021-06-21T06:50:27.618Z"
   },
   {
    "duration": 599,
    "start_time": "2021-06-21T06:56:39.433Z"
   },
   {
    "duration": 619,
    "start_time": "2021-06-21T06:56:47.335Z"
   },
   {
    "duration": 1566,
    "start_time": "2021-06-21T07:34:22.724Z"
   },
   {
    "duration": 18,
    "start_time": "2021-06-21T07:34:24.293Z"
   },
   {
    "duration": 7,
    "start_time": "2021-06-21T07:34:24.313Z"
   },
   {
    "duration": 17,
    "start_time": "2021-06-21T07:34:24.323Z"
   },
   {
    "duration": 5,
    "start_time": "2021-06-21T07:34:24.342Z"
   },
   {
    "duration": 34,
    "start_time": "2021-06-21T07:34:24.350Z"
   },
   {
    "duration": 6,
    "start_time": "2021-06-21T07:34:24.387Z"
   },
   {
    "duration": 8,
    "start_time": "2021-06-21T07:34:24.399Z"
   },
   {
    "duration": 14,
    "start_time": "2021-06-21T07:34:24.410Z"
   },
   {
    "duration": 9,
    "start_time": "2021-06-21T07:34:24.427Z"
   },
   {
    "duration": 47,
    "start_time": "2021-06-21T07:34:24.438Z"
   },
   {
    "duration": 1756,
    "start_time": "2021-06-21T07:34:24.488Z"
   },
   {
    "duration": 40,
    "start_time": "2021-06-21T07:34:26.247Z"
   },
   {
    "duration": 20,
    "start_time": "2021-06-21T07:34:26.290Z"
   },
   {
    "duration": 15,
    "start_time": "2021-06-21T07:34:26.313Z"
   },
   {
    "duration": 12,
    "start_time": "2021-06-21T07:34:26.331Z"
   },
   {
    "duration": 16,
    "start_time": "2021-06-21T07:34:26.384Z"
   },
   {
    "duration": 14,
    "start_time": "2021-06-21T07:34:26.402Z"
   },
   {
    "duration": 13,
    "start_time": "2021-06-21T07:34:26.419Z"
   },
   {
    "duration": 5,
    "start_time": "2021-06-21T07:34:26.435Z"
   },
   {
    "duration": 55,
    "start_time": "2021-06-21T07:34:26.443Z"
   },
   {
    "duration": 10,
    "start_time": "2021-06-21T07:34:26.500Z"
   },
   {
    "duration": 11,
    "start_time": "2021-06-21T07:34:26.516Z"
   },
   {
    "duration": 10,
    "start_time": "2021-06-21T07:34:26.530Z"
   },
   {
    "duration": 11,
    "start_time": "2021-06-21T07:34:26.542Z"
   },
   {
    "duration": 4,
    "start_time": "2021-06-21T07:34:26.584Z"
   },
   {
    "duration": 15,
    "start_time": "2021-06-21T07:34:26.591Z"
   },
   {
    "duration": 13,
    "start_time": "2021-06-21T07:34:26.609Z"
   },
   {
    "duration": 7,
    "start_time": "2021-06-21T07:34:26.625Z"
   },
   {
    "duration": 53,
    "start_time": "2021-06-21T07:34:26.634Z"
   },
   {
    "duration": 13,
    "start_time": "2021-06-21T07:34:26.690Z"
   },
   {
    "duration": 12,
    "start_time": "2021-06-21T07:34:26.705Z"
   },
   {
    "duration": 391,
    "start_time": "2021-06-21T07:34:26.720Z"
   },
   {
    "duration": 17,
    "start_time": "2021-06-21T07:34:27.114Z"
   },
   {
    "duration": 285,
    "start_time": "2021-06-21T07:34:27.133Z"
   },
   {
    "duration": 10,
    "start_time": "2021-06-21T07:34:27.422Z"
   },
   {
    "duration": 21,
    "start_time": "2021-06-21T07:34:27.434Z"
   },
   {
    "duration": 26,
    "start_time": "2021-06-21T07:34:27.457Z"
   },
   {
    "duration": 8,
    "start_time": "2021-06-21T07:34:27.486Z"
   },
   {
    "duration": 772,
    "start_time": "2021-06-21T07:34:27.497Z"
   },
   {
    "duration": 722,
    "start_time": "2021-06-21T07:34:28.272Z"
   },
   {
    "duration": 774,
    "start_time": "2021-06-21T07:34:28.996Z"
   },
   {
    "duration": 602,
    "start_time": "2021-06-21T07:34:29.772Z"
   },
   {
    "duration": 893,
    "start_time": "2021-06-21T07:34:30.377Z"
   },
   {
    "duration": 224,
    "start_time": "2021-06-21T07:34:31.273Z"
   },
   {
    "duration": 487,
    "start_time": "2021-06-21T07:34:31.499Z"
   },
   {
    "duration": 444,
    "start_time": "2021-06-21T07:34:31.989Z"
   },
   {
    "duration": 7,
    "start_time": "2021-06-21T07:34:32.435Z"
   },
   {
    "duration": 392,
    "start_time": "2021-06-21T07:34:32.445Z"
   },
   {
    "duration": 563,
    "start_time": "2021-06-21T07:34:32.840Z"
   },
   {
    "duration": 7,
    "start_time": "2021-06-21T07:34:33.406Z"
   },
   {
    "duration": 490,
    "start_time": "2021-06-21T07:34:33.416Z"
   },
   {
    "duration": 292,
    "start_time": "2021-06-21T07:34:33.908Z"
   },
   {
    "duration": 8,
    "start_time": "2021-06-21T07:34:34.202Z"
   },
   {
    "duration": 14,
    "start_time": "2021-06-21T07:34:34.213Z"
   },
   {
    "duration": 7,
    "start_time": "2021-06-21T07:34:34.230Z"
   },
   {
    "duration": 45,
    "start_time": "2021-06-21T07:34:34.240Z"
   },
   {
    "duration": 14,
    "start_time": "2021-06-21T07:34:34.288Z"
   },
   {
    "duration": 12,
    "start_time": "2021-06-21T07:34:34.305Z"
   },
   {
    "duration": 14,
    "start_time": "2021-06-21T07:34:34.319Z"
   },
   {
    "duration": 48,
    "start_time": "2021-06-21T07:34:34.335Z"
   },
   {
    "duration": 9,
    "start_time": "2021-06-21T07:34:34.385Z"
   },
   {
    "duration": 1594,
    "start_time": "2021-06-21T16:33:26.701Z"
   },
   {
    "duration": 17,
    "start_time": "2021-06-21T16:33:28.299Z"
   },
   {
    "duration": 16,
    "start_time": "2021-06-21T16:33:28.320Z"
   },
   {
    "duration": 22,
    "start_time": "2021-06-21T16:33:28.338Z"
   },
   {
    "duration": 7,
    "start_time": "2021-06-21T16:33:28.363Z"
   },
   {
    "duration": 34,
    "start_time": "2021-06-21T16:33:28.375Z"
   },
   {
    "duration": 10,
    "start_time": "2021-06-21T16:33:28.413Z"
   },
   {
    "duration": 8,
    "start_time": "2021-06-21T16:33:28.425Z"
   },
   {
    "duration": 13,
    "start_time": "2021-06-21T16:33:28.435Z"
   },
   {
    "duration": 8,
    "start_time": "2021-06-21T16:33:28.452Z"
   },
   {
    "duration": 20,
    "start_time": "2021-06-21T16:33:28.463Z"
   },
   {
    "duration": 1189,
    "start_time": "2021-06-21T16:33:28.486Z"
   },
   {
    "duration": 34,
    "start_time": "2021-06-21T16:33:29.678Z"
   },
   {
    "duration": 21,
    "start_time": "2021-06-21T16:33:29.715Z"
   },
   {
    "duration": 16,
    "start_time": "2021-06-21T16:33:29.738Z"
   },
   {
    "duration": 12,
    "start_time": "2021-06-21T16:33:29.757Z"
   },
   {
    "duration": 45,
    "start_time": "2021-06-21T16:33:29.772Z"
   },
   {
    "duration": 11,
    "start_time": "2021-06-21T16:33:29.823Z"
   },
   {
    "duration": 13,
    "start_time": "2021-06-21T16:33:29.838Z"
   },
   {
    "duration": 5,
    "start_time": "2021-06-21T16:33:29.854Z"
   },
   {
    "duration": 50,
    "start_time": "2021-06-21T16:33:29.862Z"
   },
   {
    "duration": 6,
    "start_time": "2021-06-21T16:33:29.915Z"
   },
   {
    "duration": 13,
    "start_time": "2021-06-21T16:33:29.923Z"
   },
   {
    "duration": 10,
    "start_time": "2021-06-21T16:33:29.939Z"
   },
   {
    "duration": 13,
    "start_time": "2021-06-21T16:33:29.952Z"
   },
   {
    "duration": 5,
    "start_time": "2021-06-21T16:33:29.968Z"
   },
   {
    "duration": 42,
    "start_time": "2021-06-21T16:33:29.976Z"
   },
   {
    "duration": 28,
    "start_time": "2021-06-21T16:33:30.020Z"
   },
   {
    "duration": 11,
    "start_time": "2021-06-21T16:33:30.050Z"
   },
   {
    "duration": 30,
    "start_time": "2021-06-21T16:33:30.064Z"
   },
   {
    "duration": 11,
    "start_time": "2021-06-21T16:33:30.108Z"
   },
   {
    "duration": 13,
    "start_time": "2021-06-21T16:33:30.122Z"
   },
   {
    "duration": 373,
    "start_time": "2021-06-21T16:33:30.138Z"
   },
   {
    "duration": 16,
    "start_time": "2021-06-21T16:33:30.514Z"
   },
   {
    "duration": 307,
    "start_time": "2021-06-21T16:33:30.532Z"
   },
   {
    "duration": 31,
    "start_time": "2021-06-21T16:33:30.842Z"
   },
   {
    "duration": 35,
    "start_time": "2021-06-21T16:33:30.875Z"
   },
   {
    "duration": 14,
    "start_time": "2021-06-21T16:33:30.913Z"
   },
   {
    "duration": 19,
    "start_time": "2021-06-21T16:33:30.930Z"
   },
   {
    "duration": 875,
    "start_time": "2021-06-21T16:33:30.953Z"
   },
   {
    "duration": 792,
    "start_time": "2021-06-21T16:33:31.830Z"
   },
   {
    "duration": 841,
    "start_time": "2021-06-21T16:33:32.625Z"
   },
   {
    "duration": 666,
    "start_time": "2021-06-21T16:33:33.470Z"
   },
   {
    "duration": 858,
    "start_time": "2021-06-21T16:33:34.140Z"
   },
   {
    "duration": 236,
    "start_time": "2021-06-21T16:33:35.008Z"
   },
   {
    "duration": 500,
    "start_time": "2021-06-21T16:33:35.247Z"
   },
   {
    "duration": 471,
    "start_time": "2021-06-21T16:33:35.749Z"
   },
   {
    "duration": 7,
    "start_time": "2021-06-21T16:33:36.222Z"
   },
   {
    "duration": 408,
    "start_time": "2021-06-21T16:33:36.232Z"
   },
   {
    "duration": 459,
    "start_time": "2021-06-21T16:33:36.643Z"
   },
   {
    "duration": 8,
    "start_time": "2021-06-21T16:33:37.108Z"
   },
   {
    "duration": 507,
    "start_time": "2021-06-21T16:33:37.119Z"
   },
   {
    "duration": 345,
    "start_time": "2021-06-21T16:33:37.629Z"
   },
   {
    "duration": 23,
    "start_time": "2021-06-21T16:33:37.986Z"
   },
   {
    "duration": 14,
    "start_time": "2021-06-21T16:33:38.013Z"
   },
   {
    "duration": 9,
    "start_time": "2021-06-21T16:33:38.031Z"
   },
   {
    "duration": 11,
    "start_time": "2021-06-21T16:33:38.042Z"
   },
   {
    "duration": 54,
    "start_time": "2021-06-21T16:33:38.055Z"
   },
   {
    "duration": 14,
    "start_time": "2021-06-21T16:33:38.113Z"
   },
   {
    "duration": 18,
    "start_time": "2021-06-21T16:33:38.130Z"
   },
   {
    "duration": 13,
    "start_time": "2021-06-21T16:33:38.151Z"
   },
   {
    "duration": 50,
    "start_time": "2021-06-21T16:33:38.167Z"
   },
   {
    "duration": 99,
    "start_time": "2021-06-21T16:36:55.418Z"
   },
   {
    "duration": 228,
    "start_time": "2021-08-25T14:15:54.523Z"
   },
   {
    "duration": 1108,
    "start_time": "2021-08-25T14:16:01.239Z"
   },
   {
    "duration": 17,
    "start_time": "2021-08-25T14:16:02.349Z"
   },
   {
    "duration": 17,
    "start_time": "2021-08-25T14:16:02.371Z"
   },
   {
    "duration": 31,
    "start_time": "2021-08-25T14:16:02.389Z"
   },
   {
    "duration": 29,
    "start_time": "2021-08-25T14:16:02.422Z"
   },
   {
    "duration": 24,
    "start_time": "2021-08-25T14:16:02.452Z"
   },
   {
    "duration": 16,
    "start_time": "2021-08-25T14:16:02.478Z"
   },
   {
    "duration": 50,
    "start_time": "2021-08-25T14:16:02.496Z"
   },
   {
    "duration": 20,
    "start_time": "2021-08-25T14:16:02.548Z"
   },
   {
    "duration": 12,
    "start_time": "2021-08-25T14:16:02.570Z"
   },
   {
    "duration": 8,
    "start_time": "2021-08-25T14:16:02.584Z"
   },
   {
    "duration": 302,
    "start_time": "2021-08-25T14:16:02.593Z"
   },
   {
    "duration": 59,
    "start_time": "2021-08-25T14:16:02.897Z"
   },
   {
    "duration": 13,
    "start_time": "2021-08-25T14:16:02.958Z"
   },
   {
    "duration": 11,
    "start_time": "2021-08-25T14:16:02.972Z"
   },
   {
    "duration": 9,
    "start_time": "2021-08-25T14:16:02.985Z"
   },
   {
    "duration": 11,
    "start_time": "2021-08-25T14:16:02.996Z"
   },
   {
    "duration": 8,
    "start_time": "2021-08-25T14:16:03.009Z"
   },
   {
    "duration": 9,
    "start_time": "2021-08-25T14:16:03.018Z"
   },
   {
    "duration": 12,
    "start_time": "2021-08-25T14:16:03.028Z"
   },
   {
    "duration": 18,
    "start_time": "2021-08-25T14:16:03.042Z"
   },
   {
    "duration": 6,
    "start_time": "2021-08-25T14:16:03.062Z"
   },
   {
    "duration": 10,
    "start_time": "2021-08-25T14:16:03.070Z"
   },
   {
    "duration": 9,
    "start_time": "2021-08-25T14:16:03.085Z"
   },
   {
    "duration": 9,
    "start_time": "2021-08-25T14:16:03.096Z"
   },
   {
    "duration": 7,
    "start_time": "2021-08-25T14:16:03.109Z"
   },
   {
    "duration": 11,
    "start_time": "2021-08-25T14:16:03.118Z"
   },
   {
    "duration": 13,
    "start_time": "2021-08-25T14:16:03.130Z"
   },
   {
    "duration": 6,
    "start_time": "2021-08-25T14:16:03.145Z"
   },
   {
    "duration": 33,
    "start_time": "2021-08-25T14:16:03.152Z"
   },
   {
    "duration": 5,
    "start_time": "2021-08-25T14:16:03.187Z"
   },
   {
    "duration": 9,
    "start_time": "2021-08-25T14:16:03.194Z"
   },
   {
    "duration": 13,
    "start_time": "2021-08-25T14:16:03.204Z"
   },
   {
    "duration": 258,
    "start_time": "2021-08-25T14:16:03.219Z"
   },
   {
    "duration": 14,
    "start_time": "2021-08-25T14:16:03.479Z"
   },
   {
    "duration": 166,
    "start_time": "2021-08-25T14:16:03.494Z"
   },
   {
    "duration": 6,
    "start_time": "2021-08-25T14:16:03.662Z"
   },
   {
    "duration": 23,
    "start_time": "2021-08-25T14:16:03.670Z"
   },
   {
    "duration": 5,
    "start_time": "2021-08-25T14:16:03.694Z"
   },
   {
    "duration": 6,
    "start_time": "2021-08-25T14:16:03.700Z"
   },
   {
    "duration": 498,
    "start_time": "2021-08-25T14:16:03.707Z"
   },
   {
    "duration": 439,
    "start_time": "2021-08-25T14:16:04.206Z"
   },
   {
    "duration": 566,
    "start_time": "2021-08-25T14:16:04.646Z"
   },
   {
    "duration": 391,
    "start_time": "2021-08-25T14:16:05.214Z"
   },
   {
    "duration": 570,
    "start_time": "2021-08-25T14:16:05.606Z"
   },
   {
    "duration": 122,
    "start_time": "2021-08-25T14:16:06.178Z"
   },
   {
    "duration": 298,
    "start_time": "2021-08-25T14:16:06.302Z"
   },
   {
    "duration": 333,
    "start_time": "2021-08-25T14:16:06.602Z"
   },
   {
    "duration": 5,
    "start_time": "2021-08-25T14:16:06.937Z"
   },
   {
    "duration": 236,
    "start_time": "2021-08-25T14:16:06.943Z"
   },
   {
    "duration": 336,
    "start_time": "2021-08-25T14:16:07.181Z"
   },
   {
    "duration": 5,
    "start_time": "2021-08-25T14:16:07.519Z"
   },
   {
    "duration": 284,
    "start_time": "2021-08-25T14:16:07.526Z"
   },
   {
    "duration": 112,
    "start_time": "2021-08-25T14:16:07.811Z"
   },
   {
    "duration": 5,
    "start_time": "2021-08-25T14:16:07.925Z"
   },
   {
    "duration": 11,
    "start_time": "2021-08-25T14:16:07.932Z"
   },
   {
    "duration": 5,
    "start_time": "2021-08-25T14:16:07.945Z"
   },
   {
    "duration": 7,
    "start_time": "2021-08-25T14:16:07.952Z"
   },
   {
    "duration": 31,
    "start_time": "2021-08-25T14:16:07.960Z"
   },
   {
    "duration": 7,
    "start_time": "2021-08-25T14:16:07.993Z"
   },
   {
    "duration": 9,
    "start_time": "2021-08-25T14:16:08.002Z"
   },
   {
    "duration": 6,
    "start_time": "2021-08-25T14:16:08.013Z"
   },
   {
    "duration": 7,
    "start_time": "2021-08-25T14:16:08.021Z"
   },
   {
    "duration": 13,
    "start_time": "2021-08-25T14:21:40.822Z"
   },
   {
    "duration": 10,
    "start_time": "2021-08-25T14:38:03.980Z"
   },
   {
    "duration": 1518,
    "start_time": "2021-08-26T04:04:28.242Z"
   },
   {
    "duration": 21,
    "start_time": "2021-08-26T04:04:29.762Z"
   },
   {
    "duration": 4,
    "start_time": "2021-08-26T04:04:29.786Z"
   },
   {
    "duration": 22,
    "start_time": "2021-08-26T04:04:29.793Z"
   },
   {
    "duration": 4,
    "start_time": "2021-08-26T04:04:29.818Z"
   },
   {
    "duration": 30,
    "start_time": "2021-08-26T04:04:29.825Z"
   },
   {
    "duration": 6,
    "start_time": "2021-08-26T04:04:29.857Z"
   },
   {
    "duration": 7,
    "start_time": "2021-08-26T04:04:29.867Z"
   },
   {
    "duration": 13,
    "start_time": "2021-08-26T04:04:29.877Z"
   },
   {
    "duration": 7,
    "start_time": "2021-08-26T04:04:29.893Z"
   },
   {
    "duration": 52,
    "start_time": "2021-08-26T04:04:29.903Z"
   },
   {
    "duration": 613,
    "start_time": "2021-08-26T04:04:29.957Z"
   },
   {
    "duration": 65,
    "start_time": "2021-08-26T04:04:30.573Z"
   },
   {
    "duration": 21,
    "start_time": "2021-08-26T04:04:30.640Z"
   },
   {
    "duration": 18,
    "start_time": "2021-08-26T04:04:30.664Z"
   },
   {
    "duration": 18,
    "start_time": "2021-08-26T04:04:30.684Z"
   },
   {
    "duration": 25,
    "start_time": "2021-08-26T04:04:30.705Z"
   },
   {
    "duration": 29,
    "start_time": "2021-08-26T04:04:30.733Z"
   },
   {
    "duration": 14,
    "start_time": "2021-08-26T04:04:30.766Z"
   },
   {
    "duration": 7,
    "start_time": "2021-08-26T04:04:30.783Z"
   },
   {
    "duration": 35,
    "start_time": "2021-08-26T04:04:30.793Z"
   },
   {
    "duration": 27,
    "start_time": "2021-08-26T04:04:30.831Z"
   },
   {
    "duration": 20,
    "start_time": "2021-08-26T04:04:30.864Z"
   },
   {
    "duration": 11,
    "start_time": "2021-08-26T04:04:30.889Z"
   },
   {
    "duration": 22,
    "start_time": "2021-08-26T04:04:30.904Z"
   },
   {
    "duration": 27,
    "start_time": "2021-08-26T04:04:30.929Z"
   },
   {
    "duration": 17,
    "start_time": "2021-08-26T04:04:30.959Z"
   },
   {
    "duration": 21,
    "start_time": "2021-08-26T04:04:30.979Z"
   },
   {
    "duration": 9,
    "start_time": "2021-08-26T04:04:31.003Z"
   },
   {
    "duration": 42,
    "start_time": "2021-08-26T04:04:31.014Z"
   },
   {
    "duration": 8,
    "start_time": "2021-08-26T04:04:31.058Z"
   },
   {
    "duration": 15,
    "start_time": "2021-08-26T04:04:31.069Z"
   },
   {
    "duration": 24,
    "start_time": "2021-08-26T04:04:31.087Z"
   },
   {
    "duration": 24,
    "start_time": "2021-08-26T04:04:31.113Z"
   },
   {
    "duration": 363,
    "start_time": "2021-08-26T04:04:31.155Z"
   },
   {
    "duration": 16,
    "start_time": "2021-08-26T04:04:31.520Z"
   },
   {
    "duration": 30,
    "start_time": "2021-08-26T04:04:31.539Z"
   },
   {
    "duration": 282,
    "start_time": "2021-08-26T04:04:31.572Z"
   },
   {
    "duration": 18,
    "start_time": "2021-08-26T04:04:31.857Z"
   },
   {
    "duration": 16,
    "start_time": "2021-08-26T04:04:31.877Z"
   },
   {
    "duration": 24,
    "start_time": "2021-08-26T04:04:31.896Z"
   },
   {
    "duration": 30,
    "start_time": "2021-08-26T04:04:31.922Z"
   },
   {
    "duration": 21,
    "start_time": "2021-08-26T04:04:31.954Z"
   },
   {
    "duration": 754,
    "start_time": "2021-08-26T04:04:31.978Z"
   },
   {
    "duration": 697,
    "start_time": "2021-08-26T04:04:32.735Z"
   },
   {
    "duration": 781,
    "start_time": "2021-08-26T04:04:33.434Z"
   },
   {
    "duration": 618,
    "start_time": "2021-08-26T04:04:34.217Z"
   },
   {
    "duration": 808,
    "start_time": "2021-08-26T04:04:34.837Z"
   },
   {
    "duration": 245,
    "start_time": "2021-08-26T04:04:35.648Z"
   },
   {
    "duration": 472,
    "start_time": "2021-08-26T04:04:35.895Z"
   },
   {
    "duration": 463,
    "start_time": "2021-08-26T04:04:36.369Z"
   },
   {
    "duration": 7,
    "start_time": "2021-08-26T04:04:36.835Z"
   },
   {
    "duration": 355,
    "start_time": "2021-08-26T04:04:36.854Z"
   },
   {
    "duration": 479,
    "start_time": "2021-08-26T04:04:37.211Z"
   },
   {
    "duration": 6,
    "start_time": "2021-08-26T04:04:37.692Z"
   },
   {
    "duration": 492,
    "start_time": "2021-08-26T04:04:37.701Z"
   },
   {
    "duration": 240,
    "start_time": "2021-08-26T04:04:38.196Z"
   },
   {
    "duration": 21,
    "start_time": "2021-08-26T04:04:38.439Z"
   },
   {
    "duration": 12,
    "start_time": "2021-08-26T04:04:38.462Z"
   },
   {
    "duration": 7,
    "start_time": "2021-08-26T04:04:38.476Z"
   },
   {
    "duration": 9,
    "start_time": "2021-08-26T04:04:38.486Z"
   },
   {
    "duration": 15,
    "start_time": "2021-08-26T04:04:38.497Z"
   },
   {
    "duration": 12,
    "start_time": "2021-08-26T04:04:38.556Z"
   },
   {
    "duration": 11,
    "start_time": "2021-08-26T04:04:38.570Z"
   },
   {
    "duration": 11,
    "start_time": "2021-08-26T04:04:38.584Z"
   },
   {
    "duration": 11,
    "start_time": "2021-08-26T04:04:38.597Z"
   },
   {
    "duration": 16,
    "start_time": "2021-08-26T04:05:08.841Z"
   }
  ],
  "kernelspec": {
   "display_name": "Python 3",
   "language": "python",
   "name": "python3"
  },
  "language_info": {
   "codemirror_mode": {
    "name": "ipython",
    "version": 3
   },
   "file_extension": ".py",
   "mimetype": "text/x-python",
   "name": "python",
   "nbconvert_exporter": "python",
   "pygments_lexer": "ipython3",
   "version": "3.8.8"
  },
  "toc": {
   "base_numbering": 1,
   "nav_menu": {},
   "number_sections": true,
   "sideBar": true,
   "skip_h1_title": true,
   "title_cell": "Table of Contents",
   "title_sidebar": "Contents",
   "toc_cell": false,
   "toc_position": {},
   "toc_section_display": true,
   "toc_window_display": false
  }
 },
 "nbformat": 4,
 "nbformat_minor": 2
}
