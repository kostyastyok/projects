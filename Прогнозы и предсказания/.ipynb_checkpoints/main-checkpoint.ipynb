{
 "cells": [
  {
   "cell_type": "markdown",
   "metadata": {},
   "source": [
    "# Прогнозы и предсказания"
   ]
  },
  {
   "cell_type": "markdown",
   "metadata": {},
   "source": [
    "**Описание проекта**"
   ]
  },
  {
   "cell_type": "markdown",
   "metadata": {},
   "source": [
    "Сеть фитнес-центров разрабатывает стратегию взаимодействия с клиентами на основе аналитических данных.\n",
    "\n",
    "Распространённая проблема фитнес-клубов и других сервисов — отток клиентов. Индикаторы оттока зависят от специфики отрасли. Для фитнес-центра можно считать, что клиент попал в отток, если за последний месяц ни разу не посетил спортзал. \n",
    "\n",
    "Чтобы бороться с оттоком, отдел по работе с клиентами «Культуриста-датасаентиста» перевёл в электронный вид множество клиентских анкет. Наша задача — провести анализ и подготовить план действий по удержанию клиентов."
   ]
  },
  {
   "cell_type": "markdown",
   "metadata": {},
   "source": [
    "'Churn' — факт оттока в текущем месяце;\n",
    "\n",
    "Текущие поля в датасете:\n",
    "\n",
    "Данные клиента за предыдущий до проверки факта оттока месяц:\n",
    "- 'gender' — пол;\n",
    "- 'Near_Location' — проживание или работа в районе, где находится фитнес-центр;\n",
    "- 'Partner' — сотрудник компании-партнёра клуба (сотрудничество с компаниями, чьи сотрудники могут получать скидки на абонемент — в таком случае фитнес-центр хранит информацию о работодателе клиента);\n",
    "- Promo_friends — факт первоначальной записи в рамках акции «приведи друга» (использовал промо-код от знакомого при оплате первого абонемента);\n",
    "- 'Phone' — наличие контактного телефона;\n",
    "- 'Age' — возраст;\n",
    "- 'Lifetime' — время с момента первого обращения в фитнес-центр (в месяцах).\n",
    "\n",
    "Информация на основе журнала посещений, покупок и информация о текущем статусе абонемента клиента:\n",
    "- 'Contract_period' — длительность текущего действующего абонемента (месяц, 3 месяца, 6 месяцев, год);\n",
    "- 'Month_to_end_contract' — срок до окончания текущего действующего абонемента (в месяцах);\n",
    "- 'Group_visits' — факт посещения групповых занятий;\n",
    "- 'Avg_class_frequency_total' — средняя частота посещений в неделю за все время с начала действия абонемента;\n",
    "- 'Avg_class_frequency_current_month' — средняя частота посещений в неделю за предыдущий месяц;\n",
    "- 'Avg_additional_charges_total' — суммарная выручка от других услуг фитнес-центра: кафе, спорт-товары, косметический и массажный салон."
   ]
  },
  {
   "cell_type": "markdown",
   "metadata": {},
   "source": [
    "## Импортируем библиотеки и загружаем данные"
   ]
  },
  {
   "cell_type": "code",
   "execution_count": 1,
   "metadata": {},
   "outputs": [],
   "source": [
    "import pandas as pd\n",
    "import os\n",
    "import seaborn as sns\n",
    "from matplotlib import pyplot as plt\n",
    "from sklearn.model_selection import train_test_split\n",
    "from sklearn.preprocessing import StandardScaler\n",
    "from sklearn.linear_model import LogisticRegression\n",
    "from sklearn.metrics import recall_score, accuracy_score, precision_score, f1_score\n",
    "from sklearn.ensemble import RandomForestClassifier\n",
    "from sklearn.preprocessing import StandardScaler\n",
    "from scipy.cluster.hierarchy import dendrogram, linkage\n",
    "from sklearn.cluster import KMeans\n",
    "from sklearn.metrics import r2_score"
   ]
  },
  {
   "cell_type": "code",
   "execution_count": 2,
   "metadata": {},
   "outputs": [
    {
     "name": "stdout",
     "output_type": "stream",
     "text": [
      "Defaulting to user installation because normal site-packages is not writeable\n",
      "Requirement already up-to-date: seaborn in /home/jovyan/.local/lib/python3.7/site-packages (0.11.2)\n",
      "Requirement already satisfied, skipping upgrade: pandas>=0.23 in /opt/conda/lib/python3.7/site-packages (from seaborn) (0.25.1)\n",
      "Requirement already satisfied, skipping upgrade: scipy>=1.0 in /opt/conda/lib/python3.7/site-packages (from seaborn) (1.4.1)\n",
      "Requirement already satisfied, skipping upgrade: matplotlib>=2.2 in /opt/conda/lib/python3.7/site-packages (from seaborn) (3.1.0)\n",
      "Requirement already satisfied, skipping upgrade: numpy>=1.15 in /opt/conda/lib/python3.7/site-packages (from seaborn) (1.19.5)\n",
      "Requirement already satisfied, skipping upgrade: python-dateutil>=2.6.1 in /opt/conda/lib/python3.7/site-packages (from pandas>=0.23->seaborn) (2.8.1)\n",
      "Requirement already satisfied, skipping upgrade: pytz>=2017.2 in /opt/conda/lib/python3.7/site-packages (from pandas>=0.23->seaborn) (2021.1)\n",
      "Requirement already satisfied, skipping upgrade: pyparsing!=2.0.4,!=2.1.2,!=2.1.6,>=2.0.1 in /opt/conda/lib/python3.7/site-packages (from matplotlib>=2.2->seaborn) (2.4.7)\n",
      "Requirement already satisfied, skipping upgrade: kiwisolver>=1.0.1 in /opt/conda/lib/python3.7/site-packages (from matplotlib>=2.2->seaborn) (1.3.1)\n",
      "Requirement already satisfied, skipping upgrade: cycler>=0.10 in /opt/conda/lib/python3.7/site-packages (from matplotlib>=2.2->seaborn) (0.10.0)\n",
      "Requirement already satisfied, skipping upgrade: six>=1.5 in /opt/conda/lib/python3.7/site-packages (from python-dateutil>=2.6.1->pandas>=0.23->seaborn) (1.15.0)\n",
      "Note: you may need to restart the kernel to use updated packages.\n"
     ]
    }
   ],
   "source": [
    "pip install -U seaborn"
   ]
  },
  {
   "cell_type": "code",
   "execution_count": 4,
   "metadata": {},
   "outputs": [],
   "source": [
    "if os.path.exists('gym_churn.csv'):\n",
    "    df = pd.read_csv('gym_churn.csv')\n",
    "else:\n",
    "    df = pd.read_csv('/datasets/gym_churn.csv')"
   ]
  },
  {
   "cell_type": "code",
   "execution_count": 5,
   "metadata": {},
   "outputs": [
    {
     "data": {
      "text/html": [
       "<div>\n",
       "<style scoped>\n",
       "    .dataframe tbody tr th:only-of-type {\n",
       "        vertical-align: middle;\n",
       "    }\n",
       "\n",
       "    .dataframe tbody tr th {\n",
       "        vertical-align: top;\n",
       "    }\n",
       "\n",
       "    .dataframe thead th {\n",
       "        text-align: right;\n",
       "    }\n",
       "</style>\n",
       "<table border=\"1\" class=\"dataframe\">\n",
       "  <thead>\n",
       "    <tr style=\"text-align: right;\">\n",
       "      <th></th>\n",
       "      <th>gender</th>\n",
       "      <th>Near_Location</th>\n",
       "      <th>Partner</th>\n",
       "      <th>Promo_friends</th>\n",
       "      <th>Phone</th>\n",
       "      <th>Contract_period</th>\n",
       "      <th>Group_visits</th>\n",
       "      <th>Age</th>\n",
       "      <th>Avg_additional_charges_total</th>\n",
       "      <th>Month_to_end_contract</th>\n",
       "      <th>Lifetime</th>\n",
       "      <th>Avg_class_frequency_total</th>\n",
       "      <th>Avg_class_frequency_current_month</th>\n",
       "      <th>Churn</th>\n",
       "    </tr>\n",
       "  </thead>\n",
       "  <tbody>\n",
       "    <tr>\n",
       "      <td>0</td>\n",
       "      <td>1</td>\n",
       "      <td>1</td>\n",
       "      <td>1</td>\n",
       "      <td>1</td>\n",
       "      <td>0</td>\n",
       "      <td>6</td>\n",
       "      <td>1</td>\n",
       "      <td>29</td>\n",
       "      <td>14.227470</td>\n",
       "      <td>5.0</td>\n",
       "      <td>3</td>\n",
       "      <td>0.020398</td>\n",
       "      <td>0.000000</td>\n",
       "      <td>0</td>\n",
       "    </tr>\n",
       "    <tr>\n",
       "      <td>1</td>\n",
       "      <td>0</td>\n",
       "      <td>1</td>\n",
       "      <td>0</td>\n",
       "      <td>0</td>\n",
       "      <td>1</td>\n",
       "      <td>12</td>\n",
       "      <td>1</td>\n",
       "      <td>31</td>\n",
       "      <td>113.202938</td>\n",
       "      <td>12.0</td>\n",
       "      <td>7</td>\n",
       "      <td>1.922936</td>\n",
       "      <td>1.910244</td>\n",
       "      <td>0</td>\n",
       "    </tr>\n",
       "    <tr>\n",
       "      <td>2</td>\n",
       "      <td>0</td>\n",
       "      <td>1</td>\n",
       "      <td>1</td>\n",
       "      <td>0</td>\n",
       "      <td>1</td>\n",
       "      <td>1</td>\n",
       "      <td>0</td>\n",
       "      <td>28</td>\n",
       "      <td>129.448479</td>\n",
       "      <td>1.0</td>\n",
       "      <td>2</td>\n",
       "      <td>1.859098</td>\n",
       "      <td>1.736502</td>\n",
       "      <td>0</td>\n",
       "    </tr>\n",
       "    <tr>\n",
       "      <td>3</td>\n",
       "      <td>0</td>\n",
       "      <td>1</td>\n",
       "      <td>1</td>\n",
       "      <td>1</td>\n",
       "      <td>1</td>\n",
       "      <td>12</td>\n",
       "      <td>1</td>\n",
       "      <td>33</td>\n",
       "      <td>62.669863</td>\n",
       "      <td>12.0</td>\n",
       "      <td>2</td>\n",
       "      <td>3.205633</td>\n",
       "      <td>3.357215</td>\n",
       "      <td>0</td>\n",
       "    </tr>\n",
       "    <tr>\n",
       "      <td>4</td>\n",
       "      <td>1</td>\n",
       "      <td>1</td>\n",
       "      <td>1</td>\n",
       "      <td>1</td>\n",
       "      <td>1</td>\n",
       "      <td>1</td>\n",
       "      <td>0</td>\n",
       "      <td>26</td>\n",
       "      <td>198.362265</td>\n",
       "      <td>1.0</td>\n",
       "      <td>3</td>\n",
       "      <td>1.113884</td>\n",
       "      <td>1.120078</td>\n",
       "      <td>0</td>\n",
       "    </tr>\n",
       "  </tbody>\n",
       "</table>\n",
       "</div>"
      ],
      "text/plain": [
       "   gender  Near_Location  Partner  Promo_friends  Phone  Contract_period  \\\n",
       "0       1              1        1              1      0                6   \n",
       "1       0              1        0              0      1               12   \n",
       "2       0              1        1              0      1                1   \n",
       "3       0              1        1              1      1               12   \n",
       "4       1              1        1              1      1                1   \n",
       "\n",
       "   Group_visits  Age  Avg_additional_charges_total  Month_to_end_contract  \\\n",
       "0             1   29                     14.227470                    5.0   \n",
       "1             1   31                    113.202938                   12.0   \n",
       "2             0   28                    129.448479                    1.0   \n",
       "3             1   33                     62.669863                   12.0   \n",
       "4             0   26                    198.362265                    1.0   \n",
       "\n",
       "   Lifetime  Avg_class_frequency_total  Avg_class_frequency_current_month  \\\n",
       "0         3                   0.020398                           0.000000   \n",
       "1         7                   1.922936                           1.910244   \n",
       "2         2                   1.859098                           1.736502   \n",
       "3         2                   3.205633                           3.357215   \n",
       "4         3                   1.113884                           1.120078   \n",
       "\n",
       "   Churn  \n",
       "0      0  \n",
       "1      0  \n",
       "2      0  \n",
       "3      0  \n",
       "4      0  "
      ]
     },
     "execution_count": 5,
     "metadata": {},
     "output_type": "execute_result"
    }
   ],
   "source": [
    "df.head()"
   ]
  },
  {
   "cell_type": "markdown",
   "metadata": {},
   "source": [
    "## Проведем исследовательский анализ данных (EDA)"
   ]
  },
  {
   "cell_type": "markdown",
   "metadata": {},
   "source": [
    "### Посмотрим, есть ли в датасете отсутствующие признаки, изучим средние значения и стандартные отклонения"
   ]
  },
  {
   "cell_type": "code",
   "execution_count": 6,
   "metadata": {},
   "outputs": [
    {
     "name": "stdout",
     "output_type": "stream",
     "text": [
      "<class 'pandas.core.frame.DataFrame'>\n",
      "RangeIndex: 4000 entries, 0 to 3999\n",
      "Data columns (total 14 columns):\n",
      "gender                               4000 non-null int64\n",
      "Near_Location                        4000 non-null int64\n",
      "Partner                              4000 non-null int64\n",
      "Promo_friends                        4000 non-null int64\n",
      "Phone                                4000 non-null int64\n",
      "Contract_period                      4000 non-null int64\n",
      "Group_visits                         4000 non-null int64\n",
      "Age                                  4000 non-null int64\n",
      "Avg_additional_charges_total         4000 non-null float64\n",
      "Month_to_end_contract                4000 non-null float64\n",
      "Lifetime                             4000 non-null int64\n",
      "Avg_class_frequency_total            4000 non-null float64\n",
      "Avg_class_frequency_current_month    4000 non-null float64\n",
      "Churn                                4000 non-null int64\n",
      "dtypes: float64(4), int64(10)\n",
      "memory usage: 437.6 KB\n"
     ]
    }
   ],
   "source": [
    "df.info()"
   ]
  },
  {
   "cell_type": "code",
   "execution_count": 7,
   "metadata": {},
   "outputs": [
    {
     "data": {
      "text/html": [
       "<div>\n",
       "<style scoped>\n",
       "    .dataframe tbody tr th:only-of-type {\n",
       "        vertical-align: middle;\n",
       "    }\n",
       "\n",
       "    .dataframe tbody tr th {\n",
       "        vertical-align: top;\n",
       "    }\n",
       "\n",
       "    .dataframe thead th {\n",
       "        text-align: right;\n",
       "    }\n",
       "</style>\n",
       "<table border=\"1\" class=\"dataframe\">\n",
       "  <thead>\n",
       "    <tr style=\"text-align: right;\">\n",
       "      <th></th>\n",
       "      <th>gender</th>\n",
       "      <th>Near_Location</th>\n",
       "      <th>Partner</th>\n",
       "      <th>Promo_friends</th>\n",
       "      <th>Phone</th>\n",
       "      <th>Contract_period</th>\n",
       "      <th>Group_visits</th>\n",
       "      <th>Age</th>\n",
       "      <th>Avg_additional_charges_total</th>\n",
       "      <th>Month_to_end_contract</th>\n",
       "      <th>Lifetime</th>\n",
       "      <th>Avg_class_frequency_total</th>\n",
       "      <th>Avg_class_frequency_current_month</th>\n",
       "      <th>Churn</th>\n",
       "    </tr>\n",
       "  </thead>\n",
       "  <tbody>\n",
       "    <tr>\n",
       "      <td>count</td>\n",
       "      <td>4000.000000</td>\n",
       "      <td>4000.000000</td>\n",
       "      <td>4000.000000</td>\n",
       "      <td>4000.000000</td>\n",
       "      <td>4000.000000</td>\n",
       "      <td>4000.000000</td>\n",
       "      <td>4000.000000</td>\n",
       "      <td>4000.000000</td>\n",
       "      <td>4000.000000</td>\n",
       "      <td>4000.000000</td>\n",
       "      <td>4000.000000</td>\n",
       "      <td>4000.000000</td>\n",
       "      <td>4000.000000</td>\n",
       "      <td>4000.000000</td>\n",
       "    </tr>\n",
       "    <tr>\n",
       "      <td>mean</td>\n",
       "      <td>0.510250</td>\n",
       "      <td>0.845250</td>\n",
       "      <td>0.486750</td>\n",
       "      <td>0.308500</td>\n",
       "      <td>0.903500</td>\n",
       "      <td>4.681250</td>\n",
       "      <td>0.412250</td>\n",
       "      <td>29.184250</td>\n",
       "      <td>146.943728</td>\n",
       "      <td>4.322750</td>\n",
       "      <td>3.724750</td>\n",
       "      <td>1.879020</td>\n",
       "      <td>1.767052</td>\n",
       "      <td>0.265250</td>\n",
       "    </tr>\n",
       "    <tr>\n",
       "      <td>std</td>\n",
       "      <td>0.499957</td>\n",
       "      <td>0.361711</td>\n",
       "      <td>0.499887</td>\n",
       "      <td>0.461932</td>\n",
       "      <td>0.295313</td>\n",
       "      <td>4.549706</td>\n",
       "      <td>0.492301</td>\n",
       "      <td>3.258367</td>\n",
       "      <td>96.355602</td>\n",
       "      <td>4.191297</td>\n",
       "      <td>3.749267</td>\n",
       "      <td>0.972245</td>\n",
       "      <td>1.052906</td>\n",
       "      <td>0.441521</td>\n",
       "    </tr>\n",
       "    <tr>\n",
       "      <td>min</td>\n",
       "      <td>0.000000</td>\n",
       "      <td>0.000000</td>\n",
       "      <td>0.000000</td>\n",
       "      <td>0.000000</td>\n",
       "      <td>0.000000</td>\n",
       "      <td>1.000000</td>\n",
       "      <td>0.000000</td>\n",
       "      <td>18.000000</td>\n",
       "      <td>0.148205</td>\n",
       "      <td>1.000000</td>\n",
       "      <td>0.000000</td>\n",
       "      <td>0.000000</td>\n",
       "      <td>0.000000</td>\n",
       "      <td>0.000000</td>\n",
       "    </tr>\n",
       "    <tr>\n",
       "      <td>25%</td>\n",
       "      <td>0.000000</td>\n",
       "      <td>1.000000</td>\n",
       "      <td>0.000000</td>\n",
       "      <td>0.000000</td>\n",
       "      <td>1.000000</td>\n",
       "      <td>1.000000</td>\n",
       "      <td>0.000000</td>\n",
       "      <td>27.000000</td>\n",
       "      <td>68.868830</td>\n",
       "      <td>1.000000</td>\n",
       "      <td>1.000000</td>\n",
       "      <td>1.180875</td>\n",
       "      <td>0.963003</td>\n",
       "      <td>0.000000</td>\n",
       "    </tr>\n",
       "    <tr>\n",
       "      <td>50%</td>\n",
       "      <td>1.000000</td>\n",
       "      <td>1.000000</td>\n",
       "      <td>0.000000</td>\n",
       "      <td>0.000000</td>\n",
       "      <td>1.000000</td>\n",
       "      <td>1.000000</td>\n",
       "      <td>0.000000</td>\n",
       "      <td>29.000000</td>\n",
       "      <td>136.220159</td>\n",
       "      <td>1.000000</td>\n",
       "      <td>3.000000</td>\n",
       "      <td>1.832768</td>\n",
       "      <td>1.719574</td>\n",
       "      <td>0.000000</td>\n",
       "    </tr>\n",
       "    <tr>\n",
       "      <td>75%</td>\n",
       "      <td>1.000000</td>\n",
       "      <td>1.000000</td>\n",
       "      <td>1.000000</td>\n",
       "      <td>1.000000</td>\n",
       "      <td>1.000000</td>\n",
       "      <td>6.000000</td>\n",
       "      <td>1.000000</td>\n",
       "      <td>31.000000</td>\n",
       "      <td>210.949625</td>\n",
       "      <td>6.000000</td>\n",
       "      <td>5.000000</td>\n",
       "      <td>2.536078</td>\n",
       "      <td>2.510336</td>\n",
       "      <td>1.000000</td>\n",
       "    </tr>\n",
       "    <tr>\n",
       "      <td>max</td>\n",
       "      <td>1.000000</td>\n",
       "      <td>1.000000</td>\n",
       "      <td>1.000000</td>\n",
       "      <td>1.000000</td>\n",
       "      <td>1.000000</td>\n",
       "      <td>12.000000</td>\n",
       "      <td>1.000000</td>\n",
       "      <td>41.000000</td>\n",
       "      <td>552.590740</td>\n",
       "      <td>12.000000</td>\n",
       "      <td>31.000000</td>\n",
       "      <td>6.023668</td>\n",
       "      <td>6.146783</td>\n",
       "      <td>1.000000</td>\n",
       "    </tr>\n",
       "  </tbody>\n",
       "</table>\n",
       "</div>"
      ],
      "text/plain": [
       "            gender  Near_Location      Partner  Promo_friends        Phone  \\\n",
       "count  4000.000000    4000.000000  4000.000000    4000.000000  4000.000000   \n",
       "mean      0.510250       0.845250     0.486750       0.308500     0.903500   \n",
       "std       0.499957       0.361711     0.499887       0.461932     0.295313   \n",
       "min       0.000000       0.000000     0.000000       0.000000     0.000000   \n",
       "25%       0.000000       1.000000     0.000000       0.000000     1.000000   \n",
       "50%       1.000000       1.000000     0.000000       0.000000     1.000000   \n",
       "75%       1.000000       1.000000     1.000000       1.000000     1.000000   \n",
       "max       1.000000       1.000000     1.000000       1.000000     1.000000   \n",
       "\n",
       "       Contract_period  Group_visits          Age  \\\n",
       "count      4000.000000   4000.000000  4000.000000   \n",
       "mean          4.681250      0.412250    29.184250   \n",
       "std           4.549706      0.492301     3.258367   \n",
       "min           1.000000      0.000000    18.000000   \n",
       "25%           1.000000      0.000000    27.000000   \n",
       "50%           1.000000      0.000000    29.000000   \n",
       "75%           6.000000      1.000000    31.000000   \n",
       "max          12.000000      1.000000    41.000000   \n",
       "\n",
       "       Avg_additional_charges_total  Month_to_end_contract     Lifetime  \\\n",
       "count                   4000.000000            4000.000000  4000.000000   \n",
       "mean                     146.943728               4.322750     3.724750   \n",
       "std                       96.355602               4.191297     3.749267   \n",
       "min                        0.148205               1.000000     0.000000   \n",
       "25%                       68.868830               1.000000     1.000000   \n",
       "50%                      136.220159               1.000000     3.000000   \n",
       "75%                      210.949625               6.000000     5.000000   \n",
       "max                      552.590740              12.000000    31.000000   \n",
       "\n",
       "       Avg_class_frequency_total  Avg_class_frequency_current_month  \\\n",
       "count                4000.000000                        4000.000000   \n",
       "mean                    1.879020                           1.767052   \n",
       "std                     0.972245                           1.052906   \n",
       "min                     0.000000                           0.000000   \n",
       "25%                     1.180875                           0.963003   \n",
       "50%                     1.832768                           1.719574   \n",
       "75%                     2.536078                           2.510336   \n",
       "max                     6.023668                           6.146783   \n",
       "\n",
       "             Churn  \n",
       "count  4000.000000  \n",
       "mean      0.265250  \n",
       "std       0.441521  \n",
       "min       0.000000  \n",
       "25%       0.000000  \n",
       "50%       0.000000  \n",
       "75%       1.000000  \n",
       "max       1.000000  "
      ]
     },
     "execution_count": 7,
     "metadata": {},
     "output_type": "execute_result"
    }
   ],
   "source": [
    "df.describe()"
   ]
  },
  {
   "cell_type": "code",
   "execution_count": 8,
   "metadata": {},
   "outputs": [
    {
     "name": "stdout",
     "output_type": "stream",
     "text": [
      "GENDER\n",
      "1    2041\n",
      "0    1959\n",
      "Name: gender, dtype: int64\n",
      "**********************************\n",
      "NEAR_LOCATION\n",
      "1    3381\n",
      "0     619\n",
      "Name: Near_Location, dtype: int64\n",
      "**********************************\n",
      "PARTNER\n",
      "0    2053\n",
      "1    1947\n",
      "Name: Partner, dtype: int64\n",
      "**********************************\n",
      "PROMO_FRIENDS\n",
      "0    2766\n",
      "1    1234\n",
      "Name: Promo_friends, dtype: int64\n",
      "**********************************\n",
      "PHONE\n",
      "1    3614\n",
      "0     386\n",
      "Name: Phone, dtype: int64\n",
      "**********************************\n",
      "CONTRACT_PERIOD\n",
      "1     2207\n",
      "12     960\n",
      "6      833\n",
      "Name: Contract_period, dtype: int64\n",
      "**********************************\n",
      "GROUP_VISITS\n",
      "0    2351\n",
      "1    1649\n",
      "Name: Group_visits, dtype: int64\n",
      "**********************************\n",
      "AGE\n",
      "29    468\n",
      "30    457\n",
      "28    447\n",
      "31    434\n",
      "27    378\n",
      "32    364\n",
      "26    300\n",
      "33    253\n",
      "25    231\n",
      "34    174\n",
      "24    148\n",
      "35     98\n",
      "23     82\n",
      "36     48\n",
      "22     33\n",
      "37     29\n",
      "21     24\n",
      "20     14\n",
      "38     10\n",
      "39      3\n",
      "19      2\n",
      "18      2\n",
      "41      1\n",
      "Name: Age, dtype: int64\n",
      "**********************************\n",
      "AVG_ADDITIONAL_CHARGES_TOTAL\n",
      "135.756722    1\n",
      "97.623617     1\n",
      "82.487277     1\n",
      "17.911351     1\n",
      "74.882931     1\n",
      "             ..\n",
      "163.080276    1\n",
      "133.640108    1\n",
      "9.838696      1\n",
      "134.699410    1\n",
      "357.046942    1\n",
      "Name: Avg_additional_charges_total, Length: 4000, dtype: int64\n",
      "**********************************\n",
      "MONTH_TO_END_CONTRACT\n",
      "1.0     2207\n",
      "6.0      645\n",
      "12.0     524\n",
      "11.0     181\n",
      "5.0      130\n",
      "10.0      82\n",
      "9.0       73\n",
      "4.0       58\n",
      "8.0       38\n",
      "7.0       25\n",
      "3.0       23\n",
      "2.0       14\n",
      "Name: Month_to_end_contract, dtype: int64\n",
      "**********************************\n",
      "LIFETIME\n",
      "1     843\n",
      "2     610\n",
      "3     490\n",
      "0     487\n",
      "4     383\n",
      "5     273\n",
      "6     220\n",
      "7     167\n",
      "8     111\n",
      "9     100\n",
      "10     76\n",
      "12     53\n",
      "11     48\n",
      "13     28\n",
      "14     24\n",
      "15     24\n",
      "16     15\n",
      "17     11\n",
      "19      7\n",
      "20      7\n",
      "18      7\n",
      "21      5\n",
      "24      2\n",
      "22      2\n",
      "26      2\n",
      "23      2\n",
      "29      1\n",
      "27      1\n",
      "31      1\n",
      "Name: Lifetime, dtype: int64\n",
      "**********************************\n",
      "AVG_CLASS_FREQUENCY_TOTAL\n",
      "0.000000    88\n",
      "3.071431     1\n",
      "3.275314     1\n",
      "2.687575     1\n",
      "0.751450     1\n",
      "            ..\n",
      "1.801802     1\n",
      "3.519139     1\n",
      "1.750208     1\n",
      "1.315297     1\n",
      "2.863927     1\n",
      "Name: Avg_class_frequency_total, Length: 3913, dtype: int64\n",
      "**********************************\n",
      "AVG_CLASS_FREQUENCY_CURRENT_MONTH\n",
      "0.000000    181\n",
      "2.038709      1\n",
      "1.202066      1\n",
      "2.981590      1\n",
      "2.618891      1\n",
      "           ... \n",
      "1.287944      1\n",
      "2.349070      1\n",
      "3.399411      1\n",
      "0.472735      1\n",
      "3.720636      1\n",
      "Name: Avg_class_frequency_current_month, Length: 3820, dtype: int64\n",
      "**********************************\n",
      "CHURN\n",
      "0    2939\n",
      "1    1061\n",
      "Name: Churn, dtype: int64\n",
      "**********************************\n"
     ]
    }
   ],
   "source": [
    "for i in df.columns:\n",
    "    print(i.upper())\n",
    "    print(df[i].value_counts())\n",
    "    print('**********************************')"
   ]
  },
  {
   "cell_type": "markdown",
   "metadata": {},
   "source": [
    "### Посмотрим на средние значения признаков в двух группах — тех, кто ушел в отток и тех, кто остался :"
   ]
  },
  {
   "cell_type": "code",
   "execution_count": 9,
   "metadata": {},
   "outputs": [],
   "source": [
    "df.columns = df.columns.str.lower()"
   ]
  },
  {
   "cell_type": "code",
   "execution_count": 10,
   "metadata": {},
   "outputs": [
    {
     "data": {
      "text/html": [
       "<div>\n",
       "<style scoped>\n",
       "    .dataframe tbody tr th:only-of-type {\n",
       "        vertical-align: middle;\n",
       "    }\n",
       "\n",
       "    .dataframe tbody tr th {\n",
       "        vertical-align: top;\n",
       "    }\n",
       "\n",
       "    .dataframe thead th {\n",
       "        text-align: right;\n",
       "    }\n",
       "</style>\n",
       "<table border=\"1\" class=\"dataframe\">\n",
       "  <thead>\n",
       "    <tr style=\"text-align: right;\">\n",
       "      <th></th>\n",
       "      <th>gender</th>\n",
       "      <th>near_location</th>\n",
       "      <th>partner</th>\n",
       "      <th>promo_friends</th>\n",
       "      <th>phone</th>\n",
       "      <th>contract_period</th>\n",
       "      <th>group_visits</th>\n",
       "      <th>age</th>\n",
       "      <th>avg_additional_charges_total</th>\n",
       "      <th>month_to_end_contract</th>\n",
       "      <th>lifetime</th>\n",
       "      <th>avg_class_frequency_total</th>\n",
       "      <th>avg_class_frequency_current_month</th>\n",
       "    </tr>\n",
       "    <tr>\n",
       "      <th>churn</th>\n",
       "      <th></th>\n",
       "      <th></th>\n",
       "      <th></th>\n",
       "      <th></th>\n",
       "      <th></th>\n",
       "      <th></th>\n",
       "      <th></th>\n",
       "      <th></th>\n",
       "      <th></th>\n",
       "      <th></th>\n",
       "      <th></th>\n",
       "      <th></th>\n",
       "      <th></th>\n",
       "    </tr>\n",
       "  </thead>\n",
       "  <tbody>\n",
       "    <tr>\n",
       "      <td>0</td>\n",
       "      <td>0.510037</td>\n",
       "      <td>0.873086</td>\n",
       "      <td>0.534195</td>\n",
       "      <td>0.353522</td>\n",
       "      <td>0.903709</td>\n",
       "      <td>5.747193</td>\n",
       "      <td>0.464103</td>\n",
       "      <td>29.976523</td>\n",
       "      <td>158.445715</td>\n",
       "      <td>5.283089</td>\n",
       "      <td>4.711807</td>\n",
       "      <td>2.024876</td>\n",
       "      <td>2.027882</td>\n",
       "    </tr>\n",
       "    <tr>\n",
       "      <td>1</td>\n",
       "      <td>0.510839</td>\n",
       "      <td>0.768143</td>\n",
       "      <td>0.355325</td>\n",
       "      <td>0.183789</td>\n",
       "      <td>0.902922</td>\n",
       "      <td>1.728558</td>\n",
       "      <td>0.268615</td>\n",
       "      <td>26.989632</td>\n",
       "      <td>115.082899</td>\n",
       "      <td>1.662582</td>\n",
       "      <td>0.990575</td>\n",
       "      <td>1.474995</td>\n",
       "      <td>1.044546</td>\n",
       "    </tr>\n",
       "  </tbody>\n",
       "</table>\n",
       "</div>"
      ],
      "text/plain": [
       "         gender  near_location   partner  promo_friends     phone  \\\n",
       "churn                                                               \n",
       "0      0.510037       0.873086  0.534195       0.353522  0.903709   \n",
       "1      0.510839       0.768143  0.355325       0.183789  0.902922   \n",
       "\n",
       "       contract_period  group_visits        age  avg_additional_charges_total  \\\n",
       "churn                                                                           \n",
       "0             5.747193      0.464103  29.976523                    158.445715   \n",
       "1             1.728558      0.268615  26.989632                    115.082899   \n",
       "\n",
       "       month_to_end_contract  lifetime  avg_class_frequency_total  \\\n",
       "churn                                                               \n",
       "0                   5.283089  4.711807                   2.024876   \n",
       "1                   1.662582  0.990575                   1.474995   \n",
       "\n",
       "       avg_class_frequency_current_month  \n",
       "churn                                     \n",
       "0                               2.027882  \n",
       "1                               1.044546  "
      ]
     },
     "execution_count": 10,
     "metadata": {},
     "output_type": "execute_result"
    }
   ],
   "source": [
    "df.groupby('churn').mean()"
   ]
  },
  {
   "cell_type": "markdown",
   "metadata": {},
   "source": [
    "### Построим столбчатые гистограммы и распределения признаков для тех, кто ушёл (отток) и тех, кто остался (не попали в отток):"
   ]
  },
  {
   "cell_type": "code",
   "execution_count": 11,
   "metadata": {},
   "outputs": [
    {
     "data": {
      "text/plain": [
       "Index(['gender', 'near_location', 'partner', 'promo_friends', 'phone',\n",
       "       'contract_period', 'group_visits', 'age',\n",
       "       'avg_additional_charges_total', 'month_to_end_contract', 'lifetime',\n",
       "       'avg_class_frequency_total', 'avg_class_frequency_current_month',\n",
       "       'churn'],\n",
       "      dtype='object')"
      ]
     },
     "execution_count": 11,
     "metadata": {},
     "output_type": "execute_result"
    }
   ],
   "source": [
    "df.columns"
   ]
  },
  {
   "cell_type": "code",
   "execution_count": 12,
   "metadata": {},
   "outputs": [],
   "source": [
    "df_binary = df[['gender', 'near_location', 'partner', 'promo_friends', 'phone','contract_period', 'group_visits',\\\n",
    "                'churn']]\n",
    "df_hist = df[['age','avg_additional_charges_total', 'month_to_end_contract', 'lifetime','avg_class_frequency_total',\\\n",
    "              'avg_class_frequency_current_month','churn']]"
   ]
  },
  {
   "cell_type": "code",
   "execution_count": 13,
   "metadata": {},
   "outputs": [
    {
     "data": {
      "image/png": "[encoded data removed]",
      "text/plain": [
       "<Figure size 1800x864 with 6 Axes>"
      ]
     },
     "metadata": {},
     "output_type": "display_data"
    }
   ],
   "source": [
    "sns.set_style('darkgrid')\n",
    "fig = plt.figure(figsize=(25,12))\n",
    "n = 0\n",
    "for i in df_hist.drop('churn', axis = 1).columns:\n",
    "    plt.subplot(2, 3, n+1)\n",
    "    g = sns.histplot(data = df_hist,\n",
    "                x = i,\n",
    "                bins = 20, hue = 'churn', multiple=\"stack\", kde=True)\n",
    "    plt.title(i.upper())\n",
    "    n+=1"
   ]
  },
  {
   "cell_type": "code",
   "execution_count": 14,
   "metadata": {},
   "outputs": [
    {
     "data": {
      "image/png": "[encoded data removed]",
      "text/plain": [
       "<Figure size 1800x864 with 7 Axes>"
      ]
     },
     "metadata": {},
     "output_type": "display_data"
    }
   ],
   "source": [
    "sns.set_style('darkgrid')\n",
    "fig = plt.figure(figsize=(25,12))\n",
    "n = 0\n",
    "for i in df_binary.drop('churn', axis = 1).columns:\n",
    "    plt.subplot(2, 4, n+1)\n",
    "    g = sns.countplot(data = df_binary, x = i, hue = 'churn')\n",
    "    plt.title(i.upper())\n",
    "    n+=1"
   ]
  },
  {
   "cell_type": "markdown",
   "metadata": {},
   "source": [
    "В целом распределения имеют схожий характер, пропорционально кол-ву групп ушедших и оставшихся. Исключение - возраст(ушедшие всреднем младше) и срок абонемента (у ушедших он в подавляющем большинстве на 1 месяц)."
   ]
  },
  {
   "cell_type": "code",
   "execution_count": 15,
   "metadata": {},
   "outputs": [
    {
     "data": {
      "image/png": "[encoded data removed]",
      "text/plain": [
       "<Figure size 1080x1080 with 2 Axes>"
      ]
     },
     "metadata": {},
     "output_type": "display_data"
    }
   ],
   "source": [
    "corr_m = df.corr()\n",
    "plt.figure(figsize = (15,15))\n",
    "ax = sns.heatmap(corr_m, square = True, annot = True, cmap = 'bwr')"
   ]
  },
  {
   "cell_type": "markdown",
   "metadata": {},
   "source": [
    "Видим по тепловой карте, что у нас имеютсю 4 мультиколлинеарных признака. В качестве эксперимента при обучении модели попробуем удалить их. \n",
    "\n",
    "С целевой переменной выраженную обратную корреляцию имеют следующие параметры: \n",
    "- contract_period \n",
    "- age\n",
    "- lifetime\n",
    "- avg_class_frequency_current_month"
   ]
  },
  {
   "cell_type": "markdown",
   "metadata": {},
   "source": [
    "## Постройка модели прогнозирования оттока пользователей"
   ]
  },
  {
   "cell_type": "code",
   "execution_count": 16,
   "metadata": {},
   "outputs": [],
   "source": [
    "X = df.drop(['churn'], axis = 1)\n",
    "y = df['churn']\n",
    "X_train, X_test, y_train, y_test = train_test_split(X, y, test_size=0.2, random_state=0)"
   ]
  },
  {
   "cell_type": "markdown",
   "metadata": {},
   "source": [
    "### Логистическая регрессия"
   ]
  },
  {
   "cell_type": "code",
   "execution_count": 17,
   "metadata": {},
   "outputs": [],
   "source": [
    "scaler = StandardScaler()\n",
    "scaler.fit(X_train)\n",
    "\n",
    "# Преобразуйте обучающий и валидационные наборы данных\n",
    "X_train_st = scaler.transform(X_train)\n",
    "X_test_st = scaler.transform(X_test)"
   ]
  },
  {
   "cell_type": "code",
   "execution_count": 18,
   "metadata": {},
   "outputs": [],
   "source": [
    "# зададим алгоритм для нашей модели\n",
    "model_logrec = LogisticRegression(solver='liblinear', random_state=0)\n",
    "\n",
    "# обучим модель\n",
    "model_logrec.fit(X_train, y_train)\n",
    "\n",
    "# воспользуемся уже обученной моделью, чтобы сделать прогнозы\n",
    "predictions = model_logrec.predict(X_test)\n",
    "probabilities = model_logrec.predict_proba(X_test)[:, 1]"
   ]
  },
  {
   "cell_type": "code",
   "execution_count": 19,
   "metadata": {},
   "outputs": [
    {
     "name": "stdout",
     "output_type": "stream",
     "text": [
      "ROC_AUC: 0.97\n"
     ]
    }
   ],
   "source": [
    "from sklearn.metrics import roc_auc_score\n",
    "print('ROC_AUC: {:.2f}'.format(roc_auc_score(y_test, probabilities)))"
   ]
  },
  {
   "cell_type": "code",
   "execution_count": 20,
   "metadata": {},
   "outputs": [
    {
     "name": "stdout",
     "output_type": "stream",
     "text": [
      "Accuracy: 0.93\n",
      "Precision: 0.86\n",
      "Recall: 0.83\n",
      "F1: 0.85\n"
     ]
    }
   ],
   "source": [
    "print('Accuracy: {:.2f}'.format(accuracy_score(y_test, predictions)))\n",
    "print('Precision: {:.2f}'.format(precision_score(y_test, predictions)))\n",
    "print('Recall: {:.2f}'.format(recall_score(y_test, predictions)))\n",
    "print('F1: {:.2f}'.format(f1_score(y_test, predictions)))"
   ]
  },
  {
   "cell_type": "markdown",
   "metadata": {},
   "source": [
    "#### Логистическая регрессия с удалением коллинеарных признаков"
   ]
  },
  {
   "cell_type": "markdown",
   "metadata": {},
   "source": [
    "Удаляем 2 признака: month_to_end_contract и avg_class_frequency_total, тк они связаны с двумя другими (contract_period, avg_class_frequency_current_month)."
   ]
  },
  {
   "cell_type": "code",
   "execution_count": 21,
   "metadata": {},
   "outputs": [],
   "source": [
    "X = df.drop(['churn','month_to_end_contract', 'avg_class_frequency_total'], axis = 1)\n",
    "y = df['churn']\n",
    "X_train, X_test, y_train, y_test = train_test_split(X, y, test_size=0.2, random_state=0)"
   ]
  },
  {
   "cell_type": "code",
   "execution_count": 22,
   "metadata": {},
   "outputs": [],
   "source": [
    "scaler = StandardScaler()\n",
    "scaler.fit(X_train)\n",
    "\n",
    "# Преобразуйте обучающий и валидационные наборы данных\n",
    "X_train_st = scaler.transform(X_train)\n",
    "X_test_st = scaler.transform(X_test)"
   ]
  },
  {
   "cell_type": "code",
   "execution_count": 23,
   "metadata": {},
   "outputs": [],
   "source": [
    "# зададим алгоритм для нашей модели\n",
    "model_logrec = LogisticRegression(solver='liblinear', random_state=0)\n",
    "\n",
    "# обучим модель\n",
    "model_logrec.fit(X_train, y_train)\n",
    "\n",
    "# воспользуемся уже обученной моделью, чтобы сделать прогнозы\n",
    "predictions = model_logrec.predict(X_test)\n",
    "probabilities = model_logrec.predict_proba(X_test)[:, 1]"
   ]
  },
  {
   "cell_type": "code",
   "execution_count": 24,
   "metadata": {},
   "outputs": [
    {
     "name": "stdout",
     "output_type": "stream",
     "text": [
      "ROC_AUC: 0.96\n"
     ]
    }
   ],
   "source": [
    "from sklearn.metrics import roc_auc_score\n",
    "print('ROC_AUC: {:.2f}'.format(roc_auc_score(y_test, probabilities)))"
   ]
  },
  {
   "cell_type": "code",
   "execution_count": 25,
   "metadata": {},
   "outputs": [
    {
     "name": "stdout",
     "output_type": "stream",
     "text": [
      "Accuracy: 0.90\n",
      "Precision: 0.79\n",
      "Recall: 0.79\n",
      "F1: 0.79\n"
     ]
    }
   ],
   "source": [
    "print('Accuracy: {:.2f}'.format(accuracy_score(y_test, predictions)))\n",
    "print('Precision: {:.2f}'.format(precision_score(y_test, predictions)))\n",
    "print('Recall: {:.2f}'.format(recall_score(y_test, predictions)))\n",
    "print('F1: {:.2f}'.format(f1_score(y_test, predictions)))"
   ]
  },
  {
   "cell_type": "markdown",
   "metadata": {},
   "source": [
    "### Случайный лес"
   ]
  },
  {
   "cell_type": "code",
   "execution_count": 26,
   "metadata": {},
   "outputs": [],
   "source": [
    "X = df.drop(['churn'], axis = 1)\n",
    "y = df['churn']\n",
    "X_train, X_test, y_train, y_test = train_test_split(X, y, test_size=0.2, random_state=0)"
   ]
  },
  {
   "cell_type": "code",
   "execution_count": 27,
   "metadata": {},
   "outputs": [],
   "source": [
    "# зададим алгоритм для новой модели на основе алгоритма случайного леса\n",
    "rf_model = RandomForestClassifier(n_estimators = 100, random_state = 0)\n",
    "# обучим модель случайного леса\n",
    "rf_model.fit(X_train, y_train)\n",
    "# воспользуемся уже обученной моделью, чтобы сделать прогнозы\n",
    "rf_predictions = rf_model.predict(X_test)"
   ]
  },
  {
   "cell_type": "code",
   "execution_count": 28,
   "metadata": {},
   "outputs": [
    {
     "name": "stdout",
     "output_type": "stream",
     "text": [
      "Accuracy: 0.92\n",
      "Precision: 0.84\n",
      "Recall: 0.82\n",
      "F1: 0.83\n"
     ]
    }
   ],
   "source": [
    "print('Accuracy: {:.2f}'.format(accuracy_score(y_test, rf_predictions)))\n",
    "print('Precision: {:.2f}'.format(precision_score(y_test, rf_predictions)))\n",
    "print('Recall: {:.2f}'.format(recall_score(y_test, rf_predictions)))\n",
    "print('F1: {:.2f}'.format(f1_score(y_test, rf_predictions)))"
   ]
  },
  {
   "cell_type": "markdown",
   "metadata": {},
   "source": [
    "#### Случайный лес с удалением мультиколлинеарности"
   ]
  },
  {
   "cell_type": "code",
   "execution_count": 29,
   "metadata": {},
   "outputs": [],
   "source": [
    "X = df.drop(['churn','month_to_end_contract', 'avg_class_frequency_total'], axis = 1)\n",
    "y = df['churn']\n",
    "X_train, X_test, y_train, y_test = train_test_split(X, y, test_size=0.2, random_state=0)"
   ]
  },
  {
   "cell_type": "code",
   "execution_count": 30,
   "metadata": {},
   "outputs": [],
   "source": [
    "# зададим алгоритм для новой модели на основе алгоритма случайного леса\n",
    "rf_model = RandomForestClassifier(n_estimators = 100, random_state = 0)\n",
    "# обучим модель случайного леса\n",
    "rf_model.fit(X_train, y_train)\n",
    "# воспользуемся уже обученной моделью, чтобы сделать прогнозы\n",
    "rf_predictions = rf_model.predict(X_test)"
   ]
  },
  {
   "cell_type": "code",
   "execution_count": 31,
   "metadata": {},
   "outputs": [
    {
     "name": "stdout",
     "output_type": "stream",
     "text": [
      "Accuracy: 0.90\n",
      "Precision: 0.81\n",
      "Recall: 0.75\n",
      "F1: 0.78\n"
     ]
    }
   ],
   "source": [
    "print('Accuracy: {:.2f}'.format(accuracy_score(y_test, rf_predictions)))\n",
    "print('Precision: {:.2f}'.format(precision_score(y_test, rf_predictions)))\n",
    "print('Recall: {:.2f}'.format(recall_score(y_test, rf_predictions)))\n",
    "print('F1: {:.2f}'.format(f1_score(y_test, rf_predictions)))"
   ]
  },
  {
   "cell_type": "markdown",
   "metadata": {},
   "source": [
    "Как видим, исходя из метрик, метод линейной регрессии имеет показатели лучше."
   ]
  },
  {
   "cell_type": "markdown",
   "metadata": {},
   "source": [
    "В результате получаем, что при удалении мультиколлинеарности метрики обучения ухудшаются."
   ]
  },
  {
   "cell_type": "markdown",
   "metadata": {},
   "source": [
    "## Кластеризация "
   ]
  },
  {
   "cell_type": "code",
   "execution_count": 32,
   "metadata": {},
   "outputs": [],
   "source": [
    "scaler = StandardScaler() # создаём объект класса scaler (нормализатор)\n",
    "#x_sc = scaler.fit_transform(df.drop(columns = ['churn','group_visits','phone','promo_friends','gender','near_location', 'partner']))\n",
    "x_sc = scaler.fit_transform(df.drop(columns = ['churn']))# обучаем нормализатор и преобразуем набор данных "
   ]
  },
  {
   "cell_type": "code",
   "execution_count": 33,
   "metadata": {},
   "outputs": [],
   "source": [
    "linked = linkage(x_sc, method = 'ward') "
   ]
  },
  {
   "cell_type": "code",
   "execution_count": 34,
   "metadata": {},
   "outputs": [
    {
     "data": {
      "text/plain": [
       "\"plt.figure(figsize=(15, 10))  \\ndendrogram(linked, orientation='top')\\nplt.show()\""
      ]
     },
     "execution_count": 34,
     "metadata": {},
     "output_type": "execute_result"
    }
   ],
   "source": [
    "'''plt.figure(figsize=(15, 10))  \n",
    "dendrogram(linked, orientation='top')\n",
    "plt.show()'''"
   ]
  },
  {
   "cell_type": "markdown",
   "metadata": {},
   "source": [
    "На основании полученного графика выделим 5 (4) кластеров."
   ]
  },
  {
   "cell_type": "code",
   "execution_count": 35,
   "metadata": {},
   "outputs": [
    {
     "data": {
      "text/html": [
       "<div>\n",
       "<style scoped>\n",
       "    .dataframe tbody tr th:only-of-type {\n",
       "        vertical-align: middle;\n",
       "    }\n",
       "\n",
       "    .dataframe tbody tr th {\n",
       "        vertical-align: top;\n",
       "    }\n",
       "\n",
       "    .dataframe thead th {\n",
       "        text-align: right;\n",
       "    }\n",
       "</style>\n",
       "<table border=\"1\" class=\"dataframe\">\n",
       "  <thead>\n",
       "    <tr style=\"text-align: right;\">\n",
       "      <th></th>\n",
       "      <th>gender</th>\n",
       "      <th>near_location</th>\n",
       "      <th>partner</th>\n",
       "      <th>promo_friends</th>\n",
       "      <th>phone</th>\n",
       "      <th>contract_period</th>\n",
       "      <th>group_visits</th>\n",
       "      <th>age</th>\n",
       "      <th>avg_additional_charges_total</th>\n",
       "      <th>month_to_end_contract</th>\n",
       "      <th>lifetime</th>\n",
       "      <th>avg_class_frequency_total</th>\n",
       "      <th>avg_class_frequency_current_month</th>\n",
       "      <th>churn</th>\n",
       "    </tr>\n",
       "    <tr>\n",
       "      <th>cluster_km</th>\n",
       "      <th></th>\n",
       "      <th></th>\n",
       "      <th></th>\n",
       "      <th></th>\n",
       "      <th></th>\n",
       "      <th></th>\n",
       "      <th></th>\n",
       "      <th></th>\n",
       "      <th></th>\n",
       "      <th></th>\n",
       "      <th></th>\n",
       "      <th></th>\n",
       "      <th></th>\n",
       "      <th></th>\n",
       "    </tr>\n",
       "  </thead>\n",
       "  <tbody>\n",
       "    <tr>\n",
       "      <td>0</td>\n",
       "      <td>0.514091</td>\n",
       "      <td>0.839650</td>\n",
       "      <td>0.451895</td>\n",
       "      <td>0.279883</td>\n",
       "      <td>0.897959</td>\n",
       "      <td>4.301263</td>\n",
       "      <td>0.407191</td>\n",
       "      <td>28.973761</td>\n",
       "      <td>105.932804</td>\n",
       "      <td>3.996113</td>\n",
       "      <td>3.544218</td>\n",
       "      <td>1.852564</td>\n",
       "      <td>1.708264</td>\n",
       "      <td>0.334305</td>\n",
       "    </tr>\n",
       "    <tr>\n",
       "      <td>1</td>\n",
       "      <td>0.511435</td>\n",
       "      <td>0.844075</td>\n",
       "      <td>0.495842</td>\n",
       "      <td>0.320166</td>\n",
       "      <td>0.902287</td>\n",
       "      <td>4.755717</td>\n",
       "      <td>0.423077</td>\n",
       "      <td>29.401247</td>\n",
       "      <td>174.873445</td>\n",
       "      <td>4.376299</td>\n",
       "      <td>3.749480</td>\n",
       "      <td>1.895200</td>\n",
       "      <td>1.785569</td>\n",
       "      <td>0.226611</td>\n",
       "    </tr>\n",
       "    <tr>\n",
       "      <td>2</td>\n",
       "      <td>0.468635</td>\n",
       "      <td>0.856089</td>\n",
       "      <td>0.516605</td>\n",
       "      <td>0.332103</td>\n",
       "      <td>0.926199</td>\n",
       "      <td>5.822878</td>\n",
       "      <td>0.431734</td>\n",
       "      <td>29.845018</td>\n",
       "      <td>356.481960</td>\n",
       "      <td>5.383764</td>\n",
       "      <td>4.420664</td>\n",
       "      <td>2.019260</td>\n",
       "      <td>2.009382</td>\n",
       "      <td>0.044280</td>\n",
       "    </tr>\n",
       "    <tr>\n",
       "      <td>3</td>\n",
       "      <td>0.508721</td>\n",
       "      <td>0.824612</td>\n",
       "      <td>0.488372</td>\n",
       "      <td>0.293605</td>\n",
       "      <td>0.907946</td>\n",
       "      <td>4.198643</td>\n",
       "      <td>0.387597</td>\n",
       "      <td>28.908915</td>\n",
       "      <td>35.600722</td>\n",
       "      <td>3.855620</td>\n",
       "      <td>3.394380</td>\n",
       "      <td>1.836755</td>\n",
       "      <td>1.692641</td>\n",
       "      <td>0.349806</td>\n",
       "    </tr>\n",
       "    <tr>\n",
       "      <td>4</td>\n",
       "      <td>0.521246</td>\n",
       "      <td>0.881020</td>\n",
       "      <td>0.511331</td>\n",
       "      <td>0.347025</td>\n",
       "      <td>0.898017</td>\n",
       "      <td>5.400850</td>\n",
       "      <td>0.433428</td>\n",
       "      <td>29.344193</td>\n",
       "      <td>250.984767</td>\n",
       "      <td>5.001416</td>\n",
       "      <td>4.169972</td>\n",
       "      <td>1.903480</td>\n",
       "      <td>1.843255</td>\n",
       "      <td>0.178470</td>\n",
       "    </tr>\n",
       "  </tbody>\n",
       "</table>\n",
       "</div>"
      ],
      "text/plain": [
       "              gender  near_location   partner  promo_friends     phone  \\\n",
       "cluster_km                                                               \n",
       "0           0.514091       0.839650  0.451895       0.279883  0.897959   \n",
       "1           0.511435       0.844075  0.495842       0.320166  0.902287   \n",
       "2           0.468635       0.856089  0.516605       0.332103  0.926199   \n",
       "3           0.508721       0.824612  0.488372       0.293605  0.907946   \n",
       "4           0.521246       0.881020  0.511331       0.347025  0.898017   \n",
       "\n",
       "            contract_period  group_visits        age  \\\n",
       "cluster_km                                             \n",
       "0                  4.301263      0.407191  28.973761   \n",
       "1                  4.755717      0.423077  29.401247   \n",
       "2                  5.822878      0.431734  29.845018   \n",
       "3                  4.198643      0.387597  28.908915   \n",
       "4                  5.400850      0.433428  29.344193   \n",
       "\n",
       "            avg_additional_charges_total  month_to_end_contract  lifetime  \\\n",
       "cluster_km                                                                  \n",
       "0                             105.932804               3.996113  3.544218   \n",
       "1                             174.873445               4.376299  3.749480   \n",
       "2                             356.481960               5.383764  4.420664   \n",
       "3                              35.600722               3.855620  3.394380   \n",
       "4                             250.984767               5.001416  4.169972   \n",
       "\n",
       "            avg_class_frequency_total  avg_class_frequency_current_month  \\\n",
       "cluster_km                                                                 \n",
       "0                            1.852564                           1.708264   \n",
       "1                            1.895200                           1.785569   \n",
       "2                            2.019260                           2.009382   \n",
       "3                            1.836755                           1.692641   \n",
       "4                            1.903480                           1.843255   \n",
       "\n",
       "               churn  \n",
       "cluster_km            \n",
       "0           0.334305  \n",
       "1           0.226611  \n",
       "2           0.044280  \n",
       "3           0.349806  \n",
       "4           0.178470  "
      ]
     },
     "execution_count": 35,
     "metadata": {},
     "output_type": "execute_result"
    }
   ],
   "source": [
    "km = KMeans(n_clusters = 5, random_state = 0)\n",
    "labels = km.fit_predict(df.drop(['churn'], axis = 1))\n",
    "df['cluster_km'] = labels\n",
    "df.groupby('cluster_km').mean()"
   ]
  },
  {
   "cell_type": "code",
   "execution_count": 36,
   "metadata": {},
   "outputs": [],
   "source": [
    "df_binary = df[['gender', 'near_location', 'partner', 'promo_friends', 'phone','contract_period', 'group_visits',\\\n",
    "                'churn','cluster_km']]\n",
    "df_hist = df[['age','avg_additional_charges_total', 'month_to_end_contract', 'lifetime','avg_class_frequency_total',\\\n",
    "              'avg_class_frequency_current_month','churn', 'cluster_km']]"
   ]
  },
  {
   "cell_type": "code",
   "execution_count": 37,
   "metadata": {},
   "outputs": [
    {
     "name": "stdout",
     "output_type": "stream",
     "text": [
      "AGE\n"
     ]
    },
    {
     "data": {
      "image/png": "[encoded data removed]",
      "text/plain": [
       "<Figure size 1800x1584 with 5 Axes>"
      ]
     },
     "metadata": {},
     "output_type": "display_data"
    },
    {
     "name": "stdout",
     "output_type": "stream",
     "text": [
      "AVG_ADDITIONAL_CHARGES_TOTAL\n"
     ]
    },
    {
     "data": {
      "image/png": "[encoded data removed]",
      "text/plain": [
       "<Figure size 1800x1584 with 5 Axes>"
      ]
     },
     "metadata": {},
     "output_type": "display_data"
    },
    {
     "name": "stdout",
     "output_type": "stream",
     "text": [
      "MONTH_TO_END_CONTRACT\n"
     ]
    },
    {
     "data": {
      "image/png": "[encoded data removed]",
      "text/plain": [
       "<Figure size 1800x1584 with 5 Axes>"
      ]
     },
     "metadata": {},
     "output_type": "display_data"
    },
    {
     "name": "stdout",
     "output_type": "stream",
     "text": [
      "LIFETIME\n"
     ]
    },
    {
     "data": {
      "image/png": "[encoded data removed]",
      "text/plain": [
       "<Figure size 1800x1584 with 5 Axes>"
      ]
     },
     "metadata": {},
     "output_type": "display_data"
    },
    {
     "name": "stdout",
     "output_type": "stream",
     "text": [
      "AVG_CLASS_FREQUENCY_TOTAL\n"
     ]
    },
    {
     "data": {
      "image/png": "[encoded data removed]",
      "text/plain": [
       "<Figure size 1800x1584 with 5 Axes>"
      ]
     },
     "metadata": {},
     "output_type": "display_data"
    },
    {
     "name": "stdout",
     "output_type": "stream",
     "text": [
      "AVG_CLASS_FREQUENCY_CURRENT_MONTH\n"
     ]
    },
    {
     "data": {
      "image/png": "[encoded data removed]",
      "text/plain": [
       "<Figure size 1800x1584 with 5 Axes>"
      ]
     },
     "metadata": {},
     "output_type": "display_data"
    }
   ],
   "source": [
    "sns.set_style('darkgrid')\n",
    "for j in df_hist.drop(['cluster_km', 'churn'], axis = 1).columns:\n",
    "    print(j.upper())\n",
    "    fig = plt.figure(figsize=(25,22))\n",
    "    n = 0\n",
    "    for i in range(5):\n",
    "        plt.subplot(6, 5, n+1)\n",
    "        g = sns.histplot(data = df_hist[df_hist['cluster_km']==i],\n",
    "                x = j,\n",
    "                bins = 20, multiple=\"stack\", kde=True, palette='tab10')\n",
    "        plt.title('CLUSTER '+ str(i).upper())\n",
    "        n+=1\n",
    "    plt.show()"
   ]
  },
  {
   "cell_type": "code",
   "execution_count": 38,
   "metadata": {},
   "outputs": [
    {
     "data": {
      "image/png": "[encoded data removed]",
      "text/plain": [
       "<Figure size 1800x864 with 8 Axes>"
      ]
     },
     "metadata": {},
     "output_type": "display_data"
    }
   ],
   "source": [
    "sns.set_style('darkgrid')\n",
    "fig = plt.figure(figsize=(25,12))\n",
    "n = 0\n",
    "for i in df_binary.drop('cluster_km', axis = 1).columns:\n",
    "    plt.subplot(2, 4, n+1)\n",
    "    g = sns.countplot(data = df_binary, x = i, hue = 'cluster_km')\n",
    "    plt.title(i.upper())\n",
    "    n+=1"
   ]
  },
  {
   "cell_type": "code",
   "execution_count": 39,
   "metadata": {},
   "outputs": [
    {
     "data": {
      "text/html": [
       "<div>\n",
       "<style scoped>\n",
       "    .dataframe tbody tr th:only-of-type {\n",
       "        vertical-align: middle;\n",
       "    }\n",
       "\n",
       "    .dataframe tbody tr th {\n",
       "        vertical-align: top;\n",
       "    }\n",
       "\n",
       "    .dataframe thead th {\n",
       "        text-align: right;\n",
       "    }\n",
       "</style>\n",
       "<table border=\"1\" class=\"dataframe\">\n",
       "  <thead>\n",
       "    <tr style=\"text-align: right;\">\n",
       "      <th></th>\n",
       "      <th>count</th>\n",
       "    </tr>\n",
       "    <tr>\n",
       "      <th>cluster_km</th>\n",
       "      <th></th>\n",
       "    </tr>\n",
       "  </thead>\n",
       "  <tbody>\n",
       "    <tr>\n",
       "      <td>0</td>\n",
       "      <td>1029</td>\n",
       "    </tr>\n",
       "    <tr>\n",
       "      <td>1</td>\n",
       "      <td>962</td>\n",
       "    </tr>\n",
       "    <tr>\n",
       "      <td>2</td>\n",
       "      <td>271</td>\n",
       "    </tr>\n",
       "    <tr>\n",
       "      <td>3</td>\n",
       "      <td>1032</td>\n",
       "    </tr>\n",
       "    <tr>\n",
       "      <td>4</td>\n",
       "      <td>706</td>\n",
       "    </tr>\n",
       "  </tbody>\n",
       "</table>\n",
       "</div>"
      ],
      "text/plain": [
       "            count\n",
       "cluster_km       \n",
       "0            1029\n",
       "1             962\n",
       "2             271\n",
       "3            1032\n",
       "4             706"
      ]
     },
     "execution_count": 39,
     "metadata": {},
     "output_type": "execute_result"
    }
   ],
   "source": [
    "df.groupby('cluster_km').agg({'age':'count'}).rename(columns = {'age':'count'})"
   ]
  },
  {
   "cell_type": "code",
   "execution_count": 40,
   "metadata": {},
   "outputs": [
    {
     "data": {
      "text/html": [
       "<div>\n",
       "<style scoped>\n",
       "    .dataframe tbody tr th:only-of-type {\n",
       "        vertical-align: middle;\n",
       "    }\n",
       "\n",
       "    .dataframe tbody tr th {\n",
       "        vertical-align: top;\n",
       "    }\n",
       "\n",
       "    .dataframe thead th {\n",
       "        text-align: right;\n",
       "    }\n",
       "</style>\n",
       "<table border=\"1\" class=\"dataframe\">\n",
       "  <thead>\n",
       "    <tr style=\"text-align: right;\">\n",
       "      <th></th>\n",
       "      <th>churn</th>\n",
       "    </tr>\n",
       "    <tr>\n",
       "      <th>cluster_km</th>\n",
       "      <th></th>\n",
       "    </tr>\n",
       "  </thead>\n",
       "  <tbody>\n",
       "    <tr>\n",
       "      <td>0</td>\n",
       "      <td>0.334305</td>\n",
       "    </tr>\n",
       "    <tr>\n",
       "      <td>1</td>\n",
       "      <td>0.226611</td>\n",
       "    </tr>\n",
       "    <tr>\n",
       "      <td>2</td>\n",
       "      <td>0.044280</td>\n",
       "    </tr>\n",
       "    <tr>\n",
       "      <td>3</td>\n",
       "      <td>0.349806</td>\n",
       "    </tr>\n",
       "    <tr>\n",
       "      <td>4</td>\n",
       "      <td>0.178470</td>\n",
       "    </tr>\n",
       "  </tbody>\n",
       "</table>\n",
       "</div>"
      ],
      "text/plain": [
       "               churn\n",
       "cluster_km          \n",
       "0           0.334305\n",
       "1           0.226611\n",
       "2           0.044280\n",
       "3           0.349806\n",
       "4           0.178470"
      ]
     },
     "execution_count": 40,
     "metadata": {},
     "output_type": "execute_result"
    }
   ],
   "source": [
    "df.groupby('cluster_km').agg({'churn':'mean'})"
   ]
  },
  {
   "cell_type": "markdown",
   "metadata": {},
   "source": [
    "Получаем что 2 кластер имеет наименьший отток, а 4 - наибольший.\n",
    "\n",
    "При этом стоит обратить внимание на то что 2 кластер значительно меньше остальных и значительно выделяется по значению 'avg_additional_charges_total'. Поэтому в формировании гипотиз стоит учесть 4 кластер который имеет отток всего 18% но сопоставим по кол-ву с остальными."
   ]
  },
  {
   "cell_type": "markdown",
   "metadata": {},
   "source": [
    "## Выводы и  базовые рекомендации по работе с клиентами"
   ]
  },
  {
   "cell_type": "markdown",
   "metadata": {},
   "source": [
    "Посмотрев на средние значения посетителей, тех кто ушел и остался можно сделать первые выводы:\n",
    "\n",
    "Часть параметров почти совпадают, но главное что выделяется - срок абонимента. У тех кто уходит он в среднем составляет 1 месяц. Так же отмечу что частота посещений спорт зала у убывших в среднем 1 раз в неделю, против 2 раз у оставшихся. И в среднем они моложе и тратят меньше денег на прочие услуши спортзала.\n",
    "\n",
    "Стоит обратить внимание на то что убывшие клиенты реже являются пользователем партнерской программы и реже приходят по промо от друга. Так же они гораздо реже посещают групповые тренировки. Все это может говорить об низкой вовлеченности в жизнь клуба и социализации среди других посетителей. Не имея свой круг общения в спортзале им сложнее сохранять дисциплину и морально проще сменить зал (Возможно на тот где занимаются их друзья или коллеги)"
   ]
  },
  {
   "cell_type": "markdown",
   "metadata": {},
   "source": [
    "При построении ML модели лучше всего себя проявила логистическая регрессия, показав чуть большие показатели метрик."
   ]
  },
  {
   "cell_type": "markdown",
   "metadata": {},
   "source": [
    "При кластеризации и дальнейшем рассмотрении признаков, мы выделили что наиболее при всех прочих равных, самый надежный кластер имеет в среднем больший период абонимента и самую большую частоу посещений. А главное больше всех тратит на сторонние услуги фитнес центра."
   ]
  },
  {
   "cell_type": "markdown",
   "metadata": {},
   "source": [
    "Для удержания платежеспособных клиентов, повышения их лояльности можно рассмотреть введение системы поощрения : бонусы, акции, накопительные/скидочные карты.(тк кластерный аназиз показал что среди таких посетителей отток самый маленький).\n",
    "\n",
    "Так же возможны акции, стимулирующие приобретать абонемент больше чем на месяц(подарки, сертификаты, более выгодные условия при покупке абонемента на более длительный срок).\n",
    "\n",
    "Активное продвижение групповых занятий(если платные, сделать часть бесплатными или ввести пробные занятия(2 недели/ месяц)) с целью повышения вовлеченности посетителя, дать возможность завести круг общения в зале."
   ]
  }
 ],
 "metadata": {
  "ExecuteTimeLog": [
   {
    "duration": 1136,
    "start_time": "2021-08-05T05:25:19.601Z"
   },
   {
    "duration": 2,
    "start_time": "2021-08-05T05:25:20.739Z"
   },
   {
    "duration": 99,
    "start_time": "2021-08-05T05:25:20.743Z"
   },
   {
    "duration": 12,
    "start_time": "2021-08-05T05:25:20.844Z"
   },
   {
    "duration": 9,
    "start_time": "2021-08-05T05:25:20.858Z"
   },
   {
    "duration": 38,
    "start_time": "2021-08-05T05:25:20.868Z"
   },
   {
    "duration": 23,
    "start_time": "2021-08-05T05:25:20.908Z"
   },
   {
    "duration": 10,
    "start_time": "2021-08-05T05:25:20.932Z"
   },
   {
    "duration": 13,
    "start_time": "2021-08-05T05:25:20.945Z"
   },
   {
    "duration": 870,
    "start_time": "2021-08-05T05:25:20.959Z"
   },
   {
    "duration": 813,
    "start_time": "2021-08-05T05:25:21.019Z"
   },
   {
    "duration": 809,
    "start_time": "2021-08-05T05:25:21.024Z"
   },
   {
    "duration": 808,
    "start_time": "2021-08-05T05:25:21.026Z"
   },
   {
    "duration": 808,
    "start_time": "2021-08-05T05:25:21.028Z"
   },
   {
    "duration": 808,
    "start_time": "2021-08-05T05:25:21.029Z"
   },
   {
    "duration": 807,
    "start_time": "2021-08-05T05:25:21.031Z"
   },
   {
    "duration": 808,
    "start_time": "2021-08-05T05:25:21.032Z"
   },
   {
    "duration": 807,
    "start_time": "2021-08-05T05:25:21.034Z"
   },
   {
    "duration": 807,
    "start_time": "2021-08-05T05:25:21.035Z"
   },
   {
    "duration": 807,
    "start_time": "2021-08-05T05:25:21.037Z"
   },
   {
    "duration": 807,
    "start_time": "2021-08-05T05:25:21.038Z"
   },
   {
    "duration": 803,
    "start_time": "2021-08-05T05:25:21.043Z"
   },
   {
    "duration": 804,
    "start_time": "2021-08-05T05:25:21.044Z"
   },
   {
    "duration": 803,
    "start_time": "2021-08-05T05:25:21.046Z"
   },
   {
    "duration": 802,
    "start_time": "2021-08-05T05:25:21.048Z"
   },
   {
    "duration": 41,
    "start_time": "2021-08-05T05:28:57.090Z"
   },
   {
    "duration": 237,
    "start_time": "2021-08-05T05:29:10.870Z"
   },
   {
    "duration": 231,
    "start_time": "2021-08-05T05:29:24.991Z"
   },
   {
    "duration": 43,
    "start_time": "2021-08-05T05:29:31.851Z"
   },
   {
    "duration": 40,
    "start_time": "2021-08-05T05:29:38.291Z"
   },
   {
    "duration": 4,
    "start_time": "2021-08-05T05:34:37.640Z"
   },
   {
    "duration": 234,
    "start_time": "2021-08-05T05:34:43.805Z"
   },
   {
    "duration": 774,
    "start_time": "2021-08-05T05:35:35.326Z"
   },
   {
    "duration": 4,
    "start_time": "2021-08-05T05:35:59.205Z"
   },
   {
    "duration": 3,
    "start_time": "2021-08-05T05:36:02.106Z"
   },
   {
    "duration": 4,
    "start_time": "2021-08-05T05:36:07.846Z"
   },
   {
    "duration": 754,
    "start_time": "2021-08-05T05:36:59.305Z"
   },
   {
    "duration": 793,
    "start_time": "2021-08-05T05:38:44.146Z"
   },
   {
    "duration": 734,
    "start_time": "2021-08-05T05:38:51.646Z"
   },
   {
    "duration": 3817,
    "start_time": "2021-08-05T05:38:56.965Z"
   },
   {
    "duration": 4540,
    "start_time": "2021-08-05T05:41:33.411Z"
   },
   {
    "duration": 4201,
    "start_time": "2021-08-05T05:42:08.206Z"
   },
   {
    "duration": 1168,
    "start_time": "2021-08-05T05:44:06.735Z"
   },
   {
    "duration": 5,
    "start_time": "2021-08-05T05:46:36.135Z"
   },
   {
    "duration": 6,
    "start_time": "2021-08-05T05:46:36.497Z"
   },
   {
    "duration": 8,
    "start_time": "2021-08-05T05:46:39.556Z"
   },
   {
    "duration": 27,
    "start_time": "2021-08-05T05:46:41.476Z"
   },
   {
    "duration": 5,
    "start_time": "2021-08-05T05:46:42.376Z"
   },
   {
    "duration": 9,
    "start_time": "2021-08-05T05:46:43.016Z"
   },
   {
    "duration": 289,
    "start_time": "2021-08-05T05:46:44.456Z"
   },
   {
    "duration": 9,
    "start_time": "2021-08-05T05:46:44.855Z"
   },
   {
    "duration": 7,
    "start_time": "2021-08-05T05:49:21.256Z"
   },
   {
    "duration": 497,
    "start_time": "2021-08-05T05:49:22.895Z"
   },
   {
    "duration": 76724,
    "start_time": "2021-08-05T05:49:23.456Z"
   },
   {
    "duration": 1622,
    "start_time": "2021-08-05T05:50:40.182Z"
   },
   {
    "duration": 718,
    "start_time": "2021-08-05T05:50:41.806Z"
   },
   {
    "duration": -664,
    "start_time": "2021-08-05T05:50:43.189Z"
   },
   {
    "duration": 9,
    "start_time": "2021-08-05T05:52:04.911Z"
   },
   {
    "duration": 407,
    "start_time": "2021-08-05T14:42:27.002Z"
   },
   {
    "duration": 1580,
    "start_time": "2021-08-05T14:46:03.446Z"
   },
   {
    "duration": 4,
    "start_time": "2021-08-05T14:46:05.029Z"
   },
   {
    "duration": 131,
    "start_time": "2021-08-05T14:46:05.038Z"
   },
   {
    "duration": 24,
    "start_time": "2021-08-05T14:46:05.172Z"
   },
   {
    "duration": 13,
    "start_time": "2021-08-05T14:46:05.200Z"
   },
   {
    "duration": 106,
    "start_time": "2021-08-05T14:46:05.216Z"
   },
   {
    "duration": 61,
    "start_time": "2021-08-05T14:46:05.326Z"
   },
   {
    "duration": 6,
    "start_time": "2021-08-05T14:46:05.391Z"
   },
   {
    "duration": 465,
    "start_time": "2021-08-05T14:46:05.400Z"
   },
   {
    "duration": -15,
    "start_time": "2021-08-05T14:46:05.883Z"
   },
   {
    "duration": -17,
    "start_time": "2021-08-05T14:46:05.887Z"
   },
   {
    "duration": -18,
    "start_time": "2021-08-05T14:46:05.889Z"
   },
   {
    "duration": -18,
    "start_time": "2021-08-05T14:46:05.891Z"
   },
   {
    "duration": -19,
    "start_time": "2021-08-05T14:46:05.893Z"
   },
   {
    "duration": -19,
    "start_time": "2021-08-05T14:46:05.894Z"
   },
   {
    "duration": -19,
    "start_time": "2021-08-05T14:46:05.896Z"
   },
   {
    "duration": -21,
    "start_time": "2021-08-05T14:46:05.899Z"
   },
   {
    "duration": -21,
    "start_time": "2021-08-05T14:46:05.901Z"
   },
   {
    "duration": -22,
    "start_time": "2021-08-05T14:46:05.903Z"
   },
   {
    "duration": -23,
    "start_time": "2021-08-05T14:46:05.906Z"
   },
   {
    "duration": -24,
    "start_time": "2021-08-05T14:46:05.908Z"
   },
   {
    "duration": -24,
    "start_time": "2021-08-05T14:46:05.910Z"
   },
   {
    "duration": -25,
    "start_time": "2021-08-05T14:46:05.912Z"
   },
   {
    "duration": -28,
    "start_time": "2021-08-05T14:46:05.916Z"
   },
   {
    "duration": -33,
    "start_time": "2021-08-05T14:46:05.923Z"
   },
   {
    "duration": 44,
    "start_time": "2021-08-05T14:46:49.197Z"
   },
   {
    "duration": 6,
    "start_time": "2021-08-05T14:46:58.429Z"
   },
   {
    "duration": 4,
    "start_time": "2021-08-05T14:47:08.781Z"
   },
   {
    "duration": 368,
    "start_time": "2021-08-05T14:47:10.186Z"
   },
   {
    "duration": 251,
    "start_time": "2021-08-05T14:48:17.400Z"
   },
   {
    "duration": 274,
    "start_time": "2021-08-05T14:48:17.806Z"
   },
   {
    "duration": 1987,
    "start_time": "2021-08-05T14:48:23.405Z"
   },
   {
    "duration": 4,
    "start_time": "2021-08-05T14:48:25.395Z"
   },
   {
    "duration": 126,
    "start_time": "2021-08-05T14:48:25.403Z"
   },
   {
    "duration": 21,
    "start_time": "2021-08-05T14:48:25.532Z"
   },
   {
    "duration": 18,
    "start_time": "2021-08-05T14:48:25.555Z"
   },
   {
    "duration": 75,
    "start_time": "2021-08-05T14:48:25.575Z"
   },
   {
    "duration": 40,
    "start_time": "2021-08-05T14:48:25.662Z"
   },
   {
    "duration": 4,
    "start_time": "2021-08-05T14:48:25.704Z"
   },
   {
    "duration": 58,
    "start_time": "2021-08-05T14:48:25.711Z"
   },
   {
    "duration": 7558,
    "start_time": "2021-08-05T14:48:25.772Z"
   },
   {
    "duration": 2062,
    "start_time": "2021-08-05T14:48:33.332Z"
   },
   {
    "duration": 6,
    "start_time": "2021-08-05T14:48:35.396Z"
   },
   {
    "duration": 12,
    "start_time": "2021-08-05T14:48:35.404Z"
   },
   {
    "duration": 16,
    "start_time": "2021-08-05T14:48:35.418Z"
   },
   {
    "duration": 129,
    "start_time": "2021-08-05T14:48:35.436Z"
   },
   {
    "duration": 99,
    "start_time": "2021-08-05T14:48:35.568Z"
   },
   {
    "duration": 146,
    "start_time": "2021-08-05T14:48:35.670Z"
   },
   {
    "duration": 513,
    "start_time": "2021-08-05T14:48:35.818Z"
   },
   {
    "duration": 12,
    "start_time": "2021-08-05T14:48:36.334Z"
   },
   {
    "duration": 21,
    "start_time": "2021-08-05T14:48:36.348Z"
   },
   {
    "duration": 783,
    "start_time": "2021-08-05T14:48:36.372Z"
   },
   {
    "duration": 140048,
    "start_time": "2021-08-05T14:48:37.157Z"
   },
   {
    "duration": 1384,
    "start_time": "2021-08-05T14:50:57.207Z"
   },
   {
    "duration": 1268,
    "start_time": "2021-08-05T14:50:58.593Z"
   },
   {
    "duration": -107,
    "start_time": "2021-08-05T14:50:59.971Z"
   },
   {
    "duration": 1367,
    "start_time": "2021-08-05T14:54:20.681Z"
   },
   {
    "duration": 8549,
    "start_time": "2021-08-05T14:54:37.112Z"
   },
   {
    "duration": 1265,
    "start_time": "2021-08-05T14:54:51.074Z"
   },
   {
    "duration": 9651,
    "start_time": "2021-08-05T14:55:28.424Z"
   },
   {
    "duration": 1595,
    "start_time": "2021-08-05T14:56:09.785Z"
   },
   {
    "duration": 3772,
    "start_time": "2021-08-05T14:56:11.382Z"
   },
   {
    "duration": 4,
    "start_time": "2021-08-05T14:56:15.157Z"
   },
   {
    "duration": 126,
    "start_time": "2021-08-05T14:56:15.164Z"
   },
   {
    "duration": 24,
    "start_time": "2021-08-05T14:56:15.292Z"
   },
   {
    "duration": 15,
    "start_time": "2021-08-05T14:56:15.318Z"
   },
   {
    "duration": 81,
    "start_time": "2021-08-05T14:56:15.336Z"
   },
   {
    "duration": 67,
    "start_time": "2021-08-05T14:56:15.421Z"
   },
   {
    "duration": 4,
    "start_time": "2021-08-05T14:56:15.491Z"
   },
   {
    "duration": 32,
    "start_time": "2021-08-05T14:56:15.497Z"
   },
   {
    "duration": 8731,
    "start_time": "2021-08-05T14:56:15.532Z"
   },
   {
    "duration": 2289,
    "start_time": "2021-08-05T14:56:24.266Z"
   },
   {
    "duration": 6,
    "start_time": "2021-08-05T14:56:26.558Z"
   },
   {
    "duration": 15,
    "start_time": "2021-08-05T14:56:26.566Z"
   },
   {
    "duration": 13,
    "start_time": "2021-08-05T14:56:26.584Z"
   },
   {
    "duration": 163,
    "start_time": "2021-08-05T14:56:26.600Z"
   },
   {
    "duration": 100,
    "start_time": "2021-08-05T14:56:26.766Z"
   },
   {
    "duration": 14,
    "start_time": "2021-08-05T14:56:26.869Z"
   },
   {
    "duration": 522,
    "start_time": "2021-08-05T14:56:26.886Z"
   },
   {
    "duration": 17,
    "start_time": "2021-08-05T14:56:27.410Z"
   },
   {
    "duration": 32,
    "start_time": "2021-08-05T14:56:27.430Z"
   },
   {
    "duration": 771,
    "start_time": "2021-08-05T14:56:27.465Z"
   },
   {
    "duration": 144432,
    "start_time": "2021-08-05T14:56:28.240Z"
   },
   {
    "duration": 2024,
    "start_time": "2021-08-05T14:58:52.675Z"
   },
   {
    "duration": 43743,
    "start_time": "2021-08-05T14:58:54.702Z"
   },
   {
    "duration": 22,
    "start_time": "2021-08-05T14:59:38.449Z"
   },
   {
    "duration": 8,
    "start_time": "2021-08-05T17:14:58.429Z"
   },
   {
    "duration": 7,
    "start_time": "2021-08-05T17:15:52.014Z"
   },
   {
    "duration": 11,
    "start_time": "2021-08-05T17:17:30.288Z"
   },
   {
    "duration": 6,
    "start_time": "2021-08-05T17:18:32.835Z"
   },
   {
    "duration": 5812,
    "start_time": "2021-08-05T17:18:41.901Z"
   },
   {
    "duration": 560,
    "start_time": "2021-08-05T17:19:55.992Z"
   },
   {
    "duration": 8,
    "start_time": "2021-08-05T17:19:56.902Z"
   },
   {
    "duration": 10,
    "start_time": "2021-08-05T17:20:08.459Z"
   },
   {
    "duration": 5,
    "start_time": "2021-08-05T17:20:08.713Z"
   },
   {
    "duration": 5329,
    "start_time": "2021-08-05T17:20:16.117Z"
   },
   {
    "duration": 4087,
    "start_time": "2021-08-05T17:20:27.447Z"
   },
   {
    "duration": 5203,
    "start_time": "2021-08-05T17:20:41.694Z"
   },
   {
    "duration": 4271,
    "start_time": "2021-08-05T17:20:52.478Z"
   },
   {
    "duration": 7,
    "start_time": "2021-08-05T17:24:24.604Z"
   },
   {
    "duration": 1266,
    "start_time": "2021-08-05T17:24:37.677Z"
   },
   {
    "duration": 1527,
    "start_time": "2021-08-05T17:24:55.626Z"
   },
   {
    "duration": 2930,
    "start_time": "2021-08-05T17:25:16.523Z"
   },
   {
    "duration": 2669,
    "start_time": "2021-08-05T17:25:32.968Z"
   },
   {
    "duration": 3119,
    "start_time": "2021-08-05T17:25:45.969Z"
   },
   {
    "duration": 2748,
    "start_time": "2021-08-05T17:25:57.304Z"
   },
   {
    "duration": 2557,
    "start_time": "2021-08-05T17:26:06.198Z"
   },
   {
    "duration": 2561,
    "start_time": "2021-08-05T17:27:49.190Z"
   },
   {
    "duration": 2423,
    "start_time": "2021-08-05T17:28:08.876Z"
   },
   {
    "duration": 44206,
    "start_time": "2021-08-05T17:40:39.527Z"
   },
   {
    "duration": 5,
    "start_time": "2021-08-05T17:50:13.537Z"
   },
   {
    "duration": 12,
    "start_time": "2021-08-05T17:50:14.720Z"
   },
   {
    "duration": 10,
    "start_time": "2021-08-05T17:50:18.804Z"
   },
   {
    "duration": 67,
    "start_time": "2021-08-05T17:50:23.955Z"
   },
   {
    "duration": 7,
    "start_time": "2021-08-05T17:50:26.301Z"
   },
   {
    "duration": 16,
    "start_time": "2021-08-05T17:50:29.191Z"
   },
   {
    "duration": 548,
    "start_time": "2021-08-05T17:50:34.839Z"
   },
   {
    "duration": 403,
    "start_time": "2021-08-05T17:50:38.751Z"
   },
   {
    "duration": 18,
    "start_time": "2021-08-05T17:50:44.975Z"
   },
   {
    "duration": 6,
    "start_time": "2021-08-05T17:51:27.840Z"
   },
   {
    "duration": 10,
    "start_time": "2021-08-05T17:51:28.617Z"
   },
   {
    "duration": 10,
    "start_time": "2021-08-05T17:51:30.414Z"
   },
   {
    "duration": 150,
    "start_time": "2021-08-05T17:51:32.116Z"
   },
   {
    "duration": 9,
    "start_time": "2021-08-05T17:51:32.487Z"
   },
   {
    "duration": 15,
    "start_time": "2021-08-05T17:51:33.740Z"
   },
   {
    "duration": 515,
    "start_time": "2021-08-05T17:51:35.796Z"
   },
   {
    "duration": 13,
    "start_time": "2021-08-05T17:51:36.314Z"
   },
   {
    "duration": 417,
    "start_time": "2021-08-05T18:00:55.193Z"
   },
   {
    "duration": 312,
    "start_time": "2021-08-05T18:03:43.380Z"
   },
   {
    "duration": 10,
    "start_time": "2021-08-05T18:03:56.155Z"
   },
   {
    "duration": 11,
    "start_time": "2021-08-05T18:04:04.624Z"
   },
   {
    "duration": 10,
    "start_time": "2021-08-05T18:05:27.656Z"
   },
   {
    "duration": 10,
    "start_time": "2021-08-05T18:05:40.836Z"
   },
   {
    "duration": 927,
    "start_time": "2021-08-05T18:05:42.665Z"
   },
   {
    "duration": 161893,
    "start_time": "2021-08-05T18:05:43.600Z"
   },
   {
    "duration": 1522,
    "start_time": "2021-08-05T18:08:41.948Z"
   },
   {
    "duration": 40937,
    "start_time": "2021-08-05T18:08:43.474Z"
   },
   {
    "duration": 13,
    "start_time": "2021-08-05T18:09:24.414Z"
   },
   {
    "duration": 1566,
    "start_time": "2021-08-05T18:10:05.716Z"
   },
   {
    "duration": 36232,
    "start_time": "2021-08-05T18:10:07.285Z"
   },
   {
    "duration": 13,
    "start_time": "2021-08-05T18:10:43.520Z"
   },
   {
    "duration": 33666,
    "start_time": "2021-08-05T18:11:45.398Z"
   },
   {
    "duration": 1641,
    "start_time": "2021-08-05T18:12:43.964Z"
   },
   {
    "duration": 44630,
    "start_time": "2021-08-05T18:12:45.607Z"
   },
   {
    "duration": 27,
    "start_time": "2021-08-05T18:13:30.240Z"
   },
   {
    "duration": 12,
    "start_time": "2021-08-05T18:19:36.373Z"
   },
   {
    "duration": 12,
    "start_time": "2021-08-05T18:19:52.115Z"
   },
   {
    "duration": 15,
    "start_time": "2021-08-05T18:20:01.234Z"
   },
   {
    "duration": 63,
    "start_time": "2021-08-05T18:20:08.134Z"
   },
   {
    "duration": 7,
    "start_time": "2021-08-05T18:20:13.998Z"
   },
   {
    "duration": 13,
    "start_time": "2021-08-05T18:20:20.688Z"
   },
   {
    "duration": 6,
    "start_time": "2021-08-05T18:20:33.186Z"
   },
   {
    "duration": 11,
    "start_time": "2021-08-05T18:20:33.628Z"
   },
   {
    "duration": 14,
    "start_time": "2021-08-05T18:20:34.325Z"
   },
   {
    "duration": 92,
    "start_time": "2021-08-05T18:20:35.079Z"
   },
   {
    "duration": 10,
    "start_time": "2021-08-05T18:20:35.593Z"
   },
   {
    "duration": 19,
    "start_time": "2021-08-05T18:20:36.584Z"
   },
   {
    "duration": 8,
    "start_time": "2021-08-05T18:21:00.101Z"
   },
   {
    "duration": 9,
    "start_time": "2021-08-05T18:21:01.088Z"
   },
   {
    "duration": 16,
    "start_time": "2021-08-05T18:21:01.535Z"
   },
   {
    "duration": 115,
    "start_time": "2021-08-05T18:21:01.971Z"
   },
   {
    "duration": 8,
    "start_time": "2021-08-05T18:21:02.453Z"
   },
   {
    "duration": 14,
    "start_time": "2021-08-05T18:21:04.808Z"
   },
   {
    "duration": 5,
    "start_time": "2021-08-05T18:21:28.021Z"
   },
   {
    "duration": 9,
    "start_time": "2021-08-05T18:21:28.381Z"
   },
   {
    "duration": 10,
    "start_time": "2021-08-05T18:21:28.585Z"
   },
   {
    "duration": 77,
    "start_time": "2021-08-05T18:21:28.891Z"
   },
   {
    "duration": 9,
    "start_time": "2021-08-05T18:21:29.155Z"
   },
   {
    "duration": 32,
    "start_time": "2021-08-05T18:21:29.955Z"
   },
   {
    "duration": 8,
    "start_time": "2021-08-05T21:08:27.984Z"
   },
   {
    "duration": 11,
    "start_time": "2021-08-05T21:08:28.336Z"
   },
   {
    "duration": 11,
    "start_time": "2021-08-05T21:08:28.636Z"
   },
   {
    "duration": 51,
    "start_time": "2021-08-05T21:08:28.977Z"
   },
   {
    "duration": 8,
    "start_time": "2021-08-05T21:08:29.479Z"
   },
   {
    "duration": 14,
    "start_time": "2021-08-05T21:08:30.141Z"
   },
   {
    "duration": 4620,
    "start_time": "2021-08-05T22:20:38.325Z"
   },
   {
    "duration": 10,
    "start_time": "2021-08-05T22:23:38.235Z"
   },
   {
    "duration": 52,
    "start_time": "2021-08-05T22:23:39.151Z"
   },
   {
    "duration": 7,
    "start_time": "2021-08-05T22:23:39.513Z"
   },
   {
    "duration": 15,
    "start_time": "2021-08-05T22:23:39.883Z"
   },
   {
    "duration": 6,
    "start_time": "2021-08-05T22:23:41.273Z"
   },
   {
    "duration": 11,
    "start_time": "2021-08-05T22:23:42.187Z"
   },
   {
    "duration": 11,
    "start_time": "2021-08-05T22:23:42.411Z"
   },
   {
    "duration": 63,
    "start_time": "2021-08-05T22:23:42.602Z"
   },
   {
    "duration": 9,
    "start_time": "2021-08-05T22:23:43.071Z"
   },
   {
    "duration": 8,
    "start_time": "2021-08-05T22:23:48.421Z"
   },
   {
    "duration": 12,
    "start_time": "2021-08-05T22:23:48.747Z"
   },
   {
    "duration": 13,
    "start_time": "2021-08-05T22:23:49.385Z"
   },
   {
    "duration": 73,
    "start_time": "2021-08-05T22:23:50.035Z"
   },
   {
    "duration": 10,
    "start_time": "2021-08-05T22:23:50.349Z"
   },
   {
    "duration": 18,
    "start_time": "2021-08-05T22:23:50.693Z"
   },
   {
    "duration": 9,
    "start_time": "2021-08-05T22:24:02.959Z"
   },
   {
    "duration": 11,
    "start_time": "2021-08-05T22:24:03.274Z"
   },
   {
    "duration": 12,
    "start_time": "2021-08-05T22:24:03.499Z"
   },
   {
    "duration": 109,
    "start_time": "2021-08-05T22:24:03.753Z"
   },
   {
    "duration": 10,
    "start_time": "2021-08-05T22:24:03.965Z"
   },
   {
    "duration": 17,
    "start_time": "2021-08-05T22:24:04.301Z"
   },
   {
    "duration": 11,
    "start_time": "2021-08-05T22:25:26.221Z"
   },
   {
    "duration": 10,
    "start_time": "2021-08-05T22:25:46.673Z"
   },
   {
    "duration": 10,
    "start_time": "2021-08-05T22:26:38.888Z"
   },
   {
    "duration": 10,
    "start_time": "2021-08-05T22:26:40.598Z"
   },
   {
    "duration": 57,
    "start_time": "2021-08-05T22:26:41.534Z"
   },
   {
    "duration": 9,
    "start_time": "2021-08-05T22:26:41.779Z"
   },
   {
    "duration": 21,
    "start_time": "2021-08-05T22:26:42.377Z"
   },
   {
    "duration": 10,
    "start_time": "2021-08-05T22:26:44.856Z"
   },
   {
    "duration": 12,
    "start_time": "2021-08-05T22:26:45.599Z"
   },
   {
    "duration": 81,
    "start_time": "2021-08-05T22:26:46.284Z"
   },
   {
    "duration": 9,
    "start_time": "2021-08-05T22:26:47.108Z"
   },
   {
    "duration": 18,
    "start_time": "2021-08-05T22:26:48.384Z"
   },
   {
    "duration": 14,
    "start_time": "2021-08-05T22:26:51.295Z"
   },
   {
    "duration": 691,
    "start_time": "2021-08-05T22:26:52.787Z"
   },
   {
    "duration": 19,
    "start_time": "2021-08-05T22:26:53.693Z"
   },
   {
    "duration": 13,
    "start_time": "2021-08-05T22:26:57.280Z"
   },
   {
    "duration": 463,
    "start_time": "2021-08-05T22:26:57.799Z"
   },
   {
    "duration": 14,
    "start_time": "2021-08-05T22:26:58.521Z"
   },
   {
    "duration": 90,
    "start_time": "2021-08-05T22:28:18.234Z"
   },
   {
    "duration": 72,
    "start_time": "2021-08-05T22:28:21.758Z"
   },
   {
    "duration": 1540,
    "start_time": "2021-08-05T22:53:00.087Z"
   },
   {
    "duration": 4115,
    "start_time": "2021-08-05T22:53:01.629Z"
   },
   {
    "duration": 3,
    "start_time": "2021-08-05T22:53:05.748Z"
   },
   {
    "duration": 109,
    "start_time": "2021-08-05T22:53:05.754Z"
   },
   {
    "duration": 25,
    "start_time": "2021-08-05T22:53:05.866Z"
   },
   {
    "duration": 10,
    "start_time": "2021-08-05T22:53:05.894Z"
   },
   {
    "duration": 100,
    "start_time": "2021-08-05T22:53:05.907Z"
   },
   {
    "duration": 61,
    "start_time": "2021-08-05T22:53:06.009Z"
   },
   {
    "duration": 4,
    "start_time": "2021-08-05T22:53:06.077Z"
   },
   {
    "duration": 28,
    "start_time": "2021-08-05T22:53:06.085Z"
   },
   {
    "duration": 6,
    "start_time": "2021-08-05T22:53:06.116Z"
   },
   {
    "duration": 506,
    "start_time": "2021-08-05T22:53:06.161Z"
   },
   {
    "duration": -43,
    "start_time": "2021-08-05T22:53:06.713Z"
   },
   {
    "duration": -46,
    "start_time": "2021-08-05T22:53:06.717Z"
   },
   {
    "duration": -46,
    "start_time": "2021-08-05T22:53:06.719Z"
   },
   {
    "duration": -49,
    "start_time": "2021-08-05T22:53:06.723Z"
   },
   {
    "duration": -50,
    "start_time": "2021-08-05T22:53:06.725Z"
   },
   {
    "duration": -50,
    "start_time": "2021-08-05T22:53:06.727Z"
   },
   {
    "duration": -51,
    "start_time": "2021-08-05T22:53:06.729Z"
   },
   {
    "duration": -53,
    "start_time": "2021-08-05T22:53:06.732Z"
   },
   {
    "duration": -54,
    "start_time": "2021-08-05T22:53:06.734Z"
   },
   {
    "duration": -55,
    "start_time": "2021-08-05T22:53:06.737Z"
   },
   {
    "duration": -57,
    "start_time": "2021-08-05T22:53:06.740Z"
   },
   {
    "duration": -58,
    "start_time": "2021-08-05T22:53:06.742Z"
   },
   {
    "duration": -64,
    "start_time": "2021-08-05T22:53:06.749Z"
   },
   {
    "duration": -65,
    "start_time": "2021-08-05T22:53:06.752Z"
   },
   {
    "duration": -67,
    "start_time": "2021-08-05T22:53:06.755Z"
   },
   {
    "duration": -68,
    "start_time": "2021-08-05T22:53:06.757Z"
   },
   {
    "duration": -81,
    "start_time": "2021-08-05T22:53:06.772Z"
   },
   {
    "duration": -84,
    "start_time": "2021-08-05T22:53:06.776Z"
   },
   {
    "duration": -86,
    "start_time": "2021-08-05T22:53:06.779Z"
   },
   {
    "duration": -92,
    "start_time": "2021-08-05T22:53:06.786Z"
   },
   {
    "duration": -93,
    "start_time": "2021-08-05T22:53:06.789Z"
   },
   {
    "duration": -94,
    "start_time": "2021-08-05T22:53:06.791Z"
   },
   {
    "duration": -95,
    "start_time": "2021-08-05T22:53:06.794Z"
   },
   {
    "duration": -96,
    "start_time": "2021-08-05T22:53:06.796Z"
   },
   {
    "duration": -97,
    "start_time": "2021-08-05T22:53:06.798Z"
   },
   {
    "duration": 8,
    "start_time": "2021-08-05T22:55:08.895Z"
   },
   {
    "duration": 4425,
    "start_time": "2021-08-05T22:55:11.878Z"
   },
   {
    "duration": 2020,
    "start_time": "2021-08-05T22:55:16.306Z"
   },
   {
    "duration": 2130,
    "start_time": "2021-08-05T22:59:07.766Z"
   },
   {
    "duration": 3435,
    "start_time": "2021-08-05T22:59:09.900Z"
   },
   {
    "duration": 4,
    "start_time": "2021-08-05T22:59:13.339Z"
   },
   {
    "duration": 128,
    "start_time": "2021-08-05T22:59:13.346Z"
   },
   {
    "duration": 24,
    "start_time": "2021-08-05T22:59:13.477Z"
   },
   {
    "duration": 13,
    "start_time": "2021-08-05T22:59:13.503Z"
   },
   {
    "duration": 101,
    "start_time": "2021-08-05T22:59:13.518Z"
   },
   {
    "duration": 59,
    "start_time": "2021-08-05T22:59:13.621Z"
   },
   {
    "duration": 4,
    "start_time": "2021-08-05T22:59:13.684Z"
   },
   {
    "duration": 33,
    "start_time": "2021-08-05T22:59:13.691Z"
   },
   {
    "duration": 5,
    "start_time": "2021-08-05T22:59:13.727Z"
   },
   {
    "duration": 36,
    "start_time": "2021-08-05T22:59:13.734Z"
   },
   {
    "duration": 4652,
    "start_time": "2021-08-05T22:59:13.773Z"
   },
   {
    "duration": 2060,
    "start_time": "2021-08-05T22:59:18.428Z"
   },
   {
    "duration": 2161,
    "start_time": "2021-08-05T22:59:20.491Z"
   },
   {
    "duration": 11,
    "start_time": "2021-08-05T22:59:22.662Z"
   },
   {
    "duration": 18,
    "start_time": "2021-08-05T22:59:22.676Z"
   },
   {
    "duration": 66,
    "start_time": "2021-08-05T22:59:22.697Z"
   },
   {
    "duration": 102,
    "start_time": "2021-08-05T22:59:22.766Z"
   },
   {
    "duration": 103,
    "start_time": "2021-08-05T22:59:22.872Z"
   },
   {
    "duration": 10,
    "start_time": "2021-08-05T22:59:22.977Z"
   },
   {
    "duration": 9,
    "start_time": "2021-08-05T22:59:22.990Z"
   },
   {
    "duration": 73,
    "start_time": "2021-08-05T22:59:23.001Z"
   },
   {
    "duration": 7,
    "start_time": "2021-08-05T22:59:23.077Z"
   },
   {
    "duration": 14,
    "start_time": "2021-08-05T22:59:23.087Z"
   },
   {
    "duration": 10,
    "start_time": "2021-08-05T22:59:23.103Z"
   },
   {
    "duration": 517,
    "start_time": "2021-08-05T22:59:23.118Z"
   },
   {
    "duration": 25,
    "start_time": "2021-08-05T22:59:23.638Z"
   },
   {
    "duration": 12,
    "start_time": "2021-08-05T22:59:23.666Z"
   },
   {
    "duration": 476,
    "start_time": "2021-08-05T22:59:23.680Z"
   },
   {
    "duration": 14,
    "start_time": "2021-08-05T22:59:24.159Z"
   },
   {
    "duration": 10,
    "start_time": "2021-08-05T22:59:24.176Z"
   },
   {
    "duration": 1305,
    "start_time": "2021-08-05T22:59:24.189Z"
   },
   {
    "duration": 173697,
    "start_time": "2021-08-05T22:59:25.497Z"
   },
   {
    "duration": 1900,
    "start_time": "2021-08-05T23:02:19.197Z"
   },
   {
    "duration": 37462,
    "start_time": "2021-08-05T23:02:21.100Z"
   },
   {
    "duration": 13,
    "start_time": "2021-08-05T23:02:58.565Z"
   },
   {
    "duration": -69,
    "start_time": "2021-08-05T23:02:59.074Z"
   },
   {
    "duration": 26,
    "start_time": "2021-08-05T23:05:12.690Z"
   },
   {
    "duration": 27,
    "start_time": "2021-08-05T23:06:15.839Z"
   },
   {
    "duration": 5,
    "start_time": "2021-08-05T23:06:39.410Z"
   },
   {
    "duration": 6843,
    "start_time": "2021-08-05T23:07:23.909Z"
   },
   {
    "duration": 5522,
    "start_time": "2021-08-05T23:09:01.195Z"
   },
   {
    "duration": 1255,
    "start_time": "2021-08-05T23:10:43.078Z"
   },
   {
    "duration": 4329,
    "start_time": "2021-08-05T23:11:52.762Z"
   },
   {
    "duration": 6564,
    "start_time": "2021-08-05T23:12:27.653Z"
   },
   {
    "duration": 28,
    "start_time": "2021-08-05T23:13:07.089Z"
   },
   {
    "duration": 10,
    "start_time": "2021-08-05T23:13:18.059Z"
   },
   {
    "duration": 4518,
    "start_time": "2021-08-05T23:13:42.550Z"
   },
   {
    "duration": 4493,
    "start_time": "2021-08-05T23:14:13.492Z"
   },
   {
    "duration": 109,
    "start_time": "2021-08-05T23:16:47.390Z"
   },
   {
    "duration": 34659,
    "start_time": "2021-08-05T23:16:58.116Z"
   },
   {
    "duration": 9,
    "start_time": "2021-08-05T23:33:45.136Z"
   },
   {
    "duration": 311,
    "start_time": "2021-08-05T23:33:47.982Z"
   },
   {
    "duration": 7,
    "start_time": "2021-08-05T23:34:20.476Z"
   },
   {
    "duration": 7035,
    "start_time": "2021-08-05T23:34:21.192Z"
   },
   {
    "duration": 7847,
    "start_time": "2021-08-05T23:34:33.797Z"
   },
   {
    "duration": 2657,
    "start_time": "2021-08-06T00:20:07.964Z"
   },
   {
    "duration": 3874,
    "start_time": "2021-08-06T00:20:20.977Z"
   },
   {
    "duration": 4519,
    "start_time": "2021-08-06T00:20:28.779Z"
   },
   {
    "duration": 8074,
    "start_time": "2021-08-06T00:21:13.967Z"
   },
   {
    "duration": 669,
    "start_time": "2021-08-06T00:22:02.609Z"
   },
   {
    "duration": 7925,
    "start_time": "2021-08-06T00:22:50.671Z"
   },
   {
    "duration": 8133,
    "start_time": "2021-08-06T00:25:52.397Z"
   },
   {
    "duration": 7843,
    "start_time": "2021-08-06T00:26:21.706Z"
   },
   {
    "duration": 8052,
    "start_time": "2021-08-06T00:26:40.928Z"
   },
   {
    "duration": 31,
    "start_time": "2021-08-06T00:35:11.266Z"
   },
   {
    "duration": 13,
    "start_time": "2021-08-06T00:35:54.283Z"
   },
   {
    "duration": 17,
    "start_time": "2021-08-06T00:36:28.951Z"
   },
   {
    "duration": 1422,
    "start_time": "2021-08-06T00:37:14.481Z"
   },
   {
    "duration": 12335,
    "start_time": "2021-08-06T00:39:54.099Z"
   },
   {
    "duration": 18,
    "start_time": "2021-08-06T00:42:35.945Z"
   },
   {
    "duration": 17,
    "start_time": "2021-08-06T00:42:37.979Z"
   },
   {
    "duration": 1654,
    "start_time": "2021-08-06T00:51:29.866Z"
   },
   {
    "duration": 23176,
    "start_time": "2021-08-06T00:51:56.230Z"
   },
   {
    "duration": 1279,
    "start_time": "2021-08-06T00:53:31.918Z"
   },
   {
    "duration": 20419,
    "start_time": "2021-08-06T00:54:35.898Z"
   },
   {
    "duration": 25675,
    "start_time": "2021-08-06T00:55:54.231Z"
   },
   {
    "duration": 19936,
    "start_time": "2021-08-06T00:57:04.326Z"
   },
   {
    "duration": 17757,
    "start_time": "2021-08-06T00:57:31.976Z"
   },
   {
    "duration": 1564,
    "start_time": "2021-08-06T01:15:36.270Z"
   },
   {
    "duration": 3676,
    "start_time": "2021-08-06T01:15:37.837Z"
   },
   {
    "duration": 4,
    "start_time": "2021-08-06T01:15:41.516Z"
   },
   {
    "duration": 122,
    "start_time": "2021-08-06T01:15:41.522Z"
   },
   {
    "duration": 34,
    "start_time": "2021-08-06T01:15:41.647Z"
   },
   {
    "duration": 15,
    "start_time": "2021-08-06T01:15:41.684Z"
   },
   {
    "duration": 139,
    "start_time": "2021-08-06T01:15:41.702Z"
   },
   {
    "duration": 68,
    "start_time": "2021-08-06T01:15:41.844Z"
   },
   {
    "duration": 5,
    "start_time": "2021-08-06T01:15:41.918Z"
   },
   {
    "duration": 65,
    "start_time": "2021-08-06T01:15:41.927Z"
   },
   {
    "duration": 7,
    "start_time": "2021-08-06T01:15:41.995Z"
   },
   {
    "duration": 12,
    "start_time": "2021-08-06T01:15:42.005Z"
   },
   {
    "duration": 7011,
    "start_time": "2021-08-06T01:15:42.020Z"
   },
   {
    "duration": 3095,
    "start_time": "2021-08-06T01:15:49.034Z"
   },
   {
    "duration": 3014,
    "start_time": "2021-08-06T01:15:52.132Z"
   },
   {
    "duration": 21,
    "start_time": "2021-08-06T01:15:55.149Z"
   },
   {
    "duration": 33,
    "start_time": "2021-08-06T01:15:55.173Z"
   },
   {
    "duration": 63,
    "start_time": "2021-08-06T01:15:55.209Z"
   },
   {
    "duration": 91,
    "start_time": "2021-08-06T01:15:55.279Z"
   },
   {
    "duration": 22,
    "start_time": "2021-08-06T01:15:55.464Z"
   },
   {
    "duration": 12,
    "start_time": "2021-08-06T01:15:55.489Z"
   },
   {
    "duration": 22,
    "start_time": "2021-08-06T01:15:55.504Z"
   },
   {
    "duration": 80,
    "start_time": "2021-08-06T01:15:55.529Z"
   },
   {
    "duration": 9,
    "start_time": "2021-08-06T01:15:55.612Z"
   },
   {
    "duration": 38,
    "start_time": "2021-08-06T01:15:55.624Z"
   },
   {
    "duration": 13,
    "start_time": "2021-08-06T01:15:55.665Z"
   },
   {
    "duration": 740,
    "start_time": "2021-08-06T01:15:55.686Z"
   },
   {
    "duration": 32,
    "start_time": "2021-08-06T01:15:56.430Z"
   },
   {
    "duration": 13,
    "start_time": "2021-08-06T01:15:56.465Z"
   },
   {
    "duration": 690,
    "start_time": "2021-08-06T01:15:56.481Z"
   },
   {
    "duration": 20,
    "start_time": "2021-08-06T01:15:57.174Z"
   },
   {
    "duration": 13,
    "start_time": "2021-08-06T01:15:57.197Z"
   },
   {
    "duration": 1329,
    "start_time": "2021-08-06T01:15:57.214Z"
   },
   {
    "duration": 146003,
    "start_time": "2021-08-06T01:15:58.546Z"
   },
   {
    "duration": 1928,
    "start_time": "2021-08-06T01:18:24.552Z"
   },
   {
    "duration": 8,
    "start_time": "2021-08-06T01:18:26.483Z"
   },
   {
    "duration": 17627,
    "start_time": "2021-08-06T01:18:26.494Z"
   },
   {
    "duration": 2701,
    "start_time": "2021-08-06T01:18:44.123Z"
   },
   {
    "duration": 13,
    "start_time": "2021-08-06T01:18:46.827Z"
   },
   {
    "duration": 13,
    "start_time": "2021-08-06T01:18:46.861Z"
   },
   {
    "duration": 1092,
    "start_time": "2021-08-06T05:22:39.147Z"
   },
   {
    "duration": 38818,
    "start_time": "2021-08-06T05:22:40.240Z"
   },
   {
    "duration": 3,
    "start_time": "2021-08-06T05:23:19.060Z"
   },
   {
    "duration": 95,
    "start_time": "2021-08-06T05:23:19.065Z"
   },
   {
    "duration": 14,
    "start_time": "2021-08-06T05:23:19.161Z"
   },
   {
    "duration": 10,
    "start_time": "2021-08-06T05:23:19.177Z"
   },
   {
    "duration": 39,
    "start_time": "2021-08-06T05:23:19.189Z"
   },
   {
    "duration": 24,
    "start_time": "2021-08-06T05:23:19.230Z"
   },
   {
    "duration": 3,
    "start_time": "2021-08-06T05:23:19.256Z"
   },
   {
    "duration": 15,
    "start_time": "2021-08-06T05:23:19.260Z"
   },
   {
    "duration": 3,
    "start_time": "2021-08-06T05:23:19.291Z"
   },
   {
    "duration": 6,
    "start_time": "2021-08-06T05:23:19.296Z"
   },
   {
    "duration": 700,
    "start_time": "2021-08-06T05:23:19.304Z"
   },
   {
    "duration": -77,
    "start_time": "2021-08-06T05:23:20.083Z"
   },
   {
    "duration": -84,
    "start_time": "2021-08-06T05:23:20.091Z"
   },
   {
    "duration": -87,
    "start_time": "2021-08-06T05:23:20.094Z"
   },
   {
    "duration": -88,
    "start_time": "2021-08-06T05:23:20.096Z"
   },
   {
    "duration": -89,
    "start_time": "2021-08-06T05:23:20.098Z"
   },
   {
    "duration": -90,
    "start_time": "2021-08-06T05:23:20.100Z"
   },
   {
    "duration": -91,
    "start_time": "2021-08-06T05:23:20.102Z"
   },
   {
    "duration": -95,
    "start_time": "2021-08-06T05:23:20.107Z"
   },
   {
    "duration": -97,
    "start_time": "2021-08-06T05:23:20.110Z"
   },
   {
    "duration": -99,
    "start_time": "2021-08-06T05:23:20.112Z"
   },
   {
    "duration": -263,
    "start_time": "2021-08-06T05:23:20.277Z"
   },
   {
    "duration": -264,
    "start_time": "2021-08-06T05:23:20.279Z"
   },
   {
    "duration": -266,
    "start_time": "2021-08-06T05:23:20.282Z"
   },
   {
    "duration": -268,
    "start_time": "2021-08-06T05:23:20.285Z"
   },
   {
    "duration": -270,
    "start_time": "2021-08-06T05:23:20.288Z"
   },
   {
    "duration": -272,
    "start_time": "2021-08-06T05:23:20.290Z"
   },
   {
    "duration": -273,
    "start_time": "2021-08-06T05:23:20.292Z"
   },
   {
    "duration": -275,
    "start_time": "2021-08-06T05:23:20.295Z"
   },
   {
    "duration": -276,
    "start_time": "2021-08-06T05:23:20.297Z"
   },
   {
    "duration": -278,
    "start_time": "2021-08-06T05:23:20.300Z"
   },
   {
    "duration": -281,
    "start_time": "2021-08-06T05:23:20.303Z"
   },
   {
    "duration": -282,
    "start_time": "2021-08-06T05:23:20.305Z"
   },
   {
    "duration": -284,
    "start_time": "2021-08-06T05:23:20.308Z"
   },
   {
    "duration": -285,
    "start_time": "2021-08-06T05:23:20.310Z"
   },
   {
    "duration": -286,
    "start_time": "2021-08-06T05:23:20.312Z"
   },
   {
    "duration": -288,
    "start_time": "2021-08-06T05:23:20.315Z"
   },
   {
    "duration": -289,
    "start_time": "2021-08-06T05:23:20.317Z"
   },
   {
    "duration": 1102,
    "start_time": "2021-08-06T05:30:33.246Z"
   },
   {
    "duration": 3,
    "start_time": "2021-08-06T05:30:34.349Z"
   },
   {
    "duration": 8,
    "start_time": "2021-08-06T05:30:34.353Z"
   },
   {
    "duration": 98,
    "start_time": "2021-08-06T05:30:34.363Z"
   },
   {
    "duration": 13,
    "start_time": "2021-08-06T05:30:34.462Z"
   },
   {
    "duration": 6,
    "start_time": "2021-08-06T05:30:34.476Z"
   },
   {
    "duration": 39,
    "start_time": "2021-08-06T05:30:34.484Z"
   },
   {
    "duration": 25,
    "start_time": "2021-08-06T05:30:34.524Z"
   },
   {
    "duration": 4,
    "start_time": "2021-08-06T05:30:34.551Z"
   },
   {
    "duration": 35,
    "start_time": "2021-08-06T05:30:34.558Z"
   },
   {
    "duration": 4,
    "start_time": "2021-08-06T05:30:34.595Z"
   },
   {
    "duration": 15,
    "start_time": "2021-08-06T05:30:34.601Z"
   },
   {
    "duration": 2478,
    "start_time": "2021-08-06T05:30:34.618Z"
   },
   {
    "duration": 1053,
    "start_time": "2021-08-06T05:30:37.097Z"
   },
   {
    "duration": 1187,
    "start_time": "2021-08-06T05:30:38.152Z"
   },
   {
    "duration": 8,
    "start_time": "2021-08-06T05:30:39.341Z"
   },
   {
    "duration": 17,
    "start_time": "2021-08-06T05:30:39.351Z"
   },
   {
    "duration": 40,
    "start_time": "2021-08-06T05:30:39.370Z"
   },
   {
    "duration": 81,
    "start_time": "2021-08-06T05:30:39.412Z"
   },
   {
    "duration": 107,
    "start_time": "2021-08-06T05:30:39.495Z"
   },
   {
    "duration": 14,
    "start_time": "2021-08-06T05:30:39.604Z"
   },
   {
    "duration": 23,
    "start_time": "2021-08-06T05:30:39.620Z"
   },
   {
    "duration": 20,
    "start_time": "2021-08-06T05:30:39.644Z"
   },
   {
    "duration": 5,
    "start_time": "2021-08-06T05:30:39.666Z"
   },
   {
    "duration": 10,
    "start_time": "2021-08-06T05:30:39.672Z"
   },
   {
    "duration": 10,
    "start_time": "2021-08-06T05:30:39.684Z"
   },
   {
    "duration": 295,
    "start_time": "2021-08-06T05:30:39.698Z"
   },
   {
    "duration": 9,
    "start_time": "2021-08-06T05:30:39.995Z"
   },
   {
    "duration": 7,
    "start_time": "2021-08-06T05:30:40.006Z"
   },
   {
    "duration": 283,
    "start_time": "2021-08-06T05:30:40.014Z"
   },
   {
    "duration": 9,
    "start_time": "2021-08-06T05:30:40.298Z"
   },
   {
    "duration": 6,
    "start_time": "2021-08-06T05:30:40.309Z"
   },
   {
    "duration": 569,
    "start_time": "2021-08-06T05:30:40.316Z"
   },
   {
    "duration": 74462,
    "start_time": "2021-08-06T05:30:40.887Z"
   },
   {
    "duration": 1454,
    "start_time": "2021-08-06T05:31:55.350Z"
   },
   {
    "duration": 4,
    "start_time": "2021-08-06T05:31:56.806Z"
   },
   {
    "duration": 9430,
    "start_time": "2021-08-06T05:31:56.812Z"
   },
   {
    "duration": 1366,
    "start_time": "2021-08-06T05:32:06.244Z"
   },
   {
    "duration": 9,
    "start_time": "2021-08-06T05:32:07.612Z"
   },
   {
    "duration": 11,
    "start_time": "2021-08-06T05:32:07.622Z"
   },
   {
    "duration": 4,
    "start_time": "2021-08-06T05:40:51.496Z"
   },
   {
    "duration": 4,
    "start_time": "2021-08-06T05:41:00.456Z"
   },
   {
    "duration": 3,
    "start_time": "2021-08-06T05:41:06.098Z"
   },
   {
    "duration": 4,
    "start_time": "2021-08-06T05:42:24.811Z"
   },
   {
    "duration": 3,
    "start_time": "2021-08-06T05:42:56.915Z"
   },
   {
    "duration": 4,
    "start_time": "2021-08-06T05:43:01.356Z"
   },
   {
    "duration": 3,
    "start_time": "2021-08-06T05:43:07.016Z"
   },
   {
    "duration": 3,
    "start_time": "2021-08-06T05:43:08.856Z"
   },
   {
    "duration": 1139,
    "start_time": "2021-08-06T05:44:36.714Z"
   },
   {
    "duration": 2,
    "start_time": "2021-08-06T05:44:37.855Z"
   },
   {
    "duration": 4,
    "start_time": "2021-08-06T05:44:37.859Z"
   },
   {
    "duration": 100,
    "start_time": "2021-08-06T05:44:37.865Z"
   },
   {
    "duration": 12,
    "start_time": "2021-08-06T05:44:37.967Z"
   },
   {
    "duration": 10,
    "start_time": "2021-08-06T05:44:37.981Z"
   },
   {
    "duration": 38,
    "start_time": "2021-08-06T05:44:37.992Z"
   },
   {
    "duration": 24,
    "start_time": "2021-08-06T05:44:38.032Z"
   },
   {
    "duration": 3,
    "start_time": "2021-08-06T05:44:38.058Z"
   },
   {
    "duration": 37,
    "start_time": "2021-08-06T05:44:38.063Z"
   },
   {
    "duration": 4,
    "start_time": "2021-08-06T05:44:38.102Z"
   },
   {
    "duration": 10,
    "start_time": "2021-08-06T05:44:38.107Z"
   },
   {
    "duration": 2374,
    "start_time": "2021-08-06T05:44:38.118Z"
   },
   {
    "duration": 1081,
    "start_time": "2021-08-06T05:44:40.493Z"
   },
   {
    "duration": 1175,
    "start_time": "2021-08-06T05:44:41.576Z"
   },
   {
    "duration": 7,
    "start_time": "2021-08-06T05:44:42.753Z"
   },
   {
    "duration": 7,
    "start_time": "2021-08-06T05:44:42.762Z"
   },
   {
    "duration": 37,
    "start_time": "2021-08-06T05:44:42.771Z"
   },
   {
    "duration": 83,
    "start_time": "2021-08-06T05:44:42.810Z"
   },
   {
    "duration": 106,
    "start_time": "2021-08-06T05:44:42.895Z"
   },
   {
    "duration": 6,
    "start_time": "2021-08-06T05:44:43.003Z"
   },
   {
    "duration": 7,
    "start_time": "2021-08-06T05:44:43.010Z"
   },
   {
    "duration": 19,
    "start_time": "2021-08-06T05:44:43.019Z"
   },
   {
    "duration": 5,
    "start_time": "2021-08-06T05:44:43.040Z"
   },
   {
    "duration": 13,
    "start_time": "2021-08-06T05:44:43.046Z"
   },
   {
    "duration": 7,
    "start_time": "2021-08-06T05:44:43.060Z"
   },
   {
    "duration": 292,
    "start_time": "2021-08-06T05:44:43.092Z"
   },
   {
    "duration": 8,
    "start_time": "2021-08-06T05:44:43.386Z"
   },
   {
    "duration": 6,
    "start_time": "2021-08-06T05:44:43.396Z"
   },
   {
    "duration": 288,
    "start_time": "2021-08-06T05:44:43.403Z"
   },
   {
    "duration": 8,
    "start_time": "2021-08-06T05:44:43.692Z"
   },
   {
    "duration": 6,
    "start_time": "2021-08-06T05:44:43.702Z"
   },
   {
    "duration": 3,
    "start_time": "2021-08-06T05:44:43.709Z"
   },
   {
    "duration": 6,
    "start_time": "2021-08-06T05:44:43.714Z"
   },
   {
    "duration": 341,
    "start_time": "2021-08-06T05:44:43.721Z"
   },
   {
    "duration": -745,
    "start_time": "2021-08-06T05:44:44.809Z"
   },
   {
    "duration": -750,
    "start_time": "2021-08-06T05:44:44.814Z"
   },
   {
    "duration": -755,
    "start_time": "2021-08-06T05:44:44.820Z"
   },
   {
    "duration": -761,
    "start_time": "2021-08-06T05:44:44.827Z"
   },
   {
    "duration": -764,
    "start_time": "2021-08-06T05:44:44.831Z"
   },
   {
    "duration": -770,
    "start_time": "2021-08-06T05:44:44.838Z"
   },
   {
    "duration": -774,
    "start_time": "2021-08-06T05:44:44.842Z"
   },
   {
    "duration": -778,
    "start_time": "2021-08-06T05:44:44.847Z"
   },
   {
    "duration": -802,
    "start_time": "2021-08-06T05:44:44.872Z"
   },
   {
    "duration": 1147,
    "start_time": "2021-08-06T05:45:01.519Z"
   },
   {
    "duration": 3,
    "start_time": "2021-08-06T05:45:02.667Z"
   },
   {
    "duration": 13,
    "start_time": "2021-08-06T05:45:02.671Z"
   },
   {
    "duration": 100,
    "start_time": "2021-08-06T05:45:02.686Z"
   },
   {
    "duration": 13,
    "start_time": "2021-08-06T05:45:02.787Z"
   },
   {
    "duration": 10,
    "start_time": "2021-08-06T05:45:02.801Z"
   },
   {
    "duration": 42,
    "start_time": "2021-08-06T05:45:02.812Z"
   },
   {
    "duration": 24,
    "start_time": "2021-08-06T05:45:02.856Z"
   },
   {
    "duration": 5,
    "start_time": "2021-08-06T05:45:02.892Z"
   },
   {
    "duration": 15,
    "start_time": "2021-08-06T05:45:02.899Z"
   },
   {
    "duration": 3,
    "start_time": "2021-08-06T05:45:02.916Z"
   },
   {
    "duration": 6,
    "start_time": "2021-08-06T05:45:02.920Z"
   },
   {
    "duration": 2745,
    "start_time": "2021-08-06T05:45:02.928Z"
   },
   {
    "duration": 1089,
    "start_time": "2021-08-06T05:45:05.676Z"
   },
   {
    "duration": 1186,
    "start_time": "2021-08-06T05:45:06.767Z"
   },
   {
    "duration": 9,
    "start_time": "2021-08-06T05:45:07.955Z"
   },
   {
    "duration": 14,
    "start_time": "2021-08-06T05:45:07.965Z"
   },
   {
    "duration": 32,
    "start_time": "2021-08-06T05:45:07.981Z"
   },
   {
    "duration": 80,
    "start_time": "2021-08-06T05:45:08.015Z"
   },
   {
    "duration": 101,
    "start_time": "2021-08-06T05:45:08.097Z"
   },
   {
    "duration": 8,
    "start_time": "2021-08-06T05:45:08.200Z"
   },
   {
    "duration": 9,
    "start_time": "2021-08-06T05:45:08.209Z"
   },
   {
    "duration": 20,
    "start_time": "2021-08-06T05:45:08.219Z"
   },
   {
    "duration": 4,
    "start_time": "2021-08-06T05:45:08.241Z"
   },
   {
    "duration": 18,
    "start_time": "2021-08-06T05:45:08.247Z"
   },
   {
    "duration": 8,
    "start_time": "2021-08-06T05:45:08.266Z"
   },
   {
    "duration": 302,
    "start_time": "2021-08-06T05:45:08.294Z"
   },
   {
    "duration": 8,
    "start_time": "2021-08-06T05:45:08.598Z"
   },
   {
    "duration": 6,
    "start_time": "2021-08-06T05:45:08.607Z"
   },
   {
    "duration": 290,
    "start_time": "2021-08-06T05:45:08.614Z"
   },
   {
    "duration": 8,
    "start_time": "2021-08-06T05:45:08.906Z"
   },
   {
    "duration": 13,
    "start_time": "2021-08-06T05:45:08.915Z"
   },
   {
    "duration": 5,
    "start_time": "2021-08-06T05:45:08.929Z"
   },
   {
    "duration": 7,
    "start_time": "2021-08-06T05:45:08.935Z"
   },
   {
    "duration": 12,
    "start_time": "2021-08-06T05:45:08.943Z"
   },
   {
    "duration": 17,
    "start_time": "2021-08-06T05:45:08.956Z"
   },
   {
    "duration": 17,
    "start_time": "2021-08-06T05:45:08.974Z"
   },
   {
    "duration": 558,
    "start_time": "2021-08-06T05:45:08.992Z"
   },
   {
    "duration": 75937,
    "start_time": "2021-08-06T05:45:09.551Z"
   },
   {
    "duration": 1519,
    "start_time": "2021-08-06T05:46:25.491Z"
   },
   {
    "duration": 4,
    "start_time": "2021-08-06T05:46:27.012Z"
   },
   {
    "duration": 9443,
    "start_time": "2021-08-06T05:46:27.018Z"
   },
   {
    "duration": 1405,
    "start_time": "2021-08-06T05:46:36.463Z"
   },
   {
    "duration": 22,
    "start_time": "2021-08-06T05:46:37.870Z"
   },
   {
    "duration": 9,
    "start_time": "2021-08-06T05:46:37.893Z"
   },
   {
    "duration": 1584,
    "start_time": "2021-08-17T00:04:28.656Z"
   },
   {
    "duration": 3,
    "start_time": "2021-08-17T00:04:30.244Z"
   },
   {
    "duration": 16,
    "start_time": "2021-08-17T00:04:30.251Z"
   },
   {
    "duration": 104,
    "start_time": "2021-08-17T00:04:30.271Z"
   },
   {
    "duration": 24,
    "start_time": "2021-08-17T00:04:30.377Z"
   },
   {
    "duration": 11,
    "start_time": "2021-08-17T00:04:30.403Z"
   },
   {
    "duration": 104,
    "start_time": "2021-08-17T00:04:30.417Z"
   },
   {
    "duration": 61,
    "start_time": "2021-08-17T00:04:30.527Z"
   },
   {
    "duration": 4,
    "start_time": "2021-08-17T00:04:30.591Z"
   },
   {
    "duration": 28,
    "start_time": "2021-08-17T00:04:30.598Z"
   },
   {
    "duration": 5,
    "start_time": "2021-08-17T00:04:30.628Z"
   },
   {
    "duration": 32,
    "start_time": "2021-08-17T00:04:30.636Z"
   },
   {
    "duration": 1174,
    "start_time": "2021-08-17T00:04:30.671Z"
   },
   {
    "duration": -81,
    "start_time": "2021-08-17T00:04:31.930Z"
   },
   {
    "duration": -83,
    "start_time": "2021-08-17T00:04:31.933Z"
   },
   {
    "duration": -84,
    "start_time": "2021-08-17T00:04:31.935Z"
   },
   {
    "duration": -85,
    "start_time": "2021-08-17T00:04:31.937Z"
   },
   {
    "duration": -87,
    "start_time": "2021-08-17T00:04:31.941Z"
   },
   {
    "duration": -78,
    "start_time": "2021-08-17T00:04:31.944Z"
   },
   {
    "duration": -79,
    "start_time": "2021-08-17T00:04:31.947Z"
   },
   {
    "duration": -81,
    "start_time": "2021-08-17T00:04:31.950Z"
   },
   {
    "duration": -81,
    "start_time": "2021-08-17T00:04:31.952Z"
   },
   {
    "duration": -85,
    "start_time": "2021-08-17T00:04:31.957Z"
   },
   {
    "duration": -87,
    "start_time": "2021-08-17T00:04:31.960Z"
   },
   {
    "duration": -89,
    "start_time": "2021-08-17T00:04:31.963Z"
   },
   {
    "duration": -90,
    "start_time": "2021-08-17T00:04:31.966Z"
   },
   {
    "duration": -92,
    "start_time": "2021-08-17T00:04:31.969Z"
   },
   {
    "duration": -93,
    "start_time": "2021-08-17T00:04:31.971Z"
   },
   {
    "duration": -94,
    "start_time": "2021-08-17T00:04:31.973Z"
   },
   {
    "duration": -95,
    "start_time": "2021-08-17T00:04:31.976Z"
   },
   {
    "duration": -96,
    "start_time": "2021-08-17T00:04:31.978Z"
   },
   {
    "duration": -98,
    "start_time": "2021-08-17T00:04:31.981Z"
   },
   {
    "duration": -100,
    "start_time": "2021-08-17T00:04:31.984Z"
   },
   {
    "duration": -101,
    "start_time": "2021-08-17T00:04:31.987Z"
   },
   {
    "duration": -106,
    "start_time": "2021-08-17T00:04:31.993Z"
   },
   {
    "duration": -108,
    "start_time": "2021-08-17T00:04:31.996Z"
   },
   {
    "duration": -109,
    "start_time": "2021-08-17T00:04:31.998Z"
   },
   {
    "duration": -111,
    "start_time": "2021-08-17T00:04:32.001Z"
   },
   {
    "duration": -112,
    "start_time": "2021-08-17T00:04:32.003Z"
   },
   {
    "duration": -113,
    "start_time": "2021-08-17T00:04:32.005Z"
   },
   {
    "duration": 4684,
    "start_time": "2021-08-17T00:06:10.281Z"
   },
   {
    "duration": 923,
    "start_time": "2021-08-17T00:06:19.281Z"
   },
   {
    "duration": 923,
    "start_time": "2021-08-17T00:06:22.705Z"
   },
   {
    "duration": 1602,
    "start_time": "2021-08-17T00:06:45.251Z"
   },
   {
    "duration": 3461,
    "start_time": "2021-08-17T00:06:46.856Z"
   },
   {
    "duration": 4,
    "start_time": "2021-08-17T00:06:50.321Z"
   },
   {
    "duration": 126,
    "start_time": "2021-08-17T00:06:50.327Z"
   },
   {
    "duration": 24,
    "start_time": "2021-08-17T00:06:50.455Z"
   },
   {
    "duration": 21,
    "start_time": "2021-08-17T00:06:50.482Z"
   },
   {
    "duration": 78,
    "start_time": "2021-08-17T00:06:50.505Z"
   },
   {
    "duration": 39,
    "start_time": "2021-08-17T00:06:50.586Z"
   },
   {
    "duration": 4,
    "start_time": "2021-08-17T00:06:50.631Z"
   },
   {
    "duration": 27,
    "start_time": "2021-08-17T00:06:50.667Z"
   },
   {
    "duration": 6,
    "start_time": "2021-08-17T00:06:50.697Z"
   },
   {
    "duration": 10,
    "start_time": "2021-08-17T00:06:50.707Z"
   },
   {
    "duration": 4430,
    "start_time": "2021-08-17T00:06:50.720Z"
   },
   {
    "duration": 2028,
    "start_time": "2021-08-17T00:06:55.153Z"
   },
   {
    "duration": 2127,
    "start_time": "2021-08-17T00:06:57.183Z"
   },
   {
    "duration": 10,
    "start_time": "2021-08-17T00:06:59.312Z"
   },
   {
    "duration": 13,
    "start_time": "2021-08-17T00:06:59.324Z"
   },
   {
    "duration": 69,
    "start_time": "2021-08-17T00:06:59.340Z"
   },
   {
    "duration": 64,
    "start_time": "2021-08-17T00:06:59.413Z"
   },
   {
    "duration": 14,
    "start_time": "2021-08-17T00:06:59.569Z"
   },
   {
    "duration": 10,
    "start_time": "2021-08-17T00:06:59.586Z"
   },
   {
    "duration": 8,
    "start_time": "2021-08-17T00:06:59.599Z"
   },
   {
    "duration": 82,
    "start_time": "2021-08-17T00:06:59.610Z"
   },
   {
    "duration": 7,
    "start_time": "2021-08-17T00:06:59.695Z"
   },
   {
    "duration": 12,
    "start_time": "2021-08-17T00:06:59.705Z"
   },
   {
    "duration": 9,
    "start_time": "2021-08-17T00:06:59.720Z"
   },
   {
    "duration": 591,
    "start_time": "2021-08-17T00:06:59.767Z"
   },
   {
    "duration": 18,
    "start_time": "2021-08-17T00:07:00.360Z"
   },
   {
    "duration": 14,
    "start_time": "2021-08-17T00:07:00.380Z"
   },
   {
    "duration": 466,
    "start_time": "2021-08-17T00:07:00.396Z"
   },
   {
    "duration": 14,
    "start_time": "2021-08-17T00:07:00.866Z"
   },
   {
    "duration": 10,
    "start_time": "2021-08-17T00:07:00.883Z"
   },
   {
    "duration": 885,
    "start_time": "2021-08-17T00:07:00.895Z"
   },
   {
    "duration": 5,
    "start_time": "2021-08-17T00:07:01.783Z"
   },
   {
    "duration": 1911,
    "start_time": "2021-08-17T00:07:01.791Z"
   },
   {
    "duration": 8,
    "start_time": "2021-08-17T00:07:03.704Z"
   },
   {
    "duration": 17276,
    "start_time": "2021-08-17T00:07:03.714Z"
   },
   {
    "duration": 2719,
    "start_time": "2021-08-17T00:07:20.993Z"
   },
   {
    "duration": 12,
    "start_time": "2021-08-17T00:07:23.715Z"
   },
   {
    "duration": 14,
    "start_time": "2021-08-17T00:07:23.729Z"
   },
   {
    "duration": 28,
    "start_time": "2021-08-17T00:07:52.093Z"
   }
  ],
  "kernelspec": {
   "display_name": "Python 3",
   "language": "python",
   "name": "python3"
  },
  "language_info": {
   "codemirror_mode": {
    "name": "ipython",
    "version": 3
   },
   "file_extension": ".py",
   "mimetype": "text/x-python",
   "name": "python",
   "nbconvert_exporter": "python",
   "pygments_lexer": "ipython3",
   "version": "3.8.8"
  },
  "toc": {
   "base_numbering": 1,
   "nav_menu": {},
   "number_sections": true,
   "sideBar": true,
   "skip_h1_title": true,
   "title_cell": "Table of Contents",
   "title_sidebar": "Contents",
   "toc_cell": false,
   "toc_position": {},
   "toc_section_display": true,
   "toc_window_display": true
  }
 },
 "nbformat": 4,
 "nbformat_minor": 2
}
